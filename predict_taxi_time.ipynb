{
 "cells": [
  {
   "cell_type": "markdown",
   "metadata": {},
   "source": [
    "# taxi time"
   ]
  },
  {
   "cell_type": "code",
   "execution_count": 7,
   "metadata": {
    "collapsed": true
   },
   "outputs": [],
   "source": [
    "import pandas as pd\n",
    "import numpy as np\n",
    "import matplotlib.pyplot as plt\n",
    "from IPython.display import display # Allows the use of display() for DataFrames\n",
    "# Pretty display for notebooks\n",
    "%matplotlib inline"
   ]
  },
  {
   "cell_type": "code",
   "execution_count": 3,
   "metadata": {
    "collapsed": false
   },
   "outputs": [],
   "source": [
    "df = pd.read_csv(\"train.csv\")"
   ]
  },
  {
   "cell_type": "code",
   "execution_count": 4,
   "metadata": {
    "collapsed": false
   },
   "outputs": [
    {
     "data": {
      "text/plain": [
       "(1458644, 11)"
      ]
     },
     "execution_count": 4,
     "metadata": {},
     "output_type": "execute_result"
    }
   ],
   "source": [
    "df.shape"
   ]
  },
  {
   "cell_type": "code",
   "execution_count": 5,
   "metadata": {
    "collapsed": false
   },
   "outputs": [
    {
     "data": {
      "text/html": [
       "<div>\n",
       "<style>\n",
       "    .dataframe thead tr:only-child th {\n",
       "        text-align: right;\n",
       "    }\n",
       "\n",
       "    .dataframe thead th {\n",
       "        text-align: left;\n",
       "    }\n",
       "\n",
       "    .dataframe tbody tr th {\n",
       "        vertical-align: top;\n",
       "    }\n",
       "</style>\n",
       "<table border=\"1\" class=\"dataframe\">\n",
       "  <thead>\n",
       "    <tr style=\"text-align: right;\">\n",
       "      <th></th>\n",
       "      <th>id</th>\n",
       "      <th>vendor_id</th>\n",
       "      <th>pickup_datetime</th>\n",
       "      <th>dropoff_datetime</th>\n",
       "      <th>passenger_count</th>\n",
       "      <th>pickup_longitude</th>\n",
       "      <th>pickup_latitude</th>\n",
       "      <th>dropoff_longitude</th>\n",
       "      <th>dropoff_latitude</th>\n",
       "      <th>store_and_fwd_flag</th>\n",
       "      <th>trip_duration</th>\n",
       "    </tr>\n",
       "  </thead>\n",
       "  <tbody>\n",
       "    <tr>\n",
       "      <th>0</th>\n",
       "      <td>id2875421</td>\n",
       "      <td>2</td>\n",
       "      <td>2016-03-14 17:24:55</td>\n",
       "      <td>2016-03-14 17:32:30</td>\n",
       "      <td>1</td>\n",
       "      <td>-73.982155</td>\n",
       "      <td>40.767937</td>\n",
       "      <td>-73.964630</td>\n",
       "      <td>40.765602</td>\n",
       "      <td>N</td>\n",
       "      <td>455</td>\n",
       "    </tr>\n",
       "    <tr>\n",
       "      <th>1</th>\n",
       "      <td>id2377394</td>\n",
       "      <td>1</td>\n",
       "      <td>2016-06-12 00:43:35</td>\n",
       "      <td>2016-06-12 00:54:38</td>\n",
       "      <td>1</td>\n",
       "      <td>-73.980415</td>\n",
       "      <td>40.738564</td>\n",
       "      <td>-73.999481</td>\n",
       "      <td>40.731152</td>\n",
       "      <td>N</td>\n",
       "      <td>663</td>\n",
       "    </tr>\n",
       "  </tbody>\n",
       "</table>\n",
       "</div>"
      ],
      "text/plain": [
       "          id  vendor_id      pickup_datetime     dropoff_datetime  \\\n",
       "0  id2875421          2  2016-03-14 17:24:55  2016-03-14 17:32:30   \n",
       "1  id2377394          1  2016-06-12 00:43:35  2016-06-12 00:54:38   \n",
       "\n",
       "   passenger_count  pickup_longitude  pickup_latitude  dropoff_longitude  \\\n",
       "0                1        -73.982155        40.767937         -73.964630   \n",
       "1                1        -73.980415        40.738564         -73.999481   \n",
       "\n",
       "   dropoff_latitude store_and_fwd_flag  trip_duration  \n",
       "0         40.765602                  N            455  \n",
       "1         40.731152                  N            663  "
      ]
     },
     "execution_count": 5,
     "metadata": {},
     "output_type": "execute_result"
    }
   ],
   "source": [
    "df.head(2)"
   ]
  },
  {
   "cell_type": "code",
   "execution_count": 41,
   "metadata": {
    "collapsed": false
   },
   "outputs": [
    {
     "data": {
      "text/plain": [
       "'2016-03-14 17:24:55'"
      ]
     },
     "execution_count": 41,
     "metadata": {},
     "output_type": "execute_result"
    }
   ],
   "source": [
    "df['pickup_datetime'][0]"
   ]
  },
  {
   "cell_type": "code",
   "execution_count": 44,
   "metadata": {
    "collapsed": false
   },
   "outputs": [
    {
     "name": "stdout",
     "output_type": "stream",
     "text": [
      "2016 3 14\n"
     ]
    }
   ],
   "source": [
    "from datetime import datetime\n",
    "datestring = df['pickup_datetime'][0]\n",
    "dt = datetime.strptime(datestring, '%Y-%m-%d %H:%M:%S')\n",
    "print dt.year, dt.month, dt.day\n"
   ]
  },
  {
   "cell_type": "code",
   "execution_count": 48,
   "metadata": {
    "collapsed": true
   },
   "outputs": [],
   "source": [
    "def get_year( time_string):\n",
    "    dt = datetime.strptime(time_string, '%Y-%m-%d %H:%M:%S')\n",
    "    return dt.year\n",
    "    "
   ]
  },
  {
   "cell_type": "code",
   "execution_count": 52,
   "metadata": {
    "collapsed": true
   },
   "outputs": [],
   "source": [
    "def get_month( time_string):\n",
    "    dt = datetime.strptime(time_string, '%Y-%m-%d %H:%M:%S')\n",
    "    return dt.month"
   ]
  },
  {
   "cell_type": "code",
   "execution_count": 53,
   "metadata": {
    "collapsed": true
   },
   "outputs": [],
   "source": [
    "def get_day( time_string):\n",
    "    dt = datetime.strptime(time_string, '%Y-%m-%d %H:%M:%S')\n",
    "    return dt.day"
   ]
  },
  {
   "cell_type": "code",
   "execution_count": 50,
   "metadata": {
    "collapsed": false
   },
   "outputs": [],
   "source": [
    "df['pickup_year'] = df['pickup_datetime'].apply(get_year)"
   ]
  },
  {
   "cell_type": "code",
   "execution_count": 54,
   "metadata": {
    "collapsed": true
   },
   "outputs": [],
   "source": [
    "df['pickup_month'] = df['pickup_datetime'].apply(get_month)"
   ]
  },
  {
   "cell_type": "code",
   "execution_count": 55,
   "metadata": {
    "collapsed": true
   },
   "outputs": [],
   "source": [
    "df['pickup_day'] = df['pickup_datetime'].apply(get_day)"
   ]
  },
  {
   "cell_type": "code",
   "execution_count": 59,
   "metadata": {
    "collapsed": false
   },
   "outputs": [
    {
     "data": {
      "text/plain": [
       "'Wednesday'"
      ]
     },
     "execution_count": 59,
     "metadata": {},
     "output_type": "execute_result"
    }
   ],
   "source": [
    "import datetime\n",
    "datetime.datetime.strptime(df['pickup_datetime'][100], '%Y-%m-%d %H:%M:%S').strftime('%A')\n"
   ]
  },
  {
   "cell_type": "code",
   "execution_count": 6,
   "metadata": {
    "collapsed": true
   },
   "outputs": [],
   "source": [
    "df_small = df[['vendor_id','passenger_count','trip_duration']]"
   ]
  },
  {
   "cell_type": "code",
   "execution_count": 34,
   "metadata": {
    "collapsed": false
   },
   "outputs": [
    {
     "data": {
      "text/plain": [
       "array([1, 2])"
      ]
     },
     "execution_count": 34,
     "metadata": {},
     "output_type": "execute_result"
    }
   ],
   "source": [
    "np.unique(df_small.vendor_id)"
   ]
  },
  {
   "cell_type": "code",
   "execution_count": 35,
   "metadata": {
    "collapsed": false
   },
   "outputs": [
    {
     "data": {
      "text/plain": [
       "array([0, 1, 2, 3, 4, 5, 6, 7, 8, 9])"
      ]
     },
     "execution_count": 35,
     "metadata": {},
     "output_type": "execute_result"
    }
   ],
   "source": [
    "np.unique(df_small.passenger_count)"
   ]
  },
  {
   "cell_type": "code",
   "execution_count": 36,
   "metadata": {
    "collapsed": false
   },
   "outputs": [
    {
     "data": {
      "text/plain": [
       "{'boxes': [<matplotlib.lines.Line2D at 0x7f76a6cccf50>],\n",
       " 'caps': [<matplotlib.lines.Line2D at 0x7f76a2f17d50>,\n",
       "  <matplotlib.lines.Line2D at 0x7f76a2f233d0>],\n",
       " 'fliers': [<matplotlib.lines.Line2D at 0x7f76a2f2d090>],\n",
       " 'means': [],\n",
       " 'medians': [<matplotlib.lines.Line2D at 0x7f76a2f23a10>],\n",
       " 'whiskers': [<matplotlib.lines.Line2D at 0x7f76a2f17050>,\n",
       "  <matplotlib.lines.Line2D at 0x7f76a2f17710>]}"
      ]
     },
     "execution_count": 36,
     "metadata": {},
     "output_type": "execute_result"
    },
    {
     "data": {
      "image/png": "[encoded data removed]",
      "text/plain": [
       "<matplotlib.figure.Figure at 0x7f76b1d3e710>"
      ]
     },
     "metadata": {},
     "output_type": "display_data"
    }
   ],
   "source": [
    "plt.boxplot(df_small['passenger_count'])"
   ]
  },
  {
   "cell_type": "code",
   "execution_count": 11,
   "metadata": {
    "collapsed": false
   },
   "outputs": [
    {
     "data": {
      "text/plain": [
       "{'boxes': [<matplotlib.lines.Line2D at 0x7f76b7eca4d0>],\n",
       " 'caps': [<matplotlib.lines.Line2D at 0x7f76b1e84210>,\n",
       "  <matplotlib.lines.Line2D at 0x7f76b1e84850>],\n",
       " 'fliers': [<matplotlib.lines.Line2D at 0x7f76b1e8f510>],\n",
       " 'means': [],\n",
       " 'medians': [<matplotlib.lines.Line2D at 0x7f76b1e84e90>],\n",
       " 'whiskers': [<matplotlib.lines.Line2D at 0x7f76b1e3a4d0>,\n",
       "  <matplotlib.lines.Line2D at 0x7f76b1e3ab90>]}"
      ]
     },
     "execution_count": 11,
     "metadata": {},
     "output_type": "execute_result"
    },
    {
     "data": {
      "image/png": "[encoded data removed]",
      "text/plain": [
       "<matplotlib.figure.Figure at 0x7f76b1ee7e90>"
      ]
     },
     "metadata": {},
     "output_type": "display_data"
    }
   ],
   "source": [
    "plt.boxplot(df_small['trip_duration'])\n"
   ]
  },
  {
   "cell_type": "code",
   "execution_count": null,
   "metadata": {
    "collapsed": true
   },
   "outputs": [],
   "source": []
  },
  {
   "cell_type": "code",
   "execution_count": 16,
   "metadata": {
    "collapsed": false
   },
   "outputs": [
    {
     "data": {
      "text/plain": [
       "(array([  1.45658900e+06,   7.00000000e+01,   5.00000000e+01,\n",
       "          1.93100000e+03,   0.00000000e+00,   0.00000000e+00,\n",
       "          0.00000000e+00,   0.00000000e+00,   0.00000000e+00,\n",
       "          0.00000000e+00,   0.00000000e+00,   0.00000000e+00,\n",
       "          0.00000000e+00,   0.00000000e+00,   0.00000000e+00,\n",
       "          0.00000000e+00,   0.00000000e+00,   0.00000000e+00,\n",
       "          0.00000000e+00,   0.00000000e+00,   0.00000000e+00,\n",
       "          0.00000000e+00,   0.00000000e+00,   0.00000000e+00,\n",
       "          0.00000000e+00,   0.00000000e+00,   0.00000000e+00,\n",
       "          0.00000000e+00,   0.00000000e+00,   0.00000000e+00,\n",
       "          0.00000000e+00,   0.00000000e+00,   0.00000000e+00,\n",
       "          0.00000000e+00,   0.00000000e+00,   0.00000000e+00,\n",
       "          0.00000000e+00,   0.00000000e+00,   0.00000000e+00,\n",
       "          0.00000000e+00,   0.00000000e+00,   0.00000000e+00,\n",
       "          0.00000000e+00,   0.00000000e+00,   0.00000000e+00,\n",
       "          0.00000000e+00,   0.00000000e+00,   0.00000000e+00,\n",
       "          0.00000000e+00,   0.00000000e+00,   0.00000000e+00,\n",
       "          0.00000000e+00,   0.00000000e+00,   0.00000000e+00,\n",
       "          0.00000000e+00,   0.00000000e+00,   0.00000000e+00,\n",
       "          0.00000000e+00,   0.00000000e+00,   0.00000000e+00,\n",
       "          0.00000000e+00,   0.00000000e+00,   0.00000000e+00,\n",
       "          0.00000000e+00,   0.00000000e+00,   0.00000000e+00,\n",
       "          0.00000000e+00,   0.00000000e+00,   0.00000000e+00,\n",
       "          0.00000000e+00,   0.00000000e+00,   0.00000000e+00,\n",
       "          0.00000000e+00,   0.00000000e+00,   0.00000000e+00,\n",
       "          0.00000000e+00,   0.00000000e+00,   0.00000000e+00,\n",
       "          0.00000000e+00,   0.00000000e+00,   0.00000000e+00,\n",
       "          0.00000000e+00,   1.00000000e+00,   0.00000000e+00,\n",
       "          0.00000000e+00,   0.00000000e+00,   0.00000000e+00,\n",
       "          1.00000000e+00,   0.00000000e+00,   0.00000000e+00,\n",
       "          0.00000000e+00,   0.00000000e+00,   0.00000000e+00,\n",
       "          0.00000000e+00,   1.00000000e+00,   0.00000000e+00,\n",
       "          0.00000000e+00,   0.00000000e+00,   0.00000000e+00,\n",
       "          0.00000000e+00,   0.00000000e+00,   0.00000000e+00,\n",
       "          0.00000000e+00,   0.00000000e+00,   0.00000000e+00,\n",
       "          0.00000000e+00,   0.00000000e+00,   0.00000000e+00,\n",
       "          0.00000000e+00,   0.00000000e+00,   0.00000000e+00,\n",
       "          0.00000000e+00,   0.00000000e+00,   0.00000000e+00,\n",
       "          0.00000000e+00,   0.00000000e+00,   0.00000000e+00,\n",
       "          0.00000000e+00,   0.00000000e+00,   0.00000000e+00,\n",
       "          0.00000000e+00,   0.00000000e+00,   0.00000000e+00,\n",
       "          0.00000000e+00,   0.00000000e+00,   0.00000000e+00,\n",
       "          0.00000000e+00,   0.00000000e+00,   0.00000000e+00,\n",
       "          0.00000000e+00,   0.00000000e+00,   0.00000000e+00,\n",
       "          0.00000000e+00,   0.00000000e+00,   0.00000000e+00,\n",
       "          0.00000000e+00,   0.00000000e+00,   0.00000000e+00,\n",
       "          0.00000000e+00,   0.00000000e+00,   0.00000000e+00,\n",
       "          0.00000000e+00,   0.00000000e+00,   0.00000000e+00,\n",
       "          0.00000000e+00,   0.00000000e+00,   0.00000000e+00,\n",
       "          0.00000000e+00,   0.00000000e+00,   1.00000000e+00]),\n",
       " array([  1.00000000e+00,   2.35095400e+04,   4.70180800e+04,\n",
       "          7.05266200e+04,   9.40351600e+04,   1.17543700e+05,\n",
       "          1.41052240e+05,   1.64560780e+05,   1.88069320e+05,\n",
       "          2.11577860e+05,   2.35086400e+05,   2.58594940e+05,\n",
       "          2.82103480e+05,   3.05612020e+05,   3.29120560e+05,\n",
       "          3.52629100e+05,   3.76137640e+05,   3.99646180e+05,\n",
       "          4.23154720e+05,   4.46663260e+05,   4.70171800e+05,\n",
       "          4.93680340e+05,   5.17188880e+05,   5.40697420e+05,\n",
       "          5.64205960e+05,   5.87714500e+05,   6.11223040e+05,\n",
       "          6.34731580e+05,   6.58240120e+05,   6.81748660e+05,\n",
       "          7.05257200e+05,   7.28765740e+05,   7.52274280e+05,\n",
       "          7.75782820e+05,   7.99291360e+05,   8.22799900e+05,\n",
       "          8.46308440e+05,   8.69816980e+05,   8.93325520e+05,\n",
       "          9.16834060e+05,   9.40342600e+05,   9.63851140e+05,\n",
       "          9.87359680e+05,   1.01086822e+06,   1.03437676e+06,\n",
       "          1.05788530e+06,   1.08139384e+06,   1.10490238e+06,\n",
       "          1.12841092e+06,   1.15191946e+06,   1.17542800e+06,\n",
       "          1.19893654e+06,   1.22244508e+06,   1.24595362e+06,\n",
       "          1.26946216e+06,   1.29297070e+06,   1.31647924e+06,\n",
       "          1.33998778e+06,   1.36349632e+06,   1.38700486e+06,\n",
       "          1.41051340e+06,   1.43402194e+06,   1.45753048e+06,\n",
       "          1.48103902e+06,   1.50454756e+06,   1.52805610e+06,\n",
       "          1.55156464e+06,   1.57507318e+06,   1.59858172e+06,\n",
       "          1.62209026e+06,   1.64559880e+06,   1.66910734e+06,\n",
       "          1.69261588e+06,   1.71612442e+06,   1.73963296e+06,\n",
       "          1.76314150e+06,   1.78665004e+06,   1.81015858e+06,\n",
       "          1.83366712e+06,   1.85717566e+06,   1.88068420e+06,\n",
       "          1.90419274e+06,   1.92770128e+06,   1.95120982e+06,\n",
       "          1.97471836e+06,   1.99822690e+06,   2.02173544e+06,\n",
       "          2.04524398e+06,   2.06875252e+06,   2.09226106e+06,\n",
       "          2.11576960e+06,   2.13927814e+06,   2.16278668e+06,\n",
       "          2.18629522e+06,   2.20980376e+06,   2.23331230e+06,\n",
       "          2.25682084e+06,   2.28032938e+06,   2.30383792e+06,\n",
       "          2.32734646e+06,   2.35085500e+06,   2.37436354e+06,\n",
       "          2.39787208e+06,   2.42138062e+06,   2.44488916e+06,\n",
       "          2.46839770e+06,   2.49190624e+06,   2.51541478e+06,\n",
       "          2.53892332e+06,   2.56243186e+06,   2.58594040e+06,\n",
       "          2.60944894e+06,   2.63295748e+06,   2.65646602e+06,\n",
       "          2.67997456e+06,   2.70348310e+06,   2.72699164e+06,\n",
       "          2.75050018e+06,   2.77400872e+06,   2.79751726e+06,\n",
       "          2.82102580e+06,   2.84453434e+06,   2.86804288e+06,\n",
       "          2.89155142e+06,   2.91505996e+06,   2.93856850e+06,\n",
       "          2.96207704e+06,   2.98558558e+06,   3.00909412e+06,\n",
       "          3.03260266e+06,   3.05611120e+06,   3.07961974e+06,\n",
       "          3.10312828e+06,   3.12663682e+06,   3.15014536e+06,\n",
       "          3.17365390e+06,   3.19716244e+06,   3.22067098e+06,\n",
       "          3.24417952e+06,   3.26768806e+06,   3.29119660e+06,\n",
       "          3.31470514e+06,   3.33821368e+06,   3.36172222e+06,\n",
       "          3.38523076e+06,   3.40873930e+06,   3.43224784e+06,\n",
       "          3.45575638e+06,   3.47926492e+06,   3.50277346e+06,\n",
       "          3.52628200e+06]),\n",
       " <a list of 150 Patch objects>)"
      ]
     },
     "execution_count": 16,
     "metadata": {},
     "output_type": "execute_result"
    },
    {
     "data": {
      "image/png": "[encoded data removed]",
      "text/plain": [
       "<matplotlib.figure.Figure at 0x7f76a7fd5e90>"
      ]
     },
     "metadata": {},
     "output_type": "display_data"
    }
   ],
   "source": [
    "plt.hist(df_small['trip_duration'], bins =150)"
   ]
  },
  {
   "cell_type": "code",
   "execution_count": 17,
   "metadata": {
    "collapsed": false
   },
   "outputs": [
    {
     "data": {
      "text/plain": [
       "count    1.458644e+06\n",
       "mean     9.594923e+02\n",
       "std      5.237432e+03\n",
       "min      1.000000e+00\n",
       "25%      3.970000e+02\n",
       "50%      6.620000e+02\n",
       "75%      1.075000e+03\n",
       "max      3.526282e+06\n",
       "Name: trip_duration, dtype: float64"
      ]
     },
     "execution_count": 17,
     "metadata": {},
     "output_type": "execute_result"
    }
   ],
   "source": [
    "df_small['trip_duration'].describe()"
   ]
  },
  {
   "cell_type": "code",
   "execution_count": 28,
   "metadata": {
    "collapsed": false
   },
   "outputs": [],
   "source": [
    "trip_duration_q2=np.percentile(df_small.trip_duration.values,2)"
   ]
  },
  {
   "cell_type": "code",
   "execution_count": 29,
   "metadata": {
    "collapsed": false
   },
   "outputs": [],
   "source": [
    "trip_duration_q98=np.percentile(df_small.trip_duration.values,98)"
   ]
  },
  {
   "cell_type": "code",
   "execution_count": 30,
   "metadata": {
    "collapsed": false
   },
   "outputs": [],
   "source": [
    "df_small_wo_outlier = df_small [ np.logical_and (df_small.trip_duration >trip_duration_q2 \n",
    "          , df_small.trip_duration <trip_duration_q98)]"
   ]
  },
  {
   "cell_type": "code",
   "execution_count": 31,
   "metadata": {
    "collapsed": false
   },
   "outputs": [
    {
     "data": {
      "text/plain": [
       "(array([ 11382.,  13370.,  16056.,  17768.,  19593.,  21454.,  22391.,\n",
       "         24362.,  24697.,  25755.,  25772.,  26745.,  26681.,  27271.,\n",
       "         26818.,  26806.,  27118.,  26541.,  26568.,  26037.,  25909.,\n",
       "         25269.,  24972.,  24646.,  24210.,  23620.,  23155.,  22657.,\n",
       "         22037.,  21524.,  22301.,  20564.,  20058.,  19620.,  18860.,\n",
       "         18596.,  17850.,  17431.,  17103.,  16474.,  16301.,  15565.,\n",
       "         15473.,  14804.,  14213.,  13931.,  13486.,  13225.,  12777.,\n",
       "         12090.,  11886.,  11555.,  11205.,  10598.,  10452.,  10183.,\n",
       "          9857.,   9824.,   9244.,   9025.,   9164.,   8523.,   8018.,\n",
       "          7931.,   7651.,   7347.,   7040.,   6888.,   6822.,   6395.,\n",
       "          6413.,   6151.,   5902.,   5693.,   5574.,   5497.,   5203.,\n",
       "          5126.,   4941.,   4795.,   4569.,   4393.,   4305.,   4080.,\n",
       "          4072.,   3710.,   3709.,   3650.,   3593.,   3670.,   3287.,\n",
       "          3180.,   3109.,   2960.,   2925.,   2880.,   2795.,   2666.,\n",
       "          2571.,   2440.,   2390.,   2327.,   2300.,   2206.,   2141.,\n",
       "          2035.,   2042.,   1936.,   1878.,   1895.,   1755.,   1721.,\n",
       "          1691.,   1597.,   1570.,   1567.,   1435.,   1402.,   1316.,\n",
       "          1364.,   1476.,   1288.,   1226.,   1217.,   1186.,   1138.,\n",
       "          1145.,   1089.,   1066.,   1061.,   1031.,    967.,    941.,\n",
       "           958.,    889.,    928.,    901.,    874.,    863.,    768.,\n",
       "           765.,    759.,    720.,    730.,    747.,    710.,    679.,\n",
       "           670.,    680.,    647.]),\n",
       " array([  123.        ,   141.03333333,   159.06666667,   177.1       ,\n",
       "          195.13333333,   213.16666667,   231.2       ,   249.23333333,\n",
       "          267.26666667,   285.3       ,   303.33333333,   321.36666667,\n",
       "          339.4       ,   357.43333333,   375.46666667,   393.5       ,\n",
       "          411.53333333,   429.56666667,   447.6       ,   465.63333333,\n",
       "          483.66666667,   501.7       ,   519.73333333,   537.76666667,\n",
       "          555.8       ,   573.83333333,   591.86666667,   609.9       ,\n",
       "          627.93333333,   645.96666667,   664.        ,   682.03333333,\n",
       "          700.06666667,   718.1       ,   736.13333333,   754.16666667,\n",
       "          772.2       ,   790.23333333,   808.26666667,   826.3       ,\n",
       "          844.33333333,   862.36666667,   880.4       ,   898.43333333,\n",
       "          916.46666667,   934.5       ,   952.53333333,   970.56666667,\n",
       "          988.6       ,  1006.63333333,  1024.66666667,  1042.7       ,\n",
       "         1060.73333333,  1078.76666667,  1096.8       ,  1114.83333333,\n",
       "         1132.86666667,  1150.9       ,  1168.93333333,  1186.96666667,\n",
       "         1205.        ,  1223.03333333,  1241.06666667,  1259.1       ,\n",
       "         1277.13333333,  1295.16666667,  1313.2       ,  1331.23333333,\n",
       "         1349.26666667,  1367.3       ,  1385.33333333,  1403.36666667,\n",
       "         1421.4       ,  1439.43333333,  1457.46666667,  1475.5       ,\n",
       "         1493.53333333,  1511.56666667,  1529.6       ,  1547.63333333,\n",
       "         1565.66666667,  1583.7       ,  1601.73333333,  1619.76666667,\n",
       "         1637.8       ,  1655.83333333,  1673.86666667,  1691.9       ,\n",
       "         1709.93333333,  1727.96666667,  1746.        ,  1764.03333333,\n",
       "         1782.06666667,  1800.1       ,  1818.13333333,  1836.16666667,\n",
       "         1854.2       ,  1872.23333333,  1890.26666667,  1908.3       ,\n",
       "         1926.33333333,  1944.36666667,  1962.4       ,  1980.43333333,\n",
       "         1998.46666667,  2016.5       ,  2034.53333333,  2052.56666667,\n",
       "         2070.6       ,  2088.63333333,  2106.66666667,  2124.7       ,\n",
       "         2142.73333333,  2160.76666667,  2178.8       ,  2196.83333333,\n",
       "         2214.86666667,  2232.9       ,  2250.93333333,  2268.96666667,\n",
       "         2287.        ,  2305.03333333,  2323.06666667,  2341.1       ,\n",
       "         2359.13333333,  2377.16666667,  2395.2       ,  2413.23333333,\n",
       "         2431.26666667,  2449.3       ,  2467.33333333,  2485.36666667,\n",
       "         2503.4       ,  2521.43333333,  2539.46666667,  2557.5       ,\n",
       "         2575.53333333,  2593.56666667,  2611.6       ,  2629.63333333,\n",
       "         2647.66666667,  2665.7       ,  2683.73333333,  2701.76666667,\n",
       "         2719.8       ,  2737.83333333,  2755.86666667,  2773.9       ,\n",
       "         2791.93333333,  2809.96666667,  2828.        ]),\n",
       " <a list of 150 Patch objects>)"
      ]
     },
     "execution_count": 31,
     "metadata": {},
     "output_type": "execute_result"
    },
    {
     "data": {
      "image/png": "[encoded data removed]",
      "text/plain": [
       "<matplotlib.figure.Figure at 0x7f76b7ee35d0>"
      ]
     },
     "metadata": {},
     "output_type": "display_data"
    }
   ],
   "source": [
    "plt.hist(df_small_wo_outlier['trip_duration'], bins =150)"
   ]
  },
  {
   "cell_type": "code",
   "execution_count": 33,
   "metadata": {
    "collapsed": false
   },
   "outputs": [
    {
     "data": {
      "text/plain": [
       "(array([  1659.,   1647.,   1142.,   1818.,   2007.,   1824.,   1976.,\n",
       "          2065.,   2131.,   2247.,   2244.,   3195.,   2449.,   2530.,\n",
       "          3531.,   2763.,   3625.,   3761.,   2974.,   4015.,   3862.,\n",
       "          4034.,   4216.,   5475.,   4350.,   4291.,   5820.,   4743.,\n",
       "          5989.,   6054.,   6050.,   6146.,   6283.,   6389.,   6643.,\n",
       "          8227.,   6806.,   8023.,   6980.,   8300.,   8516.,   8516.,\n",
       "         10058.,   8629.,   9937.,   8660.,  10517.,  10288.,  10129.,\n",
       "         10494.,  11998.,  10620.,  12182.,  12032.,  11889.,  11800.,\n",
       "         11947.,  13401.,  13705.,  13354.,  13323.,  13397.,  13201.,\n",
       "         14670.,  14513.,  14471.,  14282.,  15598.,  15289.,  15409.,\n",
       "         15241.,  14906.,  16301.,  15959.,  15819.,  16722.,  15348.,\n",
       "         16218.,  17197.,  15597.,  16755.,  16313.,  17057.,  15912.,\n",
       "         16410.,  17267.,  15681.,  16354.,  16867.,  15526.,  16126.,\n",
       "         16620.,  16252.,  15862.,  15351.,  15801.,  15826.,  14691.,\n",
       "         14967.,  15384.,  14539.,  13920.,  14182.,  14264.,  13492.,\n",
       "         13153.,  13253.,  12865.,  12654.,  12117.,  12038.,  11882.,\n",
       "         11345.,  10658.,  10722.,  10464.,  10070.,   9833.,   9573.,\n",
       "          9179.,   8972.,   8751.,   8100.,   7819.,   7499.,   7112.,\n",
       "          7039.,   6614.,   6404.,   6090.,   5881.,   5444.,   5277.,\n",
       "          5009.,   4696.,   4525.,   4364.,   3981.,   3829.,   3508.,\n",
       "          3494.,   3190.,   3182.,   2923.,   2779.,   2711.,   2501.,\n",
       "          2322.,   2247.,   2155.]),\n",
       " array([ 4.81218436,  4.83308529,  4.85398623,  4.87488717,  4.89578811,\n",
       "         4.91668904,  4.93758998,  4.95849092,  4.97939186,  5.0002928 ,\n",
       "         5.02119373,  5.04209467,  5.06299561,  5.08389655,  5.10479748,\n",
       "         5.12569842,  5.14659936,  5.1675003 ,  5.18840124,  5.20930217,\n",
       "         5.23020311,  5.25110405,  5.27200499,  5.29290593,  5.31380686,\n",
       "         5.3347078 ,  5.35560874,  5.37650968,  5.39741061,  5.41831155,\n",
       "         5.43921249,  5.46011343,  5.48101437,  5.5019153 ,  5.52281624,\n",
       "         5.54371718,  5.56461812,  5.58551905,  5.60641999,  5.62732093,\n",
       "         5.64822187,  5.66912281,  5.69002374,  5.71092468,  5.73182562,\n",
       "         5.75272656,  5.77362749,  5.79452843,  5.81542937,  5.83633031,\n",
       "         5.85723125,  5.87813218,  5.89903312,  5.91993406,  5.940835  ,\n",
       "         5.96173593,  5.98263687,  6.00353781,  6.02443875,  6.04533969,\n",
       "         6.06624062,  6.08714156,  6.1080425 ,  6.12894344,  6.14984438,\n",
       "         6.17074531,  6.19164625,  6.21254719,  6.23344813,  6.25434906,\n",
       "         6.27525   ,  6.29615094,  6.31705188,  6.33795282,  6.35885375,\n",
       "         6.37975469,  6.40065563,  6.42155657,  6.4424575 ,  6.46335844,\n",
       "         6.48425938,  6.50516032,  6.52606126,  6.54696219,  6.56786313,\n",
       "         6.58876407,  6.60966501,  6.63056594,  6.65146688,  6.67236782,\n",
       "         6.69326876,  6.7141697 ,  6.73507063,  6.75597157,  6.77687251,\n",
       "         6.79777345,  6.81867439,  6.83957532,  6.86047626,  6.8813772 ,\n",
       "         6.90227814,  6.92317907,  6.94408001,  6.96498095,  6.98588189,\n",
       "         7.00678283,  7.02768376,  7.0485847 ,  7.06948564,  7.09038658,\n",
       "         7.11128751,  7.13218845,  7.15308939,  7.17399033,  7.19489127,\n",
       "         7.2157922 ,  7.23669314,  7.25759408,  7.27849502,  7.29939595,\n",
       "         7.32029689,  7.34119783,  7.36209877,  7.38299971,  7.40390064,\n",
       "         7.42480158,  7.44570252,  7.46660346,  7.4875044 ,  7.50840533,\n",
       "         7.52930627,  7.55020721,  7.57110815,  7.59200908,  7.61291002,\n",
       "         7.63381096,  7.6547119 ,  7.67561284,  7.69651377,  7.71741471,\n",
       "         7.73831565,  7.75921659,  7.78011752,  7.80101846,  7.8219194 ,\n",
       "         7.84282034,  7.86372128,  7.88462221,  7.90552315,  7.92642409,\n",
       "         7.94732503]),\n",
       " <a list of 150 Patch objects>)"
      ]
     },
     "execution_count": 33,
     "metadata": {},
     "output_type": "execute_result"
    },
    {
     "data": {
      "image/png": "[encoded data removed]",
      "text/plain": [
       "<matplotlib.figure.Figure at 0x7f76a370aa50>"
      ]
     },
     "metadata": {},
     "output_type": "display_data"
    }
   ],
   "source": [
    "plt.hist(np.log(df_small_wo_outlier['trip_duration'].values), bins =150)"
   ]
  }
 ],
 "metadata": {
  "kernelspec": {
   "display_name": "Python 2",
   "language": "python",
   "name": "python2"
  },
  "language_info": {
   "codemirror_mode": {
    "name": "ipython",
    "version": 2
   },
   "file_extension": ".py",
   "mimetype": "text/x-python",
   "name": "python",
   "nbconvert_exporter": "python",
   "pygments_lexer": "ipython2",
   "version": "2.7.13"
  }
 },
 "nbformat": 4,
 "nbformat_minor": 0
}
