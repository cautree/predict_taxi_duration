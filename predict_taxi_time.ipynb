{
 "cells": [
  {
   "cell_type": "markdown",
   "metadata": {},
   "source": [
    "# taxi time"
   ]
  },
  {
   "cell_type": "markdown",
   "metadata": {},
   "source": [
    "## import packages"
   ]
  },
  {
   "cell_type": "code",
   "execution_count": 1,
   "metadata": {
    "collapsed": true
   },
   "outputs": [],
   "source": [
    "import pandas as pd\n",
    "import numpy as np\n",
    "import matplotlib.pyplot as plt\n",
    "from IPython.display import display # Allows the use of display() for DataFrames\n",
    "# Pretty display for notebooks\n",
    "%matplotlib inline"
   ]
  },
  {
   "cell_type": "markdown",
   "metadata": {},
   "source": [
    "## load the data"
   ]
  },
  {
   "cell_type": "code",
   "execution_count": 2,
   "metadata": {
    "collapsed": false
   },
   "outputs": [],
   "source": [
    "df = pd.read_csv(\"train.csv\")"
   ]
  },
  {
   "cell_type": "markdown",
   "metadata": {},
   "source": [
    "## explore the data"
   ]
  },
  {
   "cell_type": "code",
   "execution_count": 3,
   "metadata": {
    "collapsed": false
   },
   "outputs": [
    {
     "data": {
      "text/plain": [
       "(1458644, 11)"
      ]
     },
     "execution_count": 3,
     "metadata": {},
     "output_type": "execute_result"
    }
   ],
   "source": [
    "df.shape"
   ]
  },
  {
   "cell_type": "code",
   "execution_count": 4,
   "metadata": {
    "collapsed": false
   },
   "outputs": [
    {
     "data": {
      "text/html": [
       "<div>\n",
       "<style>\n",
       "    .dataframe thead tr:only-child th {\n",
       "        text-align: right;\n",
       "    }\n",
       "\n",
       "    .dataframe thead th {\n",
       "        text-align: left;\n",
       "    }\n",
       "\n",
       "    .dataframe tbody tr th {\n",
       "        vertical-align: top;\n",
       "    }\n",
       "</style>\n",
       "<table border=\"1\" class=\"dataframe\">\n",
       "  <thead>\n",
       "    <tr style=\"text-align: right;\">\n",
       "      <th></th>\n",
       "      <th>id</th>\n",
       "      <th>vendor_id</th>\n",
       "      <th>pickup_datetime</th>\n",
       "      <th>dropoff_datetime</th>\n",
       "      <th>passenger_count</th>\n",
       "      <th>pickup_longitude</th>\n",
       "      <th>pickup_latitude</th>\n",
       "      <th>dropoff_longitude</th>\n",
       "      <th>dropoff_latitude</th>\n",
       "      <th>store_and_fwd_flag</th>\n",
       "      <th>trip_duration</th>\n",
       "    </tr>\n",
       "  </thead>\n",
       "  <tbody>\n",
       "    <tr>\n",
       "      <th>0</th>\n",
       "      <td>id2875421</td>\n",
       "      <td>2</td>\n",
       "      <td>2016-03-14 17:24:55</td>\n",
       "      <td>2016-03-14 17:32:30</td>\n",
       "      <td>1</td>\n",
       "      <td>-73.982155</td>\n",
       "      <td>40.767937</td>\n",
       "      <td>-73.964630</td>\n",
       "      <td>40.765602</td>\n",
       "      <td>N</td>\n",
       "      <td>455</td>\n",
       "    </tr>\n",
       "    <tr>\n",
       "      <th>1</th>\n",
       "      <td>id2377394</td>\n",
       "      <td>1</td>\n",
       "      <td>2016-06-12 00:43:35</td>\n",
       "      <td>2016-06-12 00:54:38</td>\n",
       "      <td>1</td>\n",
       "      <td>-73.980415</td>\n",
       "      <td>40.738564</td>\n",
       "      <td>-73.999481</td>\n",
       "      <td>40.731152</td>\n",
       "      <td>N</td>\n",
       "      <td>663</td>\n",
       "    </tr>\n",
       "    <tr>\n",
       "      <th>2</th>\n",
       "      <td>id3858529</td>\n",
       "      <td>2</td>\n",
       "      <td>2016-01-19 11:35:24</td>\n",
       "      <td>2016-01-19 12:10:48</td>\n",
       "      <td>1</td>\n",
       "      <td>-73.979027</td>\n",
       "      <td>40.763939</td>\n",
       "      <td>-74.005333</td>\n",
       "      <td>40.710087</td>\n",
       "      <td>N</td>\n",
       "      <td>2124</td>\n",
       "    </tr>\n",
       "    <tr>\n",
       "      <th>3</th>\n",
       "      <td>id3504673</td>\n",
       "      <td>2</td>\n",
       "      <td>2016-04-06 19:32:31</td>\n",
       "      <td>2016-04-06 19:39:40</td>\n",
       "      <td>1</td>\n",
       "      <td>-74.010040</td>\n",
       "      <td>40.719971</td>\n",
       "      <td>-74.012268</td>\n",
       "      <td>40.706718</td>\n",
       "      <td>N</td>\n",
       "      <td>429</td>\n",
       "    </tr>\n",
       "    <tr>\n",
       "      <th>4</th>\n",
       "      <td>id2181028</td>\n",
       "      <td>2</td>\n",
       "      <td>2016-03-26 13:30:55</td>\n",
       "      <td>2016-03-26 13:38:10</td>\n",
       "      <td>1</td>\n",
       "      <td>-73.973053</td>\n",
       "      <td>40.793209</td>\n",
       "      <td>-73.972923</td>\n",
       "      <td>40.782520</td>\n",
       "      <td>N</td>\n",
       "      <td>435</td>\n",
       "    </tr>\n",
       "  </tbody>\n",
       "</table>\n",
       "</div>"
      ],
      "text/plain": [
       "          id  vendor_id      pickup_datetime     dropoff_datetime  \\\n",
       "0  id2875421          2  2016-03-14 17:24:55  2016-03-14 17:32:30   \n",
       "1  id2377394          1  2016-06-12 00:43:35  2016-06-12 00:54:38   \n",
       "2  id3858529          2  2016-01-19 11:35:24  2016-01-19 12:10:48   \n",
       "3  id3504673          2  2016-04-06 19:32:31  2016-04-06 19:39:40   \n",
       "4  id2181028          2  2016-03-26 13:30:55  2016-03-26 13:38:10   \n",
       "\n",
       "   passenger_count  pickup_longitude  pickup_latitude  dropoff_longitude  \\\n",
       "0                1        -73.982155        40.767937         -73.964630   \n",
       "1                1        -73.980415        40.738564         -73.999481   \n",
       "2                1        -73.979027        40.763939         -74.005333   \n",
       "3                1        -74.010040        40.719971         -74.012268   \n",
       "4                1        -73.973053        40.793209         -73.972923   \n",
       "\n",
       "   dropoff_latitude store_and_fwd_flag  trip_duration  \n",
       "0         40.765602                  N            455  \n",
       "1         40.731152                  N            663  \n",
       "2         40.710087                  N           2124  \n",
       "3         40.706718                  N            429  \n",
       "4         40.782520                  N            435  "
      ]
     },
     "execution_count": 4,
     "metadata": {},
     "output_type": "execute_result"
    }
   ],
   "source": [
    "df.head(5)"
   ]
  },
  {
   "cell_type": "code",
   "execution_count": 5,
   "metadata": {
    "collapsed": true
   },
   "outputs": [],
   "source": [
    "import gpxpy.geo\n",
    "def cal_dis(x):\n",
    "    dist = gpxpy.geo.haversine_distance(x['pickup_longitude'], x['pickup_latitude'],\n",
    "                                        x['dropoff_longitude'],x['dropoff_latitude'])\n",
    "    return dist    "
   ]
  },
  {
   "cell_type": "code",
   "execution_count": 6,
   "metadata": {
    "collapsed": true
   },
   "outputs": [],
   "source": [
    "df['dist'] = df.apply(cal_dis, axis=1)"
   ]
  },
  {
   "cell_type": "code",
   "execution_count": 7,
   "metadata": {
    "collapsed": false
   },
   "outputs": [
    {
     "name": "stderr",
     "output_type": "stream",
     "text": [
      "/home/yanyan/anaconda/lib/python2.7/site-packages/sklearn/preprocessing/data.py:321: DeprecationWarning: Passing 1d arrays as data is deprecated in 0.17 and will raise ValueError in 0.19. Reshape your data either using X.reshape(-1, 1) if your data has a single feature or X.reshape(1, -1) if it contains a single sample.\n",
      "  warnings.warn(DEPRECATION_MSG_1D, DeprecationWarning)\n",
      "/home/yanyan/anaconda/lib/python2.7/site-packages/sklearn/preprocessing/data.py:356: DeprecationWarning: Passing 1d arrays as data is deprecated in 0.17 and will raise ValueError in 0.19. Reshape your data either using X.reshape(-1, 1) if your data has a single feature or X.reshape(1, -1) if it contains a single sample.\n",
      "  warnings.warn(DEPRECATION_MSG_1D, DeprecationWarning)\n"
     ]
    }
   ],
   "source": [
    "from sklearn.preprocessing import MinMaxScaler\n",
    "\n",
    "# Initialize a scaler, then apply it to the features\n",
    "scaler = MinMaxScaler() # default=(0, 1)\n",
    "df['dist'] = scaler.fit_transform(df['dist'])"
   ]
  },
  {
   "cell_type": "code",
   "execution_count": 8,
   "metadata": {
    "collapsed": false
   },
   "outputs": [
    {
     "name": "stdout",
     "output_type": "stream",
     "text": [
      "2016 3 14\n"
     ]
    }
   ],
   "source": [
    "from datetime import datetime\n",
    "datestring = df['pickup_datetime'][0]\n",
    "dt = datetime.strptime(datestring, '%Y-%m-%d %H:%M:%S')\n",
    "print dt.year, dt.month, dt.day"
   ]
  },
  {
   "cell_type": "code",
   "execution_count": 9,
   "metadata": {
    "collapsed": true
   },
   "outputs": [],
   "source": [
    "def get_year( time_string):\n",
    "    dt = datetime.strptime(time_string, '%Y-%m-%d %H:%M:%S')\n",
    "    return dt.year    "
   ]
  },
  {
   "cell_type": "code",
   "execution_count": 10,
   "metadata": {
    "collapsed": true
   },
   "outputs": [],
   "source": [
    "def get_month( time_string):\n",
    "    dt = datetime.strptime(time_string, '%Y-%m-%d %H:%M:%S')\n",
    "    return str(dt.month)"
   ]
  },
  {
   "cell_type": "code",
   "execution_count": 11,
   "metadata": {
    "collapsed": true
   },
   "outputs": [],
   "source": [
    "def get_day( time_string):\n",
    "    dt = datetime.strptime(time_string, '%Y-%m-%d %H:%M:%S')\n",
    "    return dt.day"
   ]
  },
  {
   "cell_type": "code",
   "execution_count": 12,
   "metadata": {
    "collapsed": false
   },
   "outputs": [],
   "source": [
    "df['pickup_year'] = df['pickup_datetime'].apply(get_year)"
   ]
  },
  {
   "cell_type": "code",
   "execution_count": 13,
   "metadata": {
    "collapsed": false
   },
   "outputs": [
    {
     "data": {
      "text/plain": [
       "array([2016])"
      ]
     },
     "execution_count": 13,
     "metadata": {},
     "output_type": "execute_result"
    }
   ],
   "source": [
    "np.unique(df['pickup_year'])"
   ]
  },
  {
   "cell_type": "code",
   "execution_count": 14,
   "metadata": {
    "collapsed": true
   },
   "outputs": [],
   "source": [
    "df['pickup_month'] = df['pickup_datetime'].apply(get_month)"
   ]
  },
  {
   "cell_type": "code",
   "execution_count": 15,
   "metadata": {
    "collapsed": false
   },
   "outputs": [
    {
     "data": {
      "text/plain": [
       "array(['1', '2', '3', '4', '5', '6'], dtype=object)"
      ]
     },
     "execution_count": 15,
     "metadata": {},
     "output_type": "execute_result"
    }
   ],
   "source": [
    "np.unique(df.pickup_month)"
   ]
  },
  {
   "cell_type": "code",
   "execution_count": 16,
   "metadata": {
    "collapsed": false
   },
   "outputs": [],
   "source": [
    "df['pickup_day'] = df['pickup_datetime'].apply(get_day)"
   ]
  },
  {
   "cell_type": "code",
   "execution_count": 17,
   "metadata": {
    "collapsed": false
   },
   "outputs": [
    {
     "data": {
      "text/plain": [
       "'Wednesday'"
      ]
     },
     "execution_count": 17,
     "metadata": {},
     "output_type": "execute_result"
    }
   ],
   "source": [
    "datetime.strptime(df['pickup_datetime'][100], '%Y-%m-%d %H:%M:%S').strftime('%A')"
   ]
  },
  {
   "cell_type": "code",
   "execution_count": 18,
   "metadata": {
    "collapsed": true
   },
   "outputs": [],
   "source": [
    "def get_week_day( time_string):\n",
    "    week_day = datetime.strptime(time_string, '%Y-%m-%d %H:%M:%S').strftime('%A')\n",
    "    return week_day"
   ]
  },
  {
   "cell_type": "code",
   "execution_count": 19,
   "metadata": {
    "collapsed": true
   },
   "outputs": [],
   "source": [
    "df['pickup_week_day'] = df['pickup_datetime'].apply(get_week_day)"
   ]
  },
  {
   "cell_type": "code",
   "execution_count": 20,
   "metadata": {
    "collapsed": false
   },
   "outputs": [
    {
     "data": {
      "text/plain": [
       "0    14\n",
       "1    12\n",
       "2    19\n",
       "3     6\n",
       "4    26\n",
       "Name: pickup_day, dtype: int64"
      ]
     },
     "execution_count": 20,
     "metadata": {},
     "output_type": "execute_result"
    }
   ],
   "source": [
    "df['pickup_day'].head(5)"
   ]
  },
  {
   "cell_type": "code",
   "execution_count": 21,
   "metadata": {
    "collapsed": true
   },
   "outputs": [],
   "source": [
    "def get_hour( time_string):\n",
    "    time = datetime.strptime(time_string, '%Y-%m-%d %H:%M:%S')\n",
    "    return str(time.hour)"
   ]
  },
  {
   "cell_type": "code",
   "execution_count": 22,
   "metadata": {
    "collapsed": false
   },
   "outputs": [],
   "source": [
    "df['pickup_hour'] = df['pickup_datetime'].apply(get_hour)"
   ]
  },
  {
   "cell_type": "code",
   "execution_count": 23,
   "metadata": {
    "collapsed": true
   },
   "outputs": [],
   "source": [
    "df_small = df[['vendor_id','passenger_count','trip_duration']]"
   ]
  },
  {
   "cell_type": "code",
   "execution_count": 24,
   "metadata": {
    "collapsed": false
   },
   "outputs": [
    {
     "data": {
      "text/plain": [
       "array([1, 2])"
      ]
     },
     "execution_count": 24,
     "metadata": {},
     "output_type": "execute_result"
    }
   ],
   "source": [
    "np.unique(df_small.vendor_id)"
   ]
  },
  {
   "cell_type": "code",
   "execution_count": 25,
   "metadata": {
    "collapsed": false
   },
   "outputs": [
    {
     "data": {
      "text/plain": [
       "array([0, 1, 2, 3, 4, 5, 6, 7, 8, 9])"
      ]
     },
     "execution_count": 25,
     "metadata": {},
     "output_type": "execute_result"
    }
   ],
   "source": [
    "np.unique(df_small.passenger_count)"
   ]
  },
  {
   "cell_type": "code",
   "execution_count": 26,
   "metadata": {
    "collapsed": false
   },
   "outputs": [
    {
     "data": {
      "text/plain": [
       "{'boxes': [<matplotlib.lines.Line2D at 0x7f1f1ab2b8d0>],\n",
       " 'caps': [<matplotlib.lines.Line2D at 0x7f1ea8840c90>,\n",
       "  <matplotlib.lines.Line2D at 0x7f1ea8853310>],\n",
       " 'fliers': [<matplotlib.lines.Line2D at 0x7f1ea8853f90>],\n",
       " 'means': [],\n",
       " 'medians': [<matplotlib.lines.Line2D at 0x7f1ea8853950>],\n",
       " 'whiskers': [<matplotlib.lines.Line2D at 0x7f1ea88aef50>,\n",
       "  <matplotlib.lines.Line2D at 0x7f1ea8840650>]}"
      ]
     },
     "execution_count": 26,
     "metadata": {},
     "output_type": "execute_result"
    },
    {
     "data": {
      "image/png": "[encoded data removed]",
      "text/plain": [
       "<matplotlib.figure.Figure at 0x7f1eb290bf90>"
      ]
     },
     "metadata": {},
     "output_type": "display_data"
    }
   ],
   "source": [
    "plt.boxplot(df_small['passenger_count'])"
   ]
  },
  {
   "cell_type": "code",
   "execution_count": 27,
   "metadata": {
    "collapsed": false
   },
   "outputs": [
    {
     "data": {
      "text/plain": [
       "{'boxes': [<matplotlib.lines.Line2D at 0x7f1f181a9a50>],\n",
       " 'caps': [<matplotlib.lines.Line2D at 0x7f1ea8787e10>,\n",
       "  <matplotlib.lines.Line2D at 0x7f1ea8793490>],\n",
       " 'fliers': [<matplotlib.lines.Line2D at 0x7f1ea879e150>],\n",
       " 'means': [],\n",
       " 'medians': [<matplotlib.lines.Line2D at 0x7f1ea8793ad0>],\n",
       " 'whiskers': [<matplotlib.lines.Line2D at 0x7f1ea8787110>,\n",
       "  <matplotlib.lines.Line2D at 0x7f1ea87877d0>]}"
      ]
     },
     "execution_count": 27,
     "metadata": {},
     "output_type": "execute_result"
    },
    {
     "data": {
      "image/png": "[encoded data removed]",
      "text/plain": [
       "<matplotlib.figure.Figure at 0x7f1e9f72ea50>"
      ]
     },
     "metadata": {},
     "output_type": "display_data"
    }
   ],
   "source": [
    "plt.boxplot(df_small['trip_duration'])\n"
   ]
  },
  {
   "cell_type": "code",
   "execution_count": null,
   "metadata": {
    "collapsed": true
   },
   "outputs": [],
   "source": []
  },
  {
   "cell_type": "code",
   "execution_count": 28,
   "metadata": {
    "collapsed": false
   },
   "outputs": [
    {
     "data": {
      "text/plain": [
       "(array([  1.45658900e+06,   7.00000000e+01,   5.00000000e+01,\n",
       "          1.93100000e+03,   0.00000000e+00,   0.00000000e+00,\n",
       "          0.00000000e+00,   0.00000000e+00,   0.00000000e+00,\n",
       "          0.00000000e+00,   0.00000000e+00,   0.00000000e+00,\n",
       "          0.00000000e+00,   0.00000000e+00,   0.00000000e+00,\n",
       "          0.00000000e+00,   0.00000000e+00,   0.00000000e+00,\n",
       "          0.00000000e+00,   0.00000000e+00,   0.00000000e+00,\n",
       "          0.00000000e+00,   0.00000000e+00,   0.00000000e+00,\n",
       "          0.00000000e+00,   0.00000000e+00,   0.00000000e+00,\n",
       "          0.00000000e+00,   0.00000000e+00,   0.00000000e+00,\n",
       "          0.00000000e+00,   0.00000000e+00,   0.00000000e+00,\n",
       "          0.00000000e+00,   0.00000000e+00,   0.00000000e+00,\n",
       "          0.00000000e+00,   0.00000000e+00,   0.00000000e+00,\n",
       "          0.00000000e+00,   0.00000000e+00,   0.00000000e+00,\n",
       "          0.00000000e+00,   0.00000000e+00,   0.00000000e+00,\n",
       "          0.00000000e+00,   0.00000000e+00,   0.00000000e+00,\n",
       "          0.00000000e+00,   0.00000000e+00,   0.00000000e+00,\n",
       "          0.00000000e+00,   0.00000000e+00,   0.00000000e+00,\n",
       "          0.00000000e+00,   0.00000000e+00,   0.00000000e+00,\n",
       "          0.00000000e+00,   0.00000000e+00,   0.00000000e+00,\n",
       "          0.00000000e+00,   0.00000000e+00,   0.00000000e+00,\n",
       "          0.00000000e+00,   0.00000000e+00,   0.00000000e+00,\n",
       "          0.00000000e+00,   0.00000000e+00,   0.00000000e+00,\n",
       "          0.00000000e+00,   0.00000000e+00,   0.00000000e+00,\n",
       "          0.00000000e+00,   0.00000000e+00,   0.00000000e+00,\n",
       "          0.00000000e+00,   0.00000000e+00,   0.00000000e+00,\n",
       "          0.00000000e+00,   0.00000000e+00,   0.00000000e+00,\n",
       "          0.00000000e+00,   1.00000000e+00,   0.00000000e+00,\n",
       "          0.00000000e+00,   0.00000000e+00,   0.00000000e+00,\n",
       "          1.00000000e+00,   0.00000000e+00,   0.00000000e+00,\n",
       "          0.00000000e+00,   0.00000000e+00,   0.00000000e+00,\n",
       "          0.00000000e+00,   1.00000000e+00,   0.00000000e+00,\n",
       "          0.00000000e+00,   0.00000000e+00,   0.00000000e+00,\n",
       "          0.00000000e+00,   0.00000000e+00,   0.00000000e+00,\n",
       "          0.00000000e+00,   0.00000000e+00,   0.00000000e+00,\n",
       "          0.00000000e+00,   0.00000000e+00,   0.00000000e+00,\n",
       "          0.00000000e+00,   0.00000000e+00,   0.00000000e+00,\n",
       "          0.00000000e+00,   0.00000000e+00,   0.00000000e+00,\n",
       "          0.00000000e+00,   0.00000000e+00,   0.00000000e+00,\n",
       "          0.00000000e+00,   0.00000000e+00,   0.00000000e+00,\n",
       "          0.00000000e+00,   0.00000000e+00,   0.00000000e+00,\n",
       "          0.00000000e+00,   0.00000000e+00,   0.00000000e+00,\n",
       "          0.00000000e+00,   0.00000000e+00,   0.00000000e+00,\n",
       "          0.00000000e+00,   0.00000000e+00,   0.00000000e+00,\n",
       "          0.00000000e+00,   0.00000000e+00,   0.00000000e+00,\n",
       "          0.00000000e+00,   0.00000000e+00,   0.00000000e+00,\n",
       "          0.00000000e+00,   0.00000000e+00,   0.00000000e+00,\n",
       "          0.00000000e+00,   0.00000000e+00,   0.00000000e+00,\n",
       "          0.00000000e+00,   0.00000000e+00,   0.00000000e+00,\n",
       "          0.00000000e+00,   0.00000000e+00,   1.00000000e+00]),\n",
       " array([  1.00000000e+00,   2.35095400e+04,   4.70180800e+04,\n",
       "          7.05266200e+04,   9.40351600e+04,   1.17543700e+05,\n",
       "          1.41052240e+05,   1.64560780e+05,   1.88069320e+05,\n",
       "          2.11577860e+05,   2.35086400e+05,   2.58594940e+05,\n",
       "          2.82103480e+05,   3.05612020e+05,   3.29120560e+05,\n",
       "          3.52629100e+05,   3.76137640e+05,   3.99646180e+05,\n",
       "          4.23154720e+05,   4.46663260e+05,   4.70171800e+05,\n",
       "          4.93680340e+05,   5.17188880e+05,   5.40697420e+05,\n",
       "          5.64205960e+05,   5.87714500e+05,   6.11223040e+05,\n",
       "          6.34731580e+05,   6.58240120e+05,   6.81748660e+05,\n",
       "          7.05257200e+05,   7.28765740e+05,   7.52274280e+05,\n",
       "          7.75782820e+05,   7.99291360e+05,   8.22799900e+05,\n",
       "          8.46308440e+05,   8.69816980e+05,   8.93325520e+05,\n",
       "          9.16834060e+05,   9.40342600e+05,   9.63851140e+05,\n",
       "          9.87359680e+05,   1.01086822e+06,   1.03437676e+06,\n",
       "          1.05788530e+06,   1.08139384e+06,   1.10490238e+06,\n",
       "          1.12841092e+06,   1.15191946e+06,   1.17542800e+06,\n",
       "          1.19893654e+06,   1.22244508e+06,   1.24595362e+06,\n",
       "          1.26946216e+06,   1.29297070e+06,   1.31647924e+06,\n",
       "          1.33998778e+06,   1.36349632e+06,   1.38700486e+06,\n",
       "          1.41051340e+06,   1.43402194e+06,   1.45753048e+06,\n",
       "          1.48103902e+06,   1.50454756e+06,   1.52805610e+06,\n",
       "          1.55156464e+06,   1.57507318e+06,   1.59858172e+06,\n",
       "          1.62209026e+06,   1.64559880e+06,   1.66910734e+06,\n",
       "          1.69261588e+06,   1.71612442e+06,   1.73963296e+06,\n",
       "          1.76314150e+06,   1.78665004e+06,   1.81015858e+06,\n",
       "          1.83366712e+06,   1.85717566e+06,   1.88068420e+06,\n",
       "          1.90419274e+06,   1.92770128e+06,   1.95120982e+06,\n",
       "          1.97471836e+06,   1.99822690e+06,   2.02173544e+06,\n",
       "          2.04524398e+06,   2.06875252e+06,   2.09226106e+06,\n",
       "          2.11576960e+06,   2.13927814e+06,   2.16278668e+06,\n",
       "          2.18629522e+06,   2.20980376e+06,   2.23331230e+06,\n",
       "          2.25682084e+06,   2.28032938e+06,   2.30383792e+06,\n",
       "          2.32734646e+06,   2.35085500e+06,   2.37436354e+06,\n",
       "          2.39787208e+06,   2.42138062e+06,   2.44488916e+06,\n",
       "          2.46839770e+06,   2.49190624e+06,   2.51541478e+06,\n",
       "          2.53892332e+06,   2.56243186e+06,   2.58594040e+06,\n",
       "          2.60944894e+06,   2.63295748e+06,   2.65646602e+06,\n",
       "          2.67997456e+06,   2.70348310e+06,   2.72699164e+06,\n",
       "          2.75050018e+06,   2.77400872e+06,   2.79751726e+06,\n",
       "          2.82102580e+06,   2.84453434e+06,   2.86804288e+06,\n",
       "          2.89155142e+06,   2.91505996e+06,   2.93856850e+06,\n",
       "          2.96207704e+06,   2.98558558e+06,   3.00909412e+06,\n",
       "          3.03260266e+06,   3.05611120e+06,   3.07961974e+06,\n",
       "          3.10312828e+06,   3.12663682e+06,   3.15014536e+06,\n",
       "          3.17365390e+06,   3.19716244e+06,   3.22067098e+06,\n",
       "          3.24417952e+06,   3.26768806e+06,   3.29119660e+06,\n",
       "          3.31470514e+06,   3.33821368e+06,   3.36172222e+06,\n",
       "          3.38523076e+06,   3.40873930e+06,   3.43224784e+06,\n",
       "          3.45575638e+06,   3.47926492e+06,   3.50277346e+06,\n",
       "          3.52628200e+06]),\n",
       " <a list of 150 Patch objects>)"
      ]
     },
     "execution_count": 28,
     "metadata": {},
     "output_type": "execute_result"
    },
    {
     "data": {
      "image/png": "[encoded data removed]",
      "text/plain": [
       "<matplotlib.figure.Figure at 0x7f1ea87b7590>"
      ]
     },
     "metadata": {},
     "output_type": "display_data"
    }
   ],
   "source": [
    "plt.hist(df_small['trip_duration'], bins =150)"
   ]
  },
  {
   "cell_type": "code",
   "execution_count": 29,
   "metadata": {
    "collapsed": false
   },
   "outputs": [
    {
     "data": {
      "text/plain": [
       "count    1.458644e+06\n",
       "mean     9.594923e+02\n",
       "std      5.237432e+03\n",
       "min      1.000000e+00\n",
       "25%      3.970000e+02\n",
       "50%      6.620000e+02\n",
       "75%      1.075000e+03\n",
       "max      3.526282e+06\n",
       "Name: trip_duration, dtype: float64"
      ]
     },
     "execution_count": 29,
     "metadata": {},
     "output_type": "execute_result"
    }
   ],
   "source": [
    "df_small['trip_duration'].describe()"
   ]
  },
  {
   "cell_type": "code",
   "execution_count": 30,
   "metadata": {
    "collapsed": false
   },
   "outputs": [],
   "source": [
    "trip_duration_q2=np.percentile(df_small.trip_duration.values,2)"
   ]
  },
  {
   "cell_type": "code",
   "execution_count": 31,
   "metadata": {
    "collapsed": false
   },
   "outputs": [],
   "source": [
    "trip_duration_q98=np.percentile(df_small.trip_duration.values,98)"
   ]
  },
  {
   "cell_type": "code",
   "execution_count": 32,
   "metadata": {
    "collapsed": false
   },
   "outputs": [],
   "source": [
    "df_small_wo_outlier = df_small [ np.logical_and (df_small.trip_duration >trip_duration_q2 \n",
    "          , df_small.trip_duration <trip_duration_q98)]"
   ]
  },
  {
   "cell_type": "code",
   "execution_count": 33,
   "metadata": {
    "collapsed": false
   },
   "outputs": [
    {
     "data": {
      "text/plain": [
       "(array([ 11382.,  13370.,  16056.,  17768.,  19593.,  21454.,  22391.,\n",
       "         24362.,  24697.,  25755.,  25772.,  26745.,  26681.,  27271.,\n",
       "         26818.,  26806.,  27118.,  26541.,  26568.,  26037.,  25909.,\n",
       "         25269.,  24972.,  24646.,  24210.,  23620.,  23155.,  22657.,\n",
       "         22037.,  21524.,  22301.,  20564.,  20058.,  19620.,  18860.,\n",
       "         18596.,  17850.,  17431.,  17103.,  16474.,  16301.,  15565.,\n",
       "         15473.,  14804.,  14213.,  13931.,  13486.,  13225.,  12777.,\n",
       "         12090.,  11886.,  11555.,  11205.,  10598.,  10452.,  10183.,\n",
       "          9857.,   9824.,   9244.,   9025.,   9164.,   8523.,   8018.,\n",
       "          7931.,   7651.,   7347.,   7040.,   6888.,   6822.,   6395.,\n",
       "          6413.,   6151.,   5902.,   5693.,   5574.,   5497.,   5203.,\n",
       "          5126.,   4941.,   4795.,   4569.,   4393.,   4305.,   4080.,\n",
       "          4072.,   3710.,   3709.,   3650.,   3593.,   3670.,   3287.,\n",
       "          3180.,   3109.,   2960.,   2925.,   2880.,   2795.,   2666.,\n",
       "          2571.,   2440.,   2390.,   2327.,   2300.,   2206.,   2141.,\n",
       "          2035.,   2042.,   1936.,   1878.,   1895.,   1755.,   1721.,\n",
       "          1691.,   1597.,   1570.,   1567.,   1435.,   1402.,   1316.,\n",
       "          1364.,   1476.,   1288.,   1226.,   1217.,   1186.,   1138.,\n",
       "          1145.,   1089.,   1066.,   1061.,   1031.,    967.,    941.,\n",
       "           958.,    889.,    928.,    901.,    874.,    863.,    768.,\n",
       "           765.,    759.,    720.,    730.,    747.,    710.,    679.,\n",
       "           670.,    680.,    647.]),\n",
       " array([  123.        ,   141.03333333,   159.06666667,   177.1       ,\n",
       "          195.13333333,   213.16666667,   231.2       ,   249.23333333,\n",
       "          267.26666667,   285.3       ,   303.33333333,   321.36666667,\n",
       "          339.4       ,   357.43333333,   375.46666667,   393.5       ,\n",
       "          411.53333333,   429.56666667,   447.6       ,   465.63333333,\n",
       "          483.66666667,   501.7       ,   519.73333333,   537.76666667,\n",
       "          555.8       ,   573.83333333,   591.86666667,   609.9       ,\n",
       "          627.93333333,   645.96666667,   664.        ,   682.03333333,\n",
       "          700.06666667,   718.1       ,   736.13333333,   754.16666667,\n",
       "          772.2       ,   790.23333333,   808.26666667,   826.3       ,\n",
       "          844.33333333,   862.36666667,   880.4       ,   898.43333333,\n",
       "          916.46666667,   934.5       ,   952.53333333,   970.56666667,\n",
       "          988.6       ,  1006.63333333,  1024.66666667,  1042.7       ,\n",
       "         1060.73333333,  1078.76666667,  1096.8       ,  1114.83333333,\n",
       "         1132.86666667,  1150.9       ,  1168.93333333,  1186.96666667,\n",
       "         1205.        ,  1223.03333333,  1241.06666667,  1259.1       ,\n",
       "         1277.13333333,  1295.16666667,  1313.2       ,  1331.23333333,\n",
       "         1349.26666667,  1367.3       ,  1385.33333333,  1403.36666667,\n",
       "         1421.4       ,  1439.43333333,  1457.46666667,  1475.5       ,\n",
       "         1493.53333333,  1511.56666667,  1529.6       ,  1547.63333333,\n",
       "         1565.66666667,  1583.7       ,  1601.73333333,  1619.76666667,\n",
       "         1637.8       ,  1655.83333333,  1673.86666667,  1691.9       ,\n",
       "         1709.93333333,  1727.96666667,  1746.        ,  1764.03333333,\n",
       "         1782.06666667,  1800.1       ,  1818.13333333,  1836.16666667,\n",
       "         1854.2       ,  1872.23333333,  1890.26666667,  1908.3       ,\n",
       "         1926.33333333,  1944.36666667,  1962.4       ,  1980.43333333,\n",
       "         1998.46666667,  2016.5       ,  2034.53333333,  2052.56666667,\n",
       "         2070.6       ,  2088.63333333,  2106.66666667,  2124.7       ,\n",
       "         2142.73333333,  2160.76666667,  2178.8       ,  2196.83333333,\n",
       "         2214.86666667,  2232.9       ,  2250.93333333,  2268.96666667,\n",
       "         2287.        ,  2305.03333333,  2323.06666667,  2341.1       ,\n",
       "         2359.13333333,  2377.16666667,  2395.2       ,  2413.23333333,\n",
       "         2431.26666667,  2449.3       ,  2467.33333333,  2485.36666667,\n",
       "         2503.4       ,  2521.43333333,  2539.46666667,  2557.5       ,\n",
       "         2575.53333333,  2593.56666667,  2611.6       ,  2629.63333333,\n",
       "         2647.66666667,  2665.7       ,  2683.73333333,  2701.76666667,\n",
       "         2719.8       ,  2737.83333333,  2755.86666667,  2773.9       ,\n",
       "         2791.93333333,  2809.96666667,  2828.        ]),\n",
       " <a list of 150 Patch objects>)"
      ]
     },
     "execution_count": 33,
     "metadata": {},
     "output_type": "execute_result"
    },
    {
     "data": {
      "image/png": "[encoded data removed]",
      "text/plain": [
       "<matplotlib.figure.Figure at 0x7f1ea87b7350>"
      ]
     },
     "metadata": {},
     "output_type": "display_data"
    }
   ],
   "source": [
    "plt.hist(df_small_wo_outlier['trip_duration'], bins =150)"
   ]
  },
  {
   "cell_type": "code",
   "execution_count": 34,
   "metadata": {
    "collapsed": false
   },
   "outputs": [
    {
     "data": {
      "text/plain": [
       "(array([  1659.,   1647.,   1142.,   1818.,   2007.,   1824.,   1976.,\n",
       "          2065.,   2131.,   2247.,   2244.,   3195.,   2449.,   2530.,\n",
       "          3531.,   2763.,   3625.,   3761.,   2974.,   4015.,   3862.,\n",
       "          4034.,   4216.,   5475.,   4350.,   4291.,   5820.,   4743.,\n",
       "          5989.,   6054.,   6050.,   6146.,   6283.,   6389.,   6643.,\n",
       "          8227.,   6806.,   8023.,   6980.,   8300.,   8516.,   8516.,\n",
       "         10058.,   8629.,   9937.,   8660.,  10517.,  10288.,  10129.,\n",
       "         10494.,  11998.,  10620.,  12182.,  12032.,  11889.,  11800.,\n",
       "         11947.,  13401.,  13705.,  13354.,  13323.,  13397.,  13201.,\n",
       "         14670.,  14513.,  14471.,  14282.,  15598.,  15289.,  15409.,\n",
       "         15241.,  14906.,  16301.,  15959.,  15819.,  16722.,  15348.,\n",
       "         16218.,  17197.,  15597.,  16755.,  16313.,  17057.,  15912.,\n",
       "         16410.,  17267.,  15681.,  16354.,  16867.,  15526.,  16126.,\n",
       "         16620.,  16252.,  15862.,  15351.,  15801.,  15826.,  14691.,\n",
       "         14967.,  15384.,  14539.,  13920.,  14182.,  14264.,  13492.,\n",
       "         13153.,  13253.,  12865.,  12654.,  12117.,  12038.,  11882.,\n",
       "         11345.,  10658.,  10722.,  10464.,  10070.,   9833.,   9573.,\n",
       "          9179.,   8972.,   8751.,   8100.,   7819.,   7499.,   7112.,\n",
       "          7039.,   6614.,   6404.,   6090.,   5881.,   5444.,   5277.,\n",
       "          5009.,   4696.,   4525.,   4364.,   3981.,   3829.,   3508.,\n",
       "          3494.,   3190.,   3182.,   2923.,   2779.,   2711.,   2501.,\n",
       "          2322.,   2247.,   2155.]),\n",
       " array([ 4.81218436,  4.83308529,  4.85398623,  4.87488717,  4.89578811,\n",
       "         4.91668904,  4.93758998,  4.95849092,  4.97939186,  5.0002928 ,\n",
       "         5.02119373,  5.04209467,  5.06299561,  5.08389655,  5.10479748,\n",
       "         5.12569842,  5.14659936,  5.1675003 ,  5.18840124,  5.20930217,\n",
       "         5.23020311,  5.25110405,  5.27200499,  5.29290593,  5.31380686,\n",
       "         5.3347078 ,  5.35560874,  5.37650968,  5.39741061,  5.41831155,\n",
       "         5.43921249,  5.46011343,  5.48101437,  5.5019153 ,  5.52281624,\n",
       "         5.54371718,  5.56461812,  5.58551905,  5.60641999,  5.62732093,\n",
       "         5.64822187,  5.66912281,  5.69002374,  5.71092468,  5.73182562,\n",
       "         5.75272656,  5.77362749,  5.79452843,  5.81542937,  5.83633031,\n",
       "         5.85723125,  5.87813218,  5.89903312,  5.91993406,  5.940835  ,\n",
       "         5.96173593,  5.98263687,  6.00353781,  6.02443875,  6.04533969,\n",
       "         6.06624062,  6.08714156,  6.1080425 ,  6.12894344,  6.14984438,\n",
       "         6.17074531,  6.19164625,  6.21254719,  6.23344813,  6.25434906,\n",
       "         6.27525   ,  6.29615094,  6.31705188,  6.33795282,  6.35885375,\n",
       "         6.37975469,  6.40065563,  6.42155657,  6.4424575 ,  6.46335844,\n",
       "         6.48425938,  6.50516032,  6.52606126,  6.54696219,  6.56786313,\n",
       "         6.58876407,  6.60966501,  6.63056594,  6.65146688,  6.67236782,\n",
       "         6.69326876,  6.7141697 ,  6.73507063,  6.75597157,  6.77687251,\n",
       "         6.79777345,  6.81867439,  6.83957532,  6.86047626,  6.8813772 ,\n",
       "         6.90227814,  6.92317907,  6.94408001,  6.96498095,  6.98588189,\n",
       "         7.00678283,  7.02768376,  7.0485847 ,  7.06948564,  7.09038658,\n",
       "         7.11128751,  7.13218845,  7.15308939,  7.17399033,  7.19489127,\n",
       "         7.2157922 ,  7.23669314,  7.25759408,  7.27849502,  7.29939595,\n",
       "         7.32029689,  7.34119783,  7.36209877,  7.38299971,  7.40390064,\n",
       "         7.42480158,  7.44570252,  7.46660346,  7.4875044 ,  7.50840533,\n",
       "         7.52930627,  7.55020721,  7.57110815,  7.59200908,  7.61291002,\n",
       "         7.63381096,  7.6547119 ,  7.67561284,  7.69651377,  7.71741471,\n",
       "         7.73831565,  7.75921659,  7.78011752,  7.80101846,  7.8219194 ,\n",
       "         7.84282034,  7.86372128,  7.88462221,  7.90552315,  7.92642409,\n",
       "         7.94732503]),\n",
       " <a list of 150 Patch objects>)"
      ]
     },
     "execution_count": 34,
     "metadata": {},
     "output_type": "execute_result"
    },
    {
     "data": {
      "image/png": "[encoded data removed]",
      "text/plain": [
       "<matplotlib.figure.Figure at 0x7f1ea1344250>"
      ]
     },
     "metadata": {},
     "output_type": "display_data"
    }
   ],
   "source": [
    "plt.hist(np.log(df_small_wo_outlier['trip_duration'].values), bins =150)"
   ]
  },
  {
   "cell_type": "code",
   "execution_count": 35,
   "metadata": {
    "collapsed": false
   },
   "outputs": [
    {
     "data": {
      "text/plain": [
       "array(['N', 'Y'], dtype=object)"
      ]
     },
     "execution_count": 35,
     "metadata": {},
     "output_type": "execute_result"
    }
   ],
   "source": [
    "np.unique(df.store_and_fwd_flag)"
   ]
  },
  {
   "cell_type": "code",
   "execution_count": 36,
   "metadata": {
    "collapsed": false
   },
   "outputs": [
    {
     "data": {
      "text/plain": [
       "count    8045.000000\n",
       "mean     1080.763331\n",
       "std       925.645317\n",
       "min         2.000000\n",
       "25%       455.000000\n",
       "50%       812.000000\n",
       "75%      1400.000000\n",
       "max      9984.000000\n",
       "Name: trip_duration, dtype: float64"
      ]
     },
     "execution_count": 36,
     "metadata": {},
     "output_type": "execute_result"
    }
   ],
   "source": [
    "df[df['store_and_fwd_flag']==\"Y\"].trip_duration.describe()"
   ]
  },
  {
   "cell_type": "code",
   "execution_count": 37,
   "metadata": {
    "collapsed": false
   },
   "outputs": [
    {
     "data": {
      "text/plain": [
       "(array([  4.82600000e+03,   2.13500000e+03,   6.95000000e+02,\n",
       "          2.51000000e+02,   9.20000000e+01,   3.30000000e+01,\n",
       "          1.00000000e+01,   2.00000000e+00,   0.00000000e+00,\n",
       "          1.00000000e+00]),\n",
       " array([  2.00000000e+00,   1.00020000e+03,   1.99840000e+03,\n",
       "          2.99660000e+03,   3.99480000e+03,   4.99300000e+03,\n",
       "          5.99120000e+03,   6.98940000e+03,   7.98760000e+03,\n",
       "          8.98580000e+03,   9.98400000e+03]),\n",
       " <a list of 10 Patch objects>)"
      ]
     },
     "execution_count": 37,
     "metadata": {},
     "output_type": "execute_result"
    },
    {
     "data": {
      "image/png": "[encoded data removed]",
      "text/plain": [
       "<matplotlib.figure.Figure at 0x7f1ea0bf0810>"
      ]
     },
     "metadata": {},
     "output_type": "display_data"
    }
   ],
   "source": [
    "plt.hist(df[df['store_and_fwd_flag']==\"Y\"].trip_duration)"
   ]
  },
  {
   "cell_type": "code",
   "execution_count": 38,
   "metadata": {
    "collapsed": false
   },
   "outputs": [
    {
     "data": {
      "text/plain": [
       "count    1.450599e+06\n",
       "mean     9.588197e+02\n",
       "std      5.251475e+03\n",
       "min      1.000000e+00\n",
       "25%      3.970000e+02\n",
       "50%      6.620000e+02\n",
       "75%      1.074000e+03\n",
       "max      3.526282e+06\n",
       "Name: trip_duration, dtype: float64"
      ]
     },
     "execution_count": 38,
     "metadata": {},
     "output_type": "execute_result"
    }
   ],
   "source": [
    "df[df['store_and_fwd_flag']==\"N\"].trip_duration.describe()"
   ]
  },
  {
   "cell_type": "code",
   "execution_count": 39,
   "metadata": {
    "collapsed": false
   },
   "outputs": [
    {
     "data": {
      "text/plain": [
       "Index([u'id', u'vendor_id', u'pickup_datetime', u'dropoff_datetime',\n",
       "       u'passenger_count', u'pickup_longitude', u'pickup_latitude',\n",
       "       u'dropoff_longitude', u'dropoff_latitude', u'store_and_fwd_flag',\n",
       "       u'trip_duration', u'dist', u'pickup_year', u'pickup_month',\n",
       "       u'pickup_day', u'pickup_week_day', u'pickup_hour'],\n",
       "      dtype='object')"
      ]
     },
     "execution_count": 39,
     "metadata": {},
     "output_type": "execute_result"
    }
   ],
   "source": [
    "df.columns"
   ]
  },
  {
   "cell_type": "code",
   "execution_count": 40,
   "metadata": {
    "collapsed": true
   },
   "outputs": [],
   "source": [
    "df_selected = df[ np.logical_and (df_small.trip_duration >trip_duration_q2 \n",
    "          , df_small.trip_duration <trip_duration_q98)]"
   ]
  },
  {
   "cell_type": "code",
   "execution_count": 41,
   "metadata": {
    "collapsed": false
   },
   "outputs": [],
   "source": [
    "df_selected = df_selected[['vendor_id','passenger_count',\n",
    "                  'store_and_fwd_flag','pickup_month','pickup_day', 'pickup_hour',\n",
    "                  'pickup_week_day','trip_duration','dist']]"
   ]
  },
  {
   "cell_type": "code",
   "execution_count": 42,
   "metadata": {
    "collapsed": false
   },
   "outputs": [],
   "source": [
    "feature = df_selected[['vendor_id','passenger_count',\n",
    "                  'store_and_fwd_flag','pickup_month','pickup_hour',\n",
    "                  'pickup_week_day','dist']]"
   ]
  },
  {
   "cell_type": "code",
   "execution_count": 43,
   "metadata": {
    "collapsed": true
   },
   "outputs": [],
   "source": [
    "df_selected_200 = df_selected[:200]"
   ]
  },
  {
   "cell_type": "code",
   "execution_count": 44,
   "metadata": {
    "collapsed": false
   },
   "outputs": [
    {
     "name": "stderr",
     "output_type": "stream",
     "text": [
      ":0: FutureWarning: IPython widgets are experimental and may change in the future.\n"
     ]
    },
    {
     "data": {
      "text/plain": [
       "<matplotlib.axes._subplots.AxesSubplot at 0x7f1ea00085d0>"
      ]
     },
     "execution_count": 44,
     "metadata": {},
     "output_type": "execute_result"
    },
    {
     "data": {
      "image/png": "[encoded data removed]",
      "text/plain": [
       "<matplotlib.figure.Figure at 0x7f1ea050f890>"
      ]
     },
     "metadata": {},
     "output_type": "display_data"
    }
   ],
   "source": [
    "import seaborn as sns\n",
    "sns.set(style=\"whitegrid\", color_codes=True)\n",
    "sns.stripplot(x=\"pickup_week_day\", y=\"trip_duration\", data=df_selected_200, jitter=True)"
   ]
  },
  {
   "cell_type": "code",
   "execution_count": 45,
   "metadata": {
    "collapsed": false
   },
   "outputs": [
    {
     "data": {
      "text/plain": [
       "<matplotlib.axes._subplots.AxesSubplot at 0x7f1ea0037a10>"
      ]
     },
     "execution_count": 45,
     "metadata": {},
     "output_type": "execute_result"
    },
    {
     "data": {
      "image/png": "[encoded data removed]",
      "text/plain": [
       "<matplotlib.figure.Figure at 0x7f1e9ffcd250>"
      ]
     },
     "metadata": {},
     "output_type": "display_data"
    }
   ],
   "source": [
    "sns.stripplot(x=\"pickup_month\", y=\"trip_duration\", data=df_selected_200,  jitter=True)"
   ]
  },
  {
   "cell_type": "code",
   "execution_count": 46,
   "metadata": {
    "collapsed": false
   },
   "outputs": [
    {
     "data": {
      "text/plain": [
       "<matplotlib.axes._subplots.AxesSubplot at 0x7f1ea0af0790>"
      ]
     },
     "execution_count": 46,
     "metadata": {},
     "output_type": "execute_result"
    },
    {
     "data": {
      "image/png": "[encoded data removed]",
      "text/plain": [
       "<matplotlib.figure.Figure at 0x7f1ea86273d0>"
      ]
     },
     "metadata": {},
     "output_type": "display_data"
    }
   ],
   "source": [
    "sns.swarmplot(x=\"pickup_week_day\", y=\"trip_duration\", data=df_selected_200)"
   ]
  },
  {
   "cell_type": "code",
   "execution_count": 47,
   "metadata": {
    "collapsed": false
   },
   "outputs": [
    {
     "data": {
      "text/plain": [
       "<matplotlib.axes._subplots.AxesSubplot at 0x7f1e9fddfb50>"
      ]
     },
     "execution_count": 47,
     "metadata": {},
     "output_type": "execute_result"
    },
    {
     "data": {
      "image/png": "[encoded data removed]",
      "text/plain": [
       "<matplotlib.figure.Figure at 0x7f1e9fe03790>"
      ]
     },
     "metadata": {},
     "output_type": "display_data"
    }
   ],
   "source": [
    "sns.swarmplot(x=\"pickup_month\", y=\"trip_duration\", data=df_selected_200)"
   ]
  },
  {
   "cell_type": "code",
   "execution_count": 48,
   "metadata": {
    "collapsed": false
   },
   "outputs": [
    {
     "data": {
      "text/plain": [
       "<matplotlib.axes._subplots.AxesSubplot at 0x7f1e9fdb7590>"
      ]
     },
     "execution_count": 48,
     "metadata": {},
     "output_type": "execute_result"
    },
    {
     "data": {
      "image/png": "[encoded data removed]",
      "text/plain": [
       "<matplotlib.figure.Figure at 0x7f1e9fd8df90>"
      ]
     },
     "metadata": {},
     "output_type": "display_data"
    }
   ],
   "source": [
    "sns.swarmplot(x=\"pickup_hour\", y=\"trip_duration\", data=df_selected_200)"
   ]
  },
  {
   "cell_type": "code",
   "execution_count": 49,
   "metadata": {
    "collapsed": true
   },
   "outputs": [],
   "source": [
    "X= pd.get_dummies(feature)"
   ]
  },
  {
   "cell_type": "code",
   "execution_count": 50,
   "metadata": {
    "collapsed": false
   },
   "outputs": [
    {
     "data": {
      "text/html": [
       "<div>\n",
       "<style>\n",
       "    .dataframe thead tr:only-child th {\n",
       "        text-align: right;\n",
       "    }\n",
       "\n",
       "    .dataframe thead th {\n",
       "        text-align: left;\n",
       "    }\n",
       "\n",
       "    .dataframe tbody tr th {\n",
       "        vertical-align: top;\n",
       "    }\n",
       "</style>\n",
       "<table border=\"1\" class=\"dataframe\">\n",
       "  <thead>\n",
       "    <tr style=\"text-align: right;\">\n",
       "      <th></th>\n",
       "      <th>vendor_id</th>\n",
       "      <th>passenger_count</th>\n",
       "      <th>dist</th>\n",
       "      <th>store_and_fwd_flag_N</th>\n",
       "      <th>store_and_fwd_flag_Y</th>\n",
       "      <th>pickup_month_1</th>\n",
       "      <th>pickup_month_2</th>\n",
       "      <th>pickup_month_3</th>\n",
       "      <th>pickup_month_4</th>\n",
       "      <th>pickup_month_5</th>\n",
       "      <th>...</th>\n",
       "      <th>pickup_hour_7</th>\n",
       "      <th>pickup_hour_8</th>\n",
       "      <th>pickup_hour_9</th>\n",
       "      <th>pickup_week_day_Friday</th>\n",
       "      <th>pickup_week_day_Monday</th>\n",
       "      <th>pickup_week_day_Saturday</th>\n",
       "      <th>pickup_week_day_Sunday</th>\n",
       "      <th>pickup_week_day_Thursday</th>\n",
       "      <th>pickup_week_day_Tuesday</th>\n",
       "      <th>pickup_week_day_Wednesday</th>\n",
       "    </tr>\n",
       "  </thead>\n",
       "  <tbody>\n",
       "    <tr>\n",
       "      <th>0</th>\n",
       "      <td>2</td>\n",
       "      <td>1</td>\n",
       "      <td>0.002289</td>\n",
       "      <td>1</td>\n",
       "      <td>0</td>\n",
       "      <td>0</td>\n",
       "      <td>0</td>\n",
       "      <td>1</td>\n",
       "      <td>0</td>\n",
       "      <td>0</td>\n",
       "      <td>...</td>\n",
       "      <td>0</td>\n",
       "      <td>0</td>\n",
       "      <td>0</td>\n",
       "      <td>0</td>\n",
       "      <td>1</td>\n",
       "      <td>0</td>\n",
       "      <td>0</td>\n",
       "      <td>0</td>\n",
       "      <td>0</td>\n",
       "      <td>0</td>\n",
       "    </tr>\n",
       "    <tr>\n",
       "      <th>1</th>\n",
       "      <td>1</td>\n",
       "      <td>1</td>\n",
       "      <td>0.002503</td>\n",
       "      <td>1</td>\n",
       "      <td>0</td>\n",
       "      <td>0</td>\n",
       "      <td>0</td>\n",
       "      <td>0</td>\n",
       "      <td>0</td>\n",
       "      <td>0</td>\n",
       "      <td>...</td>\n",
       "      <td>0</td>\n",
       "      <td>0</td>\n",
       "      <td>0</td>\n",
       "      <td>0</td>\n",
       "      <td>0</td>\n",
       "      <td>0</td>\n",
       "      <td>1</td>\n",
       "      <td>0</td>\n",
       "      <td>0</td>\n",
       "      <td>0</td>\n",
       "    </tr>\n",
       "    <tr>\n",
       "      <th>2</th>\n",
       "      <td>2</td>\n",
       "      <td>1</td>\n",
       "      <td>0.003943</td>\n",
       "      <td>1</td>\n",
       "      <td>0</td>\n",
       "      <td>1</td>\n",
       "      <td>0</td>\n",
       "      <td>0</td>\n",
       "      <td>0</td>\n",
       "      <td>0</td>\n",
       "      <td>...</td>\n",
       "      <td>0</td>\n",
       "      <td>0</td>\n",
       "      <td>0</td>\n",
       "      <td>0</td>\n",
       "      <td>0</td>\n",
       "      <td>0</td>\n",
       "      <td>0</td>\n",
       "      <td>0</td>\n",
       "      <td>1</td>\n",
       "      <td>0</td>\n",
       "    </tr>\n",
       "    <tr>\n",
       "      <th>3</th>\n",
       "      <td>2</td>\n",
       "      <td>1</td>\n",
       "      <td>0.000558</td>\n",
       "      <td>1</td>\n",
       "      <td>0</td>\n",
       "      <td>0</td>\n",
       "      <td>0</td>\n",
       "      <td>0</td>\n",
       "      <td>1</td>\n",
       "      <td>0</td>\n",
       "      <td>...</td>\n",
       "      <td>0</td>\n",
       "      <td>0</td>\n",
       "      <td>0</td>\n",
       "      <td>0</td>\n",
       "      <td>0</td>\n",
       "      <td>0</td>\n",
       "      <td>0</td>\n",
       "      <td>0</td>\n",
       "      <td>0</td>\n",
       "      <td>1</td>\n",
       "    </tr>\n",
       "    <tr>\n",
       "      <th>4</th>\n",
       "      <td>2</td>\n",
       "      <td>1</td>\n",
       "      <td>0.000386</td>\n",
       "      <td>1</td>\n",
       "      <td>0</td>\n",
       "      <td>0</td>\n",
       "      <td>0</td>\n",
       "      <td>1</td>\n",
       "      <td>0</td>\n",
       "      <td>0</td>\n",
       "      <td>...</td>\n",
       "      <td>0</td>\n",
       "      <td>0</td>\n",
       "      <td>0</td>\n",
       "      <td>0</td>\n",
       "      <td>0</td>\n",
       "      <td>1</td>\n",
       "      <td>0</td>\n",
       "      <td>0</td>\n",
       "      <td>0</td>\n",
       "      <td>0</td>\n",
       "    </tr>\n",
       "  </tbody>\n",
       "</table>\n",
       "<p>5 rows × 42 columns</p>\n",
       "</div>"
      ],
      "text/plain": [
       "   vendor_id  passenger_count      dist  store_and_fwd_flag_N  \\\n",
       "0          2                1  0.002289                     1   \n",
       "1          1                1  0.002503                     1   \n",
       "2          2                1  0.003943                     1   \n",
       "3          2                1  0.000558                     1   \n",
       "4          2                1  0.000386                     1   \n",
       "\n",
       "   store_and_fwd_flag_Y  pickup_month_1  pickup_month_2  pickup_month_3  \\\n",
       "0                     0               0               0               1   \n",
       "1                     0               0               0               0   \n",
       "2                     0               1               0               0   \n",
       "3                     0               0               0               0   \n",
       "4                     0               0               0               1   \n",
       "\n",
       "   pickup_month_4  pickup_month_5            ...              pickup_hour_7  \\\n",
       "0               0               0            ...                          0   \n",
       "1               0               0            ...                          0   \n",
       "2               0               0            ...                          0   \n",
       "3               1               0            ...                          0   \n",
       "4               0               0            ...                          0   \n",
       "\n",
       "   pickup_hour_8  pickup_hour_9  pickup_week_day_Friday  \\\n",
       "0              0              0                       0   \n",
       "1              0              0                       0   \n",
       "2              0              0                       0   \n",
       "3              0              0                       0   \n",
       "4              0              0                       0   \n",
       "\n",
       "   pickup_week_day_Monday  pickup_week_day_Saturday  pickup_week_day_Sunday  \\\n",
       "0                       1                         0                       0   \n",
       "1                       0                         0                       1   \n",
       "2                       0                         0                       0   \n",
       "3                       0                         0                       0   \n",
       "4                       0                         1                       0   \n",
       "\n",
       "   pickup_week_day_Thursday  pickup_week_day_Tuesday  \\\n",
       "0                         0                        0   \n",
       "1                         0                        0   \n",
       "2                         0                        1   \n",
       "3                         0                        0   \n",
       "4                         0                        0   \n",
       "\n",
       "   pickup_week_day_Wednesday  \n",
       "0                          0  \n",
       "1                          0  \n",
       "2                          0  \n",
       "3                          1  \n",
       "4                          0  \n",
       "\n",
       "[5 rows x 42 columns]"
      ]
     },
     "execution_count": 50,
     "metadata": {},
     "output_type": "execute_result"
    }
   ],
   "source": [
    "X.head(5)"
   ]
  },
  {
   "cell_type": "code",
   "execution_count": 51,
   "metadata": {
    "collapsed": false
   },
   "outputs": [
    {
     "data": {
      "text/plain": [
       "(1400060, 42)"
      ]
     },
     "execution_count": 51,
     "metadata": {},
     "output_type": "execute_result"
    }
   ],
   "source": [
    "X.shape"
   ]
  },
  {
   "cell_type": "code",
   "execution_count": 52,
   "metadata": {
    "collapsed": true
   },
   "outputs": [],
   "source": [
    "y = df_selected.trip_duration"
   ]
  },
  {
   "cell_type": "code",
   "execution_count": 53,
   "metadata": {
    "collapsed": false
   },
   "outputs": [
    {
     "name": "stdout",
     "output_type": "stream",
     "text": [
      "(1120048, 42)\n",
      "Training set has 1120048 samples.\n",
      "Testing set has 280012 samples.\n"
     ]
    },
    {
     "name": "stderr",
     "output_type": "stream",
     "text": [
      "/home/yanyan/anaconda/lib/python2.7/site-packages/sklearn/cross_validation.py:44: DeprecationWarning: This module was deprecated in version 0.18 in favor of the model_selection module into which all the refactored classes and functions are moved. Also note that the interface of the new CV iterators are different from that of this module. This module will be removed in 0.20.\n",
      "  \"This module will be removed in 0.20.\", DeprecationWarning)\n"
     ]
    }
   ],
   "source": [
    "from sklearn.cross_validation import train_test_split\n",
    "\n",
    "# Split the 'features' and 'income' data into training and testing sets\n",
    "X_train, X_test, y_train, y_test = train_test_split(X, \n",
    "                                                    y, \n",
    "                                                    test_size = 0.2, \n",
    "                                                    random_state = 42)\n",
    "# Show the results of the split\n",
    "print X_train.shape\n",
    "print \"Training set has {} samples.\".format(X_train.shape[0])\n",
    "print \"Testing set has {} samples.\".format(X_test.shape[0])"
   ]
  },
  {
   "cell_type": "code",
   "execution_count": 54,
   "metadata": {
    "collapsed": true
   },
   "outputs": [],
   "source": [
    "from sklearn.metrics import r2_score\n",
    "\n",
    "def performance_metric(y_true, y_predict):\n",
    "    \"\"\" Calculates and returns the performance score between \n",
    "        true and predicted values based on the metric chosen. \"\"\"\n",
    "    \n",
    "    # Calculate the performance score between 'y_true' and 'y_predict'\n",
    "    score = r2_score(y_true, y_predict)    \n",
    "    \n",
    "    # Return the score\n",
    "    return score"
   ]
  },
  {
   "cell_type": "code",
   "execution_count": 55,
   "metadata": {
    "collapsed": true
   },
   "outputs": [],
   "source": [
    "from sklearn.tree import DecisionTreeRegressor\n",
    "from sklearn.model_selection import GridSearchCV\n",
    "from sklearn.metrics import make_scorer\n",
    "from sklearn.cross_validation import ShuffleSplit\n",
    "\n",
    "def fit_model(X, y):\n",
    "    \"\"\" Performs grid search over the 'max_depth' parameter for a \n",
    "        decision tree regressor trained on the input data [X, y]. \"\"\"\n",
    "    \n",
    "    # Create cross-validation sets from the training data\n",
    "    # sklearn version 0.18: ShuffleSplit(n_splits=10, test_size=0.1, train_size=None, random_state=None)\n",
    "    # sklearn versiin 0.17: ShuffleSplit(n, n_iter=10, test_size=0.1, train_size=None, random_state=None)\n",
    "    cv_sets = ShuffleSplit(X.shape[0], n_iter = 10, test_size = 0.20, random_state = 0)\n",
    "\n",
    "    # Create a decision tree regressor object\n",
    "    regressor = DecisionTreeRegressor(random_state=0)\n",
    "\n",
    "    # Create a dictionary for the parameter 'max_depth' with a range from 1 to 10\n",
    "    params = {'max_depth': range(1,11)}\n",
    "\n",
    "    # Transform 'performance_metric' into a scoring function using 'make_scorer' \n",
    "    scoring_fnc = make_scorer(performance_metric, greater_is_better=True, \n",
    "                              needs_proba=False, needs_threshold=False)\n",
    "    \n",
    "\n",
    "    # Create the grid search cv object --> GridSearchCV()\n",
    "    # Make sure to include the right parameters in the object:\n",
    "    # (estimator, param_grid, scoring, cv) which have values \n",
    "    #'regressor', 'params', 'scoring_fnc', and 'cv_sets' respectively.   \n",
    " \n",
    "    grid= GridSearchCV(regressor, params, scoring=scoring_fnc, cv=cv_sets)        \n",
    "\n",
    "    # Fit the grid search object to the data to compute the optimal model\n",
    "    grid = grid.fit(X, y)\n",
    "\n",
    "    # Return the optimal model after fitting the data\n",
    "    return grid.best_estimator_"
   ]
  },
  {
   "cell_type": "code",
   "execution_count": 56,
   "metadata": {
    "collapsed": false
   },
   "outputs": [
    {
     "name": "stdout",
     "output_type": "stream",
     "text": [
      "Parameter 'max_depth' is 10 for the optimal model.\n"
     ]
    }
   ],
   "source": [
    "# Fit the training data to the model using grid search\n",
    "reg = fit_model(X_train, y_train)\n",
    "\n",
    "# Produce the value for 'max_depth'\n",
    "print \"Parameter 'max_depth' is {} for the optimal model.\".format(reg.get_params()['max_depth'])"
   ]
  },
  {
   "cell_type": "code",
   "execution_count": 57,
   "metadata": {
    "collapsed": false
   },
   "outputs": [
    {
     "name": "stdout",
     "output_type": "stream",
     "text": [
      "0.497043271355\n"
     ]
    }
   ],
   "source": [
    "score = performance_metric(y_test, reg.predict(X_test))\n",
    "print score"
   ]
  },
  {
   "cell_type": "code",
   "execution_count": 108,
   "metadata": {
    "collapsed": false
   },
   "outputs": [
    {
     "data": {
      "text/plain": [
       "array([  4.75014363e-05,   2.17232083e-04,   9.44947220e-01,\n",
       "         7.92288414e-06,   9.63374458e-06,   1.21382518e-04,\n",
       "         1.08396684e-04,   6.36171384e-05,   3.75042697e-05,\n",
       "         1.86651890e-04,   1.35781296e-04,   2.39590260e-03,\n",
       "         2.99887188e-03,   6.31952256e-05,   1.39229425e-04,\n",
       "         0.00000000e+00,   0.00000000e+00,   1.03041922e-03,\n",
       "         1.82696183e-03,   1.75021734e-03,   1.71559168e-03,\n",
       "         1.31223685e-03,   2.32963885e-04,   6.48829817e-04,\n",
       "         3.08018605e-06,   4.31437803e-04,   0.00000000e+00,\n",
       "         9.17478091e-04,   1.09018918e-03,   2.26270101e-03,\n",
       "         6.69973860e-03,   9.15699299e-03,   2.68872193e-03,\n",
       "         4.76802524e-04,   3.30072808e-04,   9.39033420e-05,\n",
       "         1.98754699e-03,   3.77151277e-03,   9.99572266e-03,\n",
       "         3.39498904e-05,   3.03730407e-05,   3.25122237e-05])"
      ]
     },
     "execution_count": 108,
     "metadata": {},
     "output_type": "execute_result"
    }
   ],
   "source": [
    "reg.feature_importances_"
   ]
  },
  {
   "cell_type": "code",
   "execution_count": 113,
   "metadata": {
    "collapsed": false
   },
   "outputs": [
    {
     "data": {
      "text/plain": [
       "Index([u'vendor_id', u'passenger_count', u'dist', u'store_and_fwd_flag_N',\n",
       "       u'store_and_fwd_flag_Y', u'pickup_month_1', u'pickup_month_2',\n",
       "       u'pickup_month_3', u'pickup_month_4', u'pickup_month_5',\n",
       "       u'pickup_month_6', u'pickup_hour_0', u'pickup_hour_1',\n",
       "       u'pickup_hour_10', u'pickup_hour_11', u'pickup_hour_12',\n",
       "       u'pickup_hour_13', u'pickup_hour_14', u'pickup_hour_15',\n",
       "       u'pickup_hour_16', u'pickup_hour_17', u'pickup_hour_18',\n",
       "       u'pickup_hour_19', u'pickup_hour_2', u'pickup_hour_20',\n",
       "       u'pickup_hour_21', u'pickup_hour_22', u'pickup_hour_23',\n",
       "       u'pickup_hour_3', u'pickup_hour_4', u'pickup_hour_5', u'pickup_hour_6',\n",
       "       u'pickup_hour_7', u'pickup_hour_8', u'pickup_hour_9',\n",
       "       u'pickup_week_day_Friday', u'pickup_week_day_Monday',\n",
       "       u'pickup_week_day_Saturday', u'pickup_week_day_Sunday',\n",
       "       u'pickup_week_day_Thursday', u'pickup_week_day_Tuesday',\n",
       "       u'pickup_week_day_Wednesday'],\n",
       "      dtype='object')"
      ]
     },
     "execution_count": 113,
     "metadata": {},
     "output_type": "execute_result"
    }
   ],
   "source": [
    "X_test.columns"
   ]
  },
  {
   "cell_type": "code",
   "execution_count": 112,
   "metadata": {
    "collapsed": false
   },
   "outputs": [
    {
     "name": "stdout",
     "output_type": "stream",
     "text": [
      "Feature ranking:\n",
      "1. feature 2 (0.944947)\n",
      "2. feature 38 (0.009996)\n",
      "3. feature 31 (0.009157)\n",
      "4. feature 30 (0.006700)\n",
      "5. feature 37 (0.003772)\n"
     ]
    },
    {
     "data": {
      "image/png": "[encoded data removed]",
      "text/plain": [
       "<matplotlib.figure.Figure at 0x7f1e7d6d5f10>"
      ]
     },
     "metadata": {},
     "output_type": "display_data"
    }
   ],
   "source": [
    "importances = reg.feature_importances_\n",
    "\n",
    "indices = np.argsort(importances)[::-1]\n",
    "\n",
    "# Print the feature ranking\n",
    "print(\"Feature ranking:\")\n",
    "\n",
    "for f in range(5):\n",
    "    print(\"%d. feature %d (%f)\" % (f + 1, indices[f], importances[indices[f]]))\n",
    "\n",
    "# Plot the feature importances of the forest\n",
    "plt.figure()\n",
    "plt.title(\"Feature importances\")\n",
    "plt.bar(range(5), importances[indices][:5],\n",
    "       color=\"r\",  align=\"center\")\n",
    "plt.xticks(range(5), indices[:5])\n",
    "plt.xlim([-1, 5])\n",
    "plt.show()"
   ]
  },
  {
   "cell_type": "code",
   "execution_count": 115,
   "metadata": {
    "collapsed": false
   },
   "outputs": [
    {
     "data": {
      "image/png": "[encoded data removed]",
      "text/plain": [
       "<matplotlib.figure.Figure at 0x7f1e7dc14d50>"
      ]
     },
     "metadata": {},
     "output_type": "display_data"
    }
   ],
   "source": [
    "import visuals as vs\n",
    "#http://scikit-learn.org/stable/auto_examples/ensemble/plot_forest_importances.html\n",
    "from sklearn.ensemble import ExtraTreesClassifier\n",
    "\n",
    "\n",
    "# TODO: Extract the feature importances using .feature_importances_ \n",
    "importances = reg.feature_importances_\n",
    "\n",
    "# Plot\n",
    "vs.feature_plot(importances, X_train, y_train)"
   ]
  },
  {
   "cell_type": "markdown",
   "metadata": {},
   "source": [
    "# test "
   ]
  },
  {
   "cell_type": "code",
   "execution_count": 58,
   "metadata": {
    "collapsed": true
   },
   "outputs": [],
   "source": [
    "df_test = pd.read_csv(\"test.csv\")"
   ]
  },
  {
   "cell_type": "code",
   "execution_count": 59,
   "metadata": {
    "collapsed": false
   },
   "outputs": [
    {
     "data": {
      "text/plain": [
       "Index([u'id', u'vendor_id', u'pickup_datetime', u'passenger_count',\n",
       "       u'pickup_longitude', u'pickup_latitude', u'dropoff_longitude',\n",
       "       u'dropoff_latitude', u'store_and_fwd_flag'],\n",
       "      dtype='object')"
      ]
     },
     "execution_count": 59,
     "metadata": {},
     "output_type": "execute_result"
    }
   ],
   "source": [
    "df_test.columns"
   ]
  },
  {
   "cell_type": "code",
   "execution_count": 60,
   "metadata": {
    "collapsed": false
   },
   "outputs": [],
   "source": [
    "df_test['pickup_month'] = df_test['pickup_datetime'].apply(get_month)\n",
    "df_test['pickup_week_day'] = df_test['pickup_datetime'].apply(get_week_day)\n",
    "df_test['pickup_hour'] = df_test['pickup_datetime'].apply(get_hour)"
   ]
  },
  {
   "cell_type": "code",
   "execution_count": 61,
   "metadata": {
    "collapsed": false
   },
   "outputs": [
    {
     "name": "stderr",
     "output_type": "stream",
     "text": [
      "/home/yanyan/anaconda/lib/python2.7/site-packages/sklearn/preprocessing/data.py:321: DeprecationWarning: Passing 1d arrays as data is deprecated in 0.17 and will raise ValueError in 0.19. Reshape your data either using X.reshape(-1, 1) if your data has a single feature or X.reshape(1, -1) if it contains a single sample.\n",
      "  warnings.warn(DEPRECATION_MSG_1D, DeprecationWarning)\n",
      "/home/yanyan/anaconda/lib/python2.7/site-packages/sklearn/preprocessing/data.py:356: DeprecationWarning: Passing 1d arrays as data is deprecated in 0.17 and will raise ValueError in 0.19. Reshape your data either using X.reshape(-1, 1) if your data has a single feature or X.reshape(1, -1) if it contains a single sample.\n",
      "  warnings.warn(DEPRECATION_MSG_1D, DeprecationWarning)\n"
     ]
    }
   ],
   "source": [
    "df_test['dist'] = df_test.apply(cal_dis, axis=1)\n",
    "scaler = MinMaxScaler() # default=(0, 1)\n",
    "\n",
    "df_test['dist'] = scaler.fit_transform(df_test['dist'])"
   ]
  },
  {
   "cell_type": "code",
   "execution_count": 62,
   "metadata": {
    "collapsed": true
   },
   "outputs": [],
   "source": [
    "feature_test = df_test[['vendor_id','passenger_count',\n",
    "                  'store_and_fwd_flag','pickup_month','pickup_hour',\n",
    "                  'pickup_week_day','dist']]"
   ]
  },
  {
   "cell_type": "code",
   "execution_count": 63,
   "metadata": {
    "collapsed": false
   },
   "outputs": [],
   "source": [
    "# df_test.columns"
   ]
  },
  {
   "cell_type": "code",
   "execution_count": 64,
   "metadata": {
    "collapsed": true
   },
   "outputs": [],
   "source": [
    "df_test_dum= pd.get_dummies(feature_test)"
   ]
  },
  {
   "cell_type": "code",
   "execution_count": 65,
   "metadata": {
    "collapsed": false
   },
   "outputs": [],
   "source": [
    "# pred = reg.predict(df_test_dum).astype(int)"
   ]
  },
  {
   "cell_type": "code",
   "execution_count": 66,
   "metadata": {
    "collapsed": false
   },
   "outputs": [],
   "source": [
    "# result_df = pd.DataFrame({\"trip_duration\":pred}, index = df_test['id'])"
   ]
  },
  {
   "cell_type": "code",
   "execution_count": 67,
   "metadata": {
    "collapsed": false
   },
   "outputs": [],
   "source": [
    "# result_df.head(100)"
   ]
  },
  {
   "cell_type": "code",
   "execution_count": 68,
   "metadata": {
    "collapsed": false
   },
   "outputs": [],
   "source": [
    "# result_df.to_csv(\"result1.csv\")"
   ]
  },
  {
   "cell_type": "markdown",
   "metadata": {},
   "source": [
    "##used  RandomForestRegressor"
   ]
  },
  {
   "cell_type": "code",
   "execution_count": 97,
   "metadata": {
    "collapsed": true
   },
   "outputs": [],
   "source": [
    "from sklearn.ensemble import RandomForestRegressor"
   ]
  },
  {
   "cell_type": "code",
   "execution_count": 98,
   "metadata": {
    "collapsed": false
   },
   "outputs": [],
   "source": [
    "regr = RandomForestRegressor(max_depth=2, random_state=0)"
   ]
  },
  {
   "cell_type": "code",
   "execution_count": 99,
   "metadata": {
    "collapsed": false
   },
   "outputs": [
    {
     "data": {
      "text/plain": [
       "RandomForestRegressor(bootstrap=True, criterion='mse', max_depth=2,\n",
       "           max_features='auto', max_leaf_nodes=None,\n",
       "           min_impurity_split=1e-07, min_samples_leaf=1,\n",
       "           min_samples_split=2, min_weight_fraction_leaf=0.0,\n",
       "           n_estimators=10, n_jobs=1, oob_score=False, random_state=0,\n",
       "           verbose=0, warm_start=False)"
      ]
     },
     "execution_count": 99,
     "metadata": {},
     "output_type": "execute_result"
    }
   ],
   "source": [
    "regr.fit(X_train, y_train)"
   ]
  },
  {
   "cell_type": "code",
   "execution_count": 100,
   "metadata": {
    "collapsed": false
   },
   "outputs": [],
   "source": [
    "pred = regr.predict(df_test_dum).astype(int)"
   ]
  },
  {
   "cell_type": "code",
   "execution_count": 101,
   "metadata": {
    "collapsed": false
   },
   "outputs": [
    {
     "name": "stdout",
     "output_type": "stream",
     "text": [
      "0.443821285565\n"
     ]
    }
   ],
   "source": [
    "score = performance_metric(y_test, regr.predict(X_test))\n",
    "print score"
   ]
  },
  {
   "cell_type": "code",
   "execution_count": 102,
   "metadata": {
    "collapsed": true
   },
   "outputs": [],
   "source": [
    "result_df = pd.DataFrame({\"trip_duration\":pred}, index = df_test['id'])"
   ]
  },
  {
   "cell_type": "code",
   "execution_count": 103,
   "metadata": {
    "collapsed": true
   },
   "outputs": [],
   "source": [
    "result_df.to_csv(\"result2.csv\")"
   ]
  },
  {
   "cell_type": "markdown",
   "metadata": {},
   "source": [
    "# linear regression"
   ]
  },
  {
   "cell_type": "code",
   "execution_count": 76,
   "metadata": {
    "collapsed": true
   },
   "outputs": [],
   "source": [
    "from sklearn.linear_model import Ridge"
   ]
  },
  {
   "cell_type": "code",
   "execution_count": 77,
   "metadata": {
    "collapsed": true
   },
   "outputs": [],
   "source": [
    "clf = Ridge(alpha=0.5)"
   ]
  },
  {
   "cell_type": "code",
   "execution_count": 78,
   "metadata": {
    "collapsed": false
   },
   "outputs": [],
   "source": [
    "regr=clf.fit(X_train, y_train)"
   ]
  },
  {
   "cell_type": "code",
   "execution_count": 79,
   "metadata": {
    "collapsed": true
   },
   "outputs": [],
   "source": [
    "pred = regr.predict(df_test_dum).astype(int)"
   ]
  },
  {
   "cell_type": "code",
   "execution_count": 80,
   "metadata": {
    "collapsed": false
   },
   "outputs": [
    {
     "name": "stdout",
     "output_type": "stream",
     "text": [
      "0.338899198341\n"
     ]
    }
   ],
   "source": [
    "score = performance_metric(y_test, regr.predict(X_test))\n",
    "print score"
   ]
  },
  {
   "cell_type": "code",
   "execution_count": 81,
   "metadata": {
    "collapsed": true
   },
   "outputs": [],
   "source": [
    "result_df = pd.DataFrame({\"trip_duration\":pred}, index = df_test['id'])"
   ]
  },
  {
   "cell_type": "code",
   "execution_count": 82,
   "metadata": {
    "collapsed": true
   },
   "outputs": [],
   "source": [
    "result_df.to_csv(\"result3.csv\")"
   ]
  },
  {
   "cell_type": "markdown",
   "metadata": {},
   "source": [
    "#nearest neighbour"
   ]
  },
  {
   "cell_type": "code",
   "execution_count": 83,
   "metadata": {
    "collapsed": true
   },
   "outputs": [],
   "source": [
    "full = X_train.copy()\n",
    "full['trip_duration'] = y_train"
   ]
  },
  {
   "cell_type": "code",
   "execution_count": 84,
   "metadata": {
    "collapsed": false
   },
   "outputs": [
    {
     "data": {
      "text/html": [
       "<div>\n",
       "<style>\n",
       "    .dataframe thead tr:only-child th {\n",
       "        text-align: right;\n",
       "    }\n",
       "\n",
       "    .dataframe thead th {\n",
       "        text-align: left;\n",
       "    }\n",
       "\n",
       "    .dataframe tbody tr th {\n",
       "        vertical-align: top;\n",
       "    }\n",
       "</style>\n",
       "<table border=\"1\" class=\"dataframe\">\n",
       "  <thead>\n",
       "    <tr style=\"text-align: right;\">\n",
       "      <th></th>\n",
       "      <th>vendor_id</th>\n",
       "      <th>passenger_count</th>\n",
       "      <th>dist</th>\n",
       "      <th>store_and_fwd_flag_N</th>\n",
       "      <th>store_and_fwd_flag_Y</th>\n",
       "      <th>pickup_month_1</th>\n",
       "      <th>pickup_month_2</th>\n",
       "      <th>pickup_month_3</th>\n",
       "      <th>pickup_month_4</th>\n",
       "      <th>pickup_month_5</th>\n",
       "      <th>...</th>\n",
       "      <th>pickup_hour_8</th>\n",
       "      <th>pickup_hour_9</th>\n",
       "      <th>pickup_week_day_Friday</th>\n",
       "      <th>pickup_week_day_Monday</th>\n",
       "      <th>pickup_week_day_Saturday</th>\n",
       "      <th>pickup_week_day_Sunday</th>\n",
       "      <th>pickup_week_day_Thursday</th>\n",
       "      <th>pickup_week_day_Tuesday</th>\n",
       "      <th>pickup_week_day_Wednesday</th>\n",
       "      <th>trip_duration</th>\n",
       "    </tr>\n",
       "  </thead>\n",
       "  <tbody>\n",
       "    <tr>\n",
       "      <th>vendor_id</th>\n",
       "      <td>1.000000</td>\n",
       "      <td>0.287903</td>\n",
       "      <td>0.005024</td>\n",
       "      <td>0.077972</td>\n",
       "      <td>-0.077972</td>\n",
       "      <td>0.003800</td>\n",
       "      <td>0.002471</td>\n",
       "      <td>0.001273</td>\n",
       "      <td>-0.002201</td>\n",
       "      <td>-0.001790</td>\n",
       "      <td>...</td>\n",
       "      <td>0.000362</td>\n",
       "      <td>0.002393</td>\n",
       "      <td>-0.001254</td>\n",
       "      <td>-0.000871</td>\n",
       "      <td>0.000845</td>\n",
       "      <td>0.002829</td>\n",
       "      <td>-0.001866</td>\n",
       "      <td>0.002119</td>\n",
       "      <td>-0.001698</td>\n",
       "      <td>0.003241</td>\n",
       "    </tr>\n",
       "    <tr>\n",
       "      <th>passenger_count</th>\n",
       "      <td>0.287903</td>\n",
       "      <td>1.000000</td>\n",
       "      <td>0.005902</td>\n",
       "      <td>0.021507</td>\n",
       "      <td>-0.021507</td>\n",
       "      <td>0.002979</td>\n",
       "      <td>-0.000846</td>\n",
       "      <td>-0.000769</td>\n",
       "      <td>0.001244</td>\n",
       "      <td>-0.001056</td>\n",
       "      <td>...</td>\n",
       "      <td>-0.010434</td>\n",
       "      <td>-0.006963</td>\n",
       "      <td>-0.000652</td>\n",
       "      <td>-0.009904</td>\n",
       "      <td>0.021726</td>\n",
       "      <td>0.016622</td>\n",
       "      <td>-0.009074</td>\n",
       "      <td>-0.009162</td>\n",
       "      <td>-0.010086</td>\n",
       "      <td>0.011499</td>\n",
       "    </tr>\n",
       "    <tr>\n",
       "      <th>dist</th>\n",
       "      <td>0.005024</td>\n",
       "      <td>0.005902</td>\n",
       "      <td>1.000000</td>\n",
       "      <td>-0.023925</td>\n",
       "      <td>0.023925</td>\n",
       "      <td>0.000159</td>\n",
       "      <td>-0.003027</td>\n",
       "      <td>0.002434</td>\n",
       "      <td>-0.002336</td>\n",
       "      <td>0.003136</td>\n",
       "      <td>...</td>\n",
       "      <td>-0.021132</td>\n",
       "      <td>-0.019851</td>\n",
       "      <td>-0.009388</td>\n",
       "      <td>0.017119</td>\n",
       "      <td>-0.007927</td>\n",
       "      <td>0.033013</td>\n",
       "      <td>-0.009279</td>\n",
       "      <td>-0.008553</td>\n",
       "      <td>-0.012774</td>\n",
       "      <td>0.613865</td>\n",
       "    </tr>\n",
       "    <tr>\n",
       "      <th>store_and_fwd_flag_N</th>\n",
       "      <td>0.077972</td>\n",
       "      <td>0.021507</td>\n",
       "      <td>-0.023925</td>\n",
       "      <td>1.000000</td>\n",
       "      <td>-1.000000</td>\n",
       "      <td>-0.001757</td>\n",
       "      <td>0.000215</td>\n",
       "      <td>0.001956</td>\n",
       "      <td>-0.000473</td>\n",
       "      <td>0.000981</td>\n",
       "      <td>...</td>\n",
       "      <td>0.000952</td>\n",
       "      <td>0.000377</td>\n",
       "      <td>-0.000629</td>\n",
       "      <td>-0.002419</td>\n",
       "      <td>0.002584</td>\n",
       "      <td>0.002763</td>\n",
       "      <td>-0.001160</td>\n",
       "      <td>-0.000376</td>\n",
       "      <td>-0.000839</td>\n",
       "      <td>-0.021150</td>\n",
       "    </tr>\n",
       "    <tr>\n",
       "      <th>store_and_fwd_flag_Y</th>\n",
       "      <td>-0.077972</td>\n",
       "      <td>-0.021507</td>\n",
       "      <td>0.023925</td>\n",
       "      <td>-1.000000</td>\n",
       "      <td>1.000000</td>\n",
       "      <td>0.001757</td>\n",
       "      <td>-0.000215</td>\n",
       "      <td>-0.001956</td>\n",
       "      <td>0.000473</td>\n",
       "      <td>-0.000981</td>\n",
       "      <td>...</td>\n",
       "      <td>-0.000952</td>\n",
       "      <td>-0.000377</td>\n",
       "      <td>0.000629</td>\n",
       "      <td>0.002419</td>\n",
       "      <td>-0.002584</td>\n",
       "      <td>-0.002763</td>\n",
       "      <td>0.001160</td>\n",
       "      <td>0.000376</td>\n",
       "      <td>0.000839</td>\n",
       "      <td>0.021150</td>\n",
       "    </tr>\n",
       "    <tr>\n",
       "      <th>pickup_month_1</th>\n",
       "      <td>0.003800</td>\n",
       "      <td>0.002979</td>\n",
       "      <td>0.000159</td>\n",
       "      <td>-0.001757</td>\n",
       "      <td>0.001757</td>\n",
       "      <td>1.000000</td>\n",
       "      <td>-0.192499</td>\n",
       "      <td>-0.200637</td>\n",
       "      <td>-0.198067</td>\n",
       "      <td>-0.195860</td>\n",
       "      <td>...</td>\n",
       "      <td>-0.001949</td>\n",
       "      <td>-0.003000</td>\n",
       "      <td>0.033805</td>\n",
       "      <td>-0.014882</td>\n",
       "      <td>0.000103</td>\n",
       "      <td>0.010287</td>\n",
       "      <td>-0.010357</td>\n",
       "      <td>-0.011119</td>\n",
       "      <td>-0.009107</td>\n",
       "      <td>-0.028690</td>\n",
       "    </tr>\n",
       "    <tr>\n",
       "      <th>pickup_month_2</th>\n",
       "      <td>0.002471</td>\n",
       "      <td>-0.000846</td>\n",
       "      <td>-0.003027</td>\n",
       "      <td>0.000215</td>\n",
       "      <td>-0.000215</td>\n",
       "      <td>-0.192499</td>\n",
       "      <td>1.000000</td>\n",
       "      <td>-0.205141</td>\n",
       "      <td>-0.202514</td>\n",
       "      <td>-0.200257</td>\n",
       "      <td>...</td>\n",
       "      <td>0.001338</td>\n",
       "      <td>0.000394</td>\n",
       "      <td>-0.005913</td>\n",
       "      <td>0.031019</td>\n",
       "      <td>0.000869</td>\n",
       "      <td>-0.000597</td>\n",
       "      <td>-0.004397</td>\n",
       "      <td>-0.010703</td>\n",
       "      <td>-0.008775</td>\n",
       "      <td>-0.024756</td>\n",
       "    </tr>\n",
       "    <tr>\n",
       "      <th>pickup_month_3</th>\n",
       "      <td>0.001273</td>\n",
       "      <td>-0.000769</td>\n",
       "      <td>0.002434</td>\n",
       "      <td>0.001956</td>\n",
       "      <td>-0.001956</td>\n",
       "      <td>-0.200637</td>\n",
       "      <td>-0.205141</td>\n",
       "      <td>1.000000</td>\n",
       "      <td>-0.211075</td>\n",
       "      <td>-0.208722</td>\n",
       "      <td>...</td>\n",
       "      <td>0.002403</td>\n",
       "      <td>-0.001661</td>\n",
       "      <td>-0.017842</td>\n",
       "      <td>-0.016114</td>\n",
       "      <td>-0.011275</td>\n",
       "      <td>-0.016583</td>\n",
       "      <td>0.020832</td>\n",
       "      <td>0.019298</td>\n",
       "      <td>0.021148</td>\n",
       "      <td>-0.009892</td>\n",
       "    </tr>\n",
       "    <tr>\n",
       "      <th>pickup_month_4</th>\n",
       "      <td>-0.002201</td>\n",
       "      <td>0.001244</td>\n",
       "      <td>-0.002336</td>\n",
       "      <td>-0.000473</td>\n",
       "      <td>0.000473</td>\n",
       "      <td>-0.198067</td>\n",
       "      <td>-0.202514</td>\n",
       "      <td>-0.211075</td>\n",
       "      <td>1.000000</td>\n",
       "      <td>-0.206050</td>\n",
       "      <td>...</td>\n",
       "      <td>-0.001276</td>\n",
       "      <td>0.001260</td>\n",
       "      <td>0.026210</td>\n",
       "      <td>-0.013234</td>\n",
       "      <td>0.038798</td>\n",
       "      <td>-0.006998</td>\n",
       "      <td>-0.017772</td>\n",
       "      <td>-0.013332</td>\n",
       "      <td>-0.016079</td>\n",
       "      <td>0.010684</td>\n",
       "    </tr>\n",
       "    <tr>\n",
       "      <th>pickup_month_5</th>\n",
       "      <td>-0.001790</td>\n",
       "      <td>-0.001056</td>\n",
       "      <td>0.003136</td>\n",
       "      <td>0.000981</td>\n",
       "      <td>-0.000981</td>\n",
       "      <td>-0.195860</td>\n",
       "      <td>-0.200257</td>\n",
       "      <td>-0.208722</td>\n",
       "      <td>-0.206050</td>\n",
       "      <td>1.000000</td>\n",
       "      <td>...</td>\n",
       "      <td>-0.002666</td>\n",
       "      <td>0.000143</td>\n",
       "      <td>-0.021248</td>\n",
       "      <td>0.020116</td>\n",
       "      <td>-0.015145</td>\n",
       "      <td>0.028648</td>\n",
       "      <td>-0.017721</td>\n",
       "      <td>0.025548</td>\n",
       "      <td>-0.016918</td>\n",
       "      <td>0.024732</td>\n",
       "    </tr>\n",
       "    <tr>\n",
       "      <th>pickup_month_6</th>\n",
       "      <td>-0.003515</td>\n",
       "      <td>-0.001517</td>\n",
       "      <td>-0.000428</td>\n",
       "      <td>-0.001019</td>\n",
       "      <td>0.001019</td>\n",
       "      <td>-0.188843</td>\n",
       "      <td>-0.193082</td>\n",
       "      <td>-0.201244</td>\n",
       "      <td>-0.198667</td>\n",
       "      <td>-0.196453</td>\n",
       "      <td>...</td>\n",
       "      <td>0.002136</td>\n",
       "      <td>0.002876</td>\n",
       "      <td>-0.014452</td>\n",
       "      <td>-0.006748</td>\n",
       "      <td>-0.013778</td>\n",
       "      <td>-0.014531</td>\n",
       "      <td>0.029610</td>\n",
       "      <td>-0.010569</td>\n",
       "      <td>0.029898</td>\n",
       "      <td>0.027632</td>\n",
       "    </tr>\n",
       "    <tr>\n",
       "      <th>pickup_hour_0</th>\n",
       "      <td>0.001825</td>\n",
       "      <td>0.004122</td>\n",
       "      <td>0.028304</td>\n",
       "      <td>0.001670</td>\n",
       "      <td>-0.001670</td>\n",
       "      <td>-0.001456</td>\n",
       "      <td>-0.002845</td>\n",
       "      <td>-0.003830</td>\n",
       "      <td>0.000504</td>\n",
       "      <td>0.001231</td>\n",
       "      <td>...</td>\n",
       "      <td>-0.042980</td>\n",
       "      <td>-0.043335</td>\n",
       "      <td>0.006286</td>\n",
       "      <td>-0.027296</td>\n",
       "      <td>0.035894</td>\n",
       "      <td>0.056625</td>\n",
       "      <td>-0.016996</td>\n",
       "      <td>-0.031141</td>\n",
       "      <td>-0.024305</td>\n",
       "      <td>-0.006063</td>\n",
       "    </tr>\n",
       "    <tr>\n",
       "      <th>pickup_hour_1</th>\n",
       "      <td>-0.002010</td>\n",
       "      <td>0.005010</td>\n",
       "      <td>0.021524</td>\n",
       "      <td>0.001479</td>\n",
       "      <td>-0.001479</td>\n",
       "      <td>0.003403</td>\n",
       "      <td>-0.004608</td>\n",
       "      <td>-0.004769</td>\n",
       "      <td>0.001744</td>\n",
       "      <td>0.001372</td>\n",
       "      <td>...</td>\n",
       "      <td>-0.036358</td>\n",
       "      <td>-0.036659</td>\n",
       "      <td>-0.000733</td>\n",
       "      <td>-0.031413</td>\n",
       "      <td>0.049640</td>\n",
       "      <td>0.071804</td>\n",
       "      <td>-0.025903</td>\n",
       "      <td>-0.034600</td>\n",
       "      <td>-0.029583</td>\n",
       "      <td>-0.018631</td>\n",
       "    </tr>\n",
       "    <tr>\n",
       "      <th>pickup_hour_10</th>\n",
       "      <td>0.004258</td>\n",
       "      <td>-0.001644</td>\n",
       "      <td>-0.014447</td>\n",
       "      <td>0.000674</td>\n",
       "      <td>-0.000674</td>\n",
       "      <td>-0.002435</td>\n",
       "      <td>-0.000243</td>\n",
       "      <td>-0.000337</td>\n",
       "      <td>0.001364</td>\n",
       "      <td>0.000705</td>\n",
       "      <td>...</td>\n",
       "      <td>-0.047765</td>\n",
       "      <td>-0.048159</td>\n",
       "      <td>-0.004200</td>\n",
       "      <td>0.002468</td>\n",
       "      <td>-0.005728</td>\n",
       "      <td>-0.000619</td>\n",
       "      <td>0.001134</td>\n",
       "      <td>0.003829</td>\n",
       "      <td>0.003503</td>\n",
       "      <td>0.010007</td>\n",
       "    </tr>\n",
       "    <tr>\n",
       "      <th>pickup_hour_11</th>\n",
       "      <td>0.003936</td>\n",
       "      <td>-0.000094</td>\n",
       "      <td>-0.014099</td>\n",
       "      <td>0.000075</td>\n",
       "      <td>-0.000075</td>\n",
       "      <td>-0.000862</td>\n",
       "      <td>-0.001074</td>\n",
       "      <td>-0.001471</td>\n",
       "      <td>-0.000969</td>\n",
       "      <td>0.002110</td>\n",
       "      <td>...</td>\n",
       "      <td>-0.048877</td>\n",
       "      <td>-0.049281</td>\n",
       "      <td>-0.007508</td>\n",
       "      <td>-0.000116</td>\n",
       "      <td>-0.000713</td>\n",
       "      <td>0.008791</td>\n",
       "      <td>-0.002676</td>\n",
       "      <td>0.002272</td>\n",
       "      <td>0.000473</td>\n",
       "      <td>0.017816</td>\n",
       "    </tr>\n",
       "    <tr>\n",
       "      <th>pickup_hour_12</th>\n",
       "      <td>0.001090</td>\n",
       "      <td>0.000934</td>\n",
       "      <td>-0.013605</td>\n",
       "      <td>-0.001874</td>\n",
       "      <td>0.001874</td>\n",
       "      <td>0.000111</td>\n",
       "      <td>0.001773</td>\n",
       "      <td>-0.000925</td>\n",
       "      <td>-0.002065</td>\n",
       "      <td>0.000091</td>\n",
       "      <td>...</td>\n",
       "      <td>-0.050046</td>\n",
       "      <td>-0.050459</td>\n",
       "      <td>-0.006795</td>\n",
       "      <td>-0.000048</td>\n",
       "      <td>0.003563</td>\n",
       "      <td>0.009591</td>\n",
       "      <td>-0.003176</td>\n",
       "      <td>-0.002404</td>\n",
       "      <td>-0.000365</td>\n",
       "      <td>0.020492</td>\n",
       "    </tr>\n",
       "    <tr>\n",
       "      <th>pickup_hour_13</th>\n",
       "      <td>-0.003137</td>\n",
       "      <td>0.001368</td>\n",
       "      <td>-0.008260</td>\n",
       "      <td>-0.001503</td>\n",
       "      <td>0.001503</td>\n",
       "      <td>0.000304</td>\n",
       "      <td>0.002256</td>\n",
       "      <td>-0.000136</td>\n",
       "      <td>-0.002464</td>\n",
       "      <td>0.001005</td>\n",
       "      <td>...</td>\n",
       "      <td>-0.049829</td>\n",
       "      <td>-0.050241</td>\n",
       "      <td>-0.007588</td>\n",
       "      <td>-0.000442</td>\n",
       "      <td>0.005249</td>\n",
       "      <td>0.010004</td>\n",
       "      <td>-0.004495</td>\n",
       "      <td>0.000027</td>\n",
       "      <td>-0.002369</td>\n",
       "      <td>0.021672</td>\n",
       "    </tr>\n",
       "    <tr>\n",
       "      <th>pickup_hour_14</th>\n",
       "      <td>-0.003931</td>\n",
       "      <td>0.003076</td>\n",
       "      <td>-0.012362</td>\n",
       "      <td>-0.002633</td>\n",
       "      <td>0.002633</td>\n",
       "      <td>0.002269</td>\n",
       "      <td>0.001347</td>\n",
       "      <td>0.000015</td>\n",
       "      <td>-0.001009</td>\n",
       "      <td>0.001471</td>\n",
       "      <td>...</td>\n",
       "      <td>-0.050353</td>\n",
       "      <td>-0.050769</td>\n",
       "      <td>-0.004149</td>\n",
       "      <td>0.004120</td>\n",
       "      <td>-0.001980</td>\n",
       "      <td>0.005980</td>\n",
       "      <td>-0.003187</td>\n",
       "      <td>0.001287</td>\n",
       "      <td>-0.001486</td>\n",
       "      <td>0.026020</td>\n",
       "    </tr>\n",
       "    <tr>\n",
       "      <th>pickup_hour_15</th>\n",
       "      <td>-0.005405</td>\n",
       "      <td>0.001531</td>\n",
       "      <td>-0.017387</td>\n",
       "      <td>-0.002950</td>\n",
       "      <td>0.002950</td>\n",
       "      <td>0.005810</td>\n",
       "      <td>0.002608</td>\n",
       "      <td>-0.001170</td>\n",
       "      <td>-0.000751</td>\n",
       "      <td>0.000081</td>\n",
       "      <td>...</td>\n",
       "      <td>-0.049216</td>\n",
       "      <td>-0.049623</td>\n",
       "      <td>-0.008730</td>\n",
       "      <td>0.008472</td>\n",
       "      <td>0.001568</td>\n",
       "      <td>0.006096</td>\n",
       "      <td>-0.003240</td>\n",
       "      <td>0.000993</td>\n",
       "      <td>-0.004345</td>\n",
       "      <td>0.023006</td>\n",
       "    </tr>\n",
       "    <tr>\n",
       "      <th>pickup_hour_16</th>\n",
       "      <td>-0.001668</td>\n",
       "      <td>0.001269</td>\n",
       "      <td>-0.017559</td>\n",
       "      <td>-0.002835</td>\n",
       "      <td>0.002835</td>\n",
       "      <td>0.005326</td>\n",
       "      <td>0.002271</td>\n",
       "      <td>0.001640</td>\n",
       "      <td>-0.002028</td>\n",
       "      <td>-0.001793</td>\n",
       "      <td>...</td>\n",
       "      <td>-0.046272</td>\n",
       "      <td>-0.046654</td>\n",
       "      <td>-0.010701</td>\n",
       "      <td>0.008961</td>\n",
       "      <td>0.004970</td>\n",
       "      <td>0.013630</td>\n",
       "      <td>-0.009700</td>\n",
       "      <td>0.000433</td>\n",
       "      <td>-0.006493</td>\n",
       "      <td>0.013114</td>\n",
       "    </tr>\n",
       "    <tr>\n",
       "      <th>pickup_hour_17</th>\n",
       "      <td>0.002366</td>\n",
       "      <td>0.000600</td>\n",
       "      <td>-0.023947</td>\n",
       "      <td>-0.003412</td>\n",
       "      <td>0.003412</td>\n",
       "      <td>0.004253</td>\n",
       "      <td>0.003633</td>\n",
       "      <td>0.001863</td>\n",
       "      <td>-0.001831</td>\n",
       "      <td>-0.001227</td>\n",
       "      <td>...</td>\n",
       "      <td>-0.051028</td>\n",
       "      <td>-0.051449</td>\n",
       "      <td>-0.006673</td>\n",
       "      <td>0.009518</td>\n",
       "      <td>-0.001640</td>\n",
       "      <td>0.004648</td>\n",
       "      <td>-0.007438</td>\n",
       "      <td>0.003523</td>\n",
       "      <td>-0.000991</td>\n",
       "      <td>0.015572</td>\n",
       "    </tr>\n",
       "    <tr>\n",
       "      <th>pickup_hour_18</th>\n",
       "      <td>0.005168</td>\n",
       "      <td>0.000194</td>\n",
       "      <td>-0.027577</td>\n",
       "      <td>-0.000002</td>\n",
       "      <td>0.000002</td>\n",
       "      <td>0.001371</td>\n",
       "      <td>0.005280</td>\n",
       "      <td>0.003659</td>\n",
       "      <td>-0.001574</td>\n",
       "      <td>-0.003807</td>\n",
       "      <td>...</td>\n",
       "      <td>-0.056410</td>\n",
       "      <td>-0.056876</td>\n",
       "      <td>-0.003899</td>\n",
       "      <td>0.011565</td>\n",
       "      <td>-0.006978</td>\n",
       "      <td>-0.009038</td>\n",
       "      <td>-0.000173</td>\n",
       "      <td>0.008262</td>\n",
       "      <td>0.000940</td>\n",
       "      <td>0.008048</td>\n",
       "    </tr>\n",
       "    <tr>\n",
       "      <th>pickup_hour_19</th>\n",
       "      <td>0.003420</td>\n",
       "      <td>0.001023</td>\n",
       "      <td>-0.015579</td>\n",
       "      <td>-0.001252</td>\n",
       "      <td>0.001252</td>\n",
       "      <td>-0.000438</td>\n",
       "      <td>0.001230</td>\n",
       "      <td>0.003218</td>\n",
       "      <td>0.000206</td>\n",
       "      <td>-0.001985</td>\n",
       "      <td>...</td>\n",
       "      <td>-0.056775</td>\n",
       "      <td>-0.057243</td>\n",
       "      <td>0.002525</td>\n",
       "      <td>0.005791</td>\n",
       "      <td>-0.006077</td>\n",
       "      <td>-0.018185</td>\n",
       "      <td>0.004697</td>\n",
       "      <td>0.004679</td>\n",
       "      <td>0.006415</td>\n",
       "      <td>-0.010493</td>\n",
       "    </tr>\n",
       "    <tr>\n",
       "      <th>pickup_hour_2</th>\n",
       "      <td>-0.006485</td>\n",
       "      <td>0.004089</td>\n",
       "      <td>0.013732</td>\n",
       "      <td>0.000904</td>\n",
       "      <td>-0.000904</td>\n",
       "      <td>0.006305</td>\n",
       "      <td>-0.002080</td>\n",
       "      <td>-0.007326</td>\n",
       "      <td>0.001895</td>\n",
       "      <td>0.002260</td>\n",
       "      <td>...</td>\n",
       "      <td>-0.030704</td>\n",
       "      <td>-0.030958</td>\n",
       "      <td>-0.005534</td>\n",
       "      <td>-0.029188</td>\n",
       "      <td>0.055723</td>\n",
       "      <td>0.072190</td>\n",
       "      <td>-0.028138</td>\n",
       "      <td>-0.035061</td>\n",
       "      <td>-0.030672</td>\n",
       "      <td>-0.022838</td>\n",
       "    </tr>\n",
       "    <tr>\n",
       "      <th>pickup_hour_20</th>\n",
       "      <td>0.003291</td>\n",
       "      <td>0.002380</td>\n",
       "      <td>0.005409</td>\n",
       "      <td>0.001771</td>\n",
       "      <td>-0.001771</td>\n",
       "      <td>-0.000080</td>\n",
       "      <td>-0.000330</td>\n",
       "      <td>0.002543</td>\n",
       "      <td>0.003757</td>\n",
       "      <td>-0.001192</td>\n",
       "      <td>...</td>\n",
       "      <td>-0.054631</td>\n",
       "      <td>-0.055082</td>\n",
       "      <td>-0.000904</td>\n",
       "      <td>0.005334</td>\n",
       "      <td>-0.013035</td>\n",
       "      <td>-0.019232</td>\n",
       "      <td>0.009471</td>\n",
       "      <td>0.008627</td>\n",
       "      <td>0.009781</td>\n",
       "      <td>-0.017502</td>\n",
       "    </tr>\n",
       "    <tr>\n",
       "      <th>pickup_hour_21</th>\n",
       "      <td>0.002846</td>\n",
       "      <td>0.004632</td>\n",
       "      <td>0.013665</td>\n",
       "      <td>0.003439</td>\n",
       "      <td>-0.003439</td>\n",
       "      <td>-0.003908</td>\n",
       "      <td>-0.001379</td>\n",
       "      <td>0.001754</td>\n",
       "      <td>0.001541</td>\n",
       "      <td>-0.000664</td>\n",
       "      <td>...</td>\n",
       "      <td>-0.054878</td>\n",
       "      <td>-0.055331</td>\n",
       "      <td>-0.001366</td>\n",
       "      <td>0.003015</td>\n",
       "      <td>-0.012331</td>\n",
       "      <td>-0.022928</td>\n",
       "      <td>0.013380</td>\n",
       "      <td>0.009200</td>\n",
       "      <td>0.010802</td>\n",
       "      <td>-0.011413</td>\n",
       "    </tr>\n",
       "    <tr>\n",
       "      <th>pickup_hour_22</th>\n",
       "      <td>0.001940</td>\n",
       "      <td>0.006037</td>\n",
       "      <td>0.018716</td>\n",
       "      <td>0.000241</td>\n",
       "      <td>-0.000241</td>\n",
       "      <td>-0.004929</td>\n",
       "      <td>0.000321</td>\n",
       "      <td>-0.000996</td>\n",
       "      <td>0.001775</td>\n",
       "      <td>-0.000442</td>\n",
       "      <td>...</td>\n",
       "      <td>-0.053428</td>\n",
       "      <td>-0.053869</td>\n",
       "      <td>0.008664</td>\n",
       "      <td>-0.006441</td>\n",
       "      <td>0.001464</td>\n",
       "      <td>-0.026906</td>\n",
       "      <td>0.011471</td>\n",
       "      <td>0.003202</td>\n",
       "      <td>0.007095</td>\n",
       "      <td>-0.000342</td>\n",
       "    </tr>\n",
       "    <tr>\n",
       "      <th>pickup_hour_23</th>\n",
       "      <td>0.001813</td>\n",
       "      <td>0.006037</td>\n",
       "      <td>0.031216</td>\n",
       "      <td>0.000246</td>\n",
       "      <td>-0.000246</td>\n",
       "      <td>-0.006589</td>\n",
       "      <td>-0.004059</td>\n",
       "      <td>-0.000954</td>\n",
       "      <td>0.003577</td>\n",
       "      <td>0.001174</td>\n",
       "      <td>...</td>\n",
       "      <td>-0.049609</td>\n",
       "      <td>-0.050019</td>\n",
       "      <td>0.023359</td>\n",
       "      <td>-0.019668</td>\n",
       "      <td>0.023346</td>\n",
       "      <td>-0.028362</td>\n",
       "      <td>0.011362</td>\n",
       "      <td>-0.009962</td>\n",
       "      <td>-0.003301</td>\n",
       "      <td>0.004335</td>\n",
       "    </tr>\n",
       "    <tr>\n",
       "      <th>pickup_hour_3</th>\n",
       "      <td>-0.007741</td>\n",
       "      <td>0.003864</td>\n",
       "      <td>0.021541</td>\n",
       "      <td>0.000428</td>\n",
       "      <td>-0.000428</td>\n",
       "      <td>0.003792</td>\n",
       "      <td>-0.003739</td>\n",
       "      <td>-0.002345</td>\n",
       "      <td>0.000705</td>\n",
       "      <td>0.001536</td>\n",
       "      <td>...</td>\n",
       "      <td>-0.026581</td>\n",
       "      <td>-0.026800</td>\n",
       "      <td>-0.005106</td>\n",
       "      <td>-0.025142</td>\n",
       "      <td>0.046528</td>\n",
       "      <td>0.070015</td>\n",
       "      <td>-0.025712</td>\n",
       "      <td>-0.031746</td>\n",
       "      <td>-0.029154</td>\n",
       "      <td>-0.019911</td>\n",
       "    </tr>\n",
       "    <tr>\n",
       "      <th>pickup_hour_4</th>\n",
       "      <td>-0.005238</td>\n",
       "      <td>0.003682</td>\n",
       "      <td>0.047276</td>\n",
       "      <td>0.000184</td>\n",
       "      <td>-0.000184</td>\n",
       "      <td>0.002276</td>\n",
       "      <td>-0.002833</td>\n",
       "      <td>-0.000083</td>\n",
       "      <td>-0.003247</td>\n",
       "      <td>0.003008</td>\n",
       "      <td>...</td>\n",
       "      <td>-0.022921</td>\n",
       "      <td>-0.023110</td>\n",
       "      <td>-0.001720</td>\n",
       "      <td>-0.013585</td>\n",
       "      <td>0.026378</td>\n",
       "      <td>0.045964</td>\n",
       "      <td>-0.017325</td>\n",
       "      <td>-0.020207</td>\n",
       "      <td>-0.019496</td>\n",
       "      <td>-0.009169</td>\n",
       "    </tr>\n",
       "    <tr>\n",
       "      <th>pickup_hour_5</th>\n",
       "      <td>-0.007397</td>\n",
       "      <td>-0.006521</td>\n",
       "      <td>0.067671</td>\n",
       "      <td>0.001245</td>\n",
       "      <td>-0.001245</td>\n",
       "      <td>-0.000860</td>\n",
       "      <td>-0.002110</td>\n",
       "      <td>-0.000109</td>\n",
       "      <td>-0.001865</td>\n",
       "      <td>0.002322</td>\n",
       "      <td>...</td>\n",
       "      <td>-0.022292</td>\n",
       "      <td>-0.022476</td>\n",
       "      <td>0.003958</td>\n",
       "      <td>0.003794</td>\n",
       "      <td>-0.005977</td>\n",
       "      <td>-0.000204</td>\n",
       "      <td>-0.000073</td>\n",
       "      <td>0.000021</td>\n",
       "      <td>-0.001291</td>\n",
       "      <td>-0.014742</td>\n",
       "    </tr>\n",
       "    <tr>\n",
       "      <th>pickup_hour_6</th>\n",
       "      <td>-0.007209</td>\n",
       "      <td>-0.015508</td>\n",
       "      <td>0.033550</td>\n",
       "      <td>0.001858</td>\n",
       "      <td>-0.001858</td>\n",
       "      <td>-0.001785</td>\n",
       "      <td>-0.002768</td>\n",
       "      <td>0.001003</td>\n",
       "      <td>-0.001515</td>\n",
       "      <td>0.000675</td>\n",
       "      <td>...</td>\n",
       "      <td>-0.033411</td>\n",
       "      <td>-0.033686</td>\n",
       "      <td>0.006705</td>\n",
       "      <td>0.013724</td>\n",
       "      <td>-0.031849</td>\n",
       "      <td>-0.030681</td>\n",
       "      <td>0.013513</td>\n",
       "      <td>0.015124</td>\n",
       "      <td>0.013895</td>\n",
       "      <td>-0.047871</td>\n",
       "    </tr>\n",
       "    <tr>\n",
       "      <th>pickup_hour_7</th>\n",
       "      <td>-0.001228</td>\n",
       "      <td>-0.013156</td>\n",
       "      <td>-0.002272</td>\n",
       "      <td>0.003377</td>\n",
       "      <td>-0.003377</td>\n",
       "      <td>-0.001662</td>\n",
       "      <td>-0.002660</td>\n",
       "      <td>0.001949</td>\n",
       "      <td>0.000176</td>\n",
       "      <td>0.000443</td>\n",
       "      <td>...</td>\n",
       "      <td>-0.043677</td>\n",
       "      <td>-0.044037</td>\n",
       "      <td>0.010804</td>\n",
       "      <td>0.015091</td>\n",
       "      <td>-0.047440</td>\n",
       "      <td>-0.048856</td>\n",
       "      <td>0.021725</td>\n",
       "      <td>0.023619</td>\n",
       "      <td>0.025328</td>\n",
       "      <td>-0.035255</td>\n",
       "    </tr>\n",
       "    <tr>\n",
       "      <th>pickup_hour_8</th>\n",
       "      <td>0.000362</td>\n",
       "      <td>-0.010434</td>\n",
       "      <td>-0.021132</td>\n",
       "      <td>0.000952</td>\n",
       "      <td>-0.000952</td>\n",
       "      <td>-0.001949</td>\n",
       "      <td>0.001338</td>\n",
       "      <td>0.002403</td>\n",
       "      <td>-0.001276</td>\n",
       "      <td>-0.002666</td>\n",
       "      <td>...</td>\n",
       "      <td>1.000000</td>\n",
       "      <td>-0.048614</td>\n",
       "      <td>0.011876</td>\n",
       "      <td>0.015703</td>\n",
       "      <td>-0.042723</td>\n",
       "      <td>-0.044671</td>\n",
       "      <td>0.017416</td>\n",
       "      <td>0.021117</td>\n",
       "      <td>0.021581</td>\n",
       "      <td>-0.003515</td>\n",
       "    </tr>\n",
       "    <tr>\n",
       "      <th>pickup_hour_9</th>\n",
       "      <td>0.002393</td>\n",
       "      <td>-0.006963</td>\n",
       "      <td>-0.019851</td>\n",
       "      <td>0.000377</td>\n",
       "      <td>-0.000377</td>\n",
       "      <td>-0.003000</td>\n",
       "      <td>0.000394</td>\n",
       "      <td>-0.001661</td>\n",
       "      <td>0.001260</td>\n",
       "      <td>0.000143</td>\n",
       "      <td>...</td>\n",
       "      <td>-0.048614</td>\n",
       "      <td>1.000000</td>\n",
       "      <td>0.001659</td>\n",
       "      <td>0.012216</td>\n",
       "      <td>-0.022147</td>\n",
       "      <td>-0.026287</td>\n",
       "      <td>0.008146</td>\n",
       "      <td>0.013797</td>\n",
       "      <td>0.013040</td>\n",
       "      <td>0.007517</td>\n",
       "    </tr>\n",
       "    <tr>\n",
       "      <th>pickup_week_day_Friday</th>\n",
       "      <td>-0.001254</td>\n",
       "      <td>-0.000652</td>\n",
       "      <td>-0.009388</td>\n",
       "      <td>-0.000629</td>\n",
       "      <td>0.000629</td>\n",
       "      <td>0.033805</td>\n",
       "      <td>-0.005913</td>\n",
       "      <td>-0.017842</td>\n",
       "      <td>0.026210</td>\n",
       "      <td>-0.021248</td>\n",
       "      <td>...</td>\n",
       "      <td>0.011876</td>\n",
       "      <td>0.001659</td>\n",
       "      <td>1.000000</td>\n",
       "      <td>-0.162813</td>\n",
       "      <td>-0.180421</td>\n",
       "      <td>-0.167220</td>\n",
       "      <td>-0.177598</td>\n",
       "      <td>-0.170875</td>\n",
       "      <td>-0.173969</td>\n",
       "      <td>0.014870</td>\n",
       "    </tr>\n",
       "    <tr>\n",
       "      <th>pickup_week_day_Monday</th>\n",
       "      <td>-0.000871</td>\n",
       "      <td>-0.009904</td>\n",
       "      <td>0.017119</td>\n",
       "      <td>-0.002419</td>\n",
       "      <td>0.002419</td>\n",
       "      <td>-0.014882</td>\n",
       "      <td>0.031019</td>\n",
       "      <td>-0.016114</td>\n",
       "      <td>-0.013234</td>\n",
       "      <td>0.020116</td>\n",
       "      <td>...</td>\n",
       "      <td>0.015703</td>\n",
       "      <td>0.012216</td>\n",
       "      <td>-0.162813</td>\n",
       "      <td>1.000000</td>\n",
       "      <td>-0.162888</td>\n",
       "      <td>-0.150969</td>\n",
       "      <td>-0.160339</td>\n",
       "      <td>-0.154269</td>\n",
       "      <td>-0.157062</td>\n",
       "      <td>-0.021027</td>\n",
       "    </tr>\n",
       "    <tr>\n",
       "      <th>pickup_week_day_Saturday</th>\n",
       "      <td>0.000845</td>\n",
       "      <td>0.021726</td>\n",
       "      <td>-0.007927</td>\n",
       "      <td>0.002584</td>\n",
       "      <td>-0.002584</td>\n",
       "      <td>0.000103</td>\n",
       "      <td>0.000869</td>\n",
       "      <td>-0.011275</td>\n",
       "      <td>0.038798</td>\n",
       "      <td>-0.015145</td>\n",
       "      <td>...</td>\n",
       "      <td>-0.042723</td>\n",
       "      <td>-0.022147</td>\n",
       "      <td>-0.180421</td>\n",
       "      <td>-0.162888</td>\n",
       "      <td>1.000000</td>\n",
       "      <td>-0.167296</td>\n",
       "      <td>-0.177680</td>\n",
       "      <td>-0.170953</td>\n",
       "      <td>-0.174048</td>\n",
       "      <td>-0.024490</td>\n",
       "    </tr>\n",
       "    <tr>\n",
       "      <th>pickup_week_day_Sunday</th>\n",
       "      <td>0.002829</td>\n",
       "      <td>0.016622</td>\n",
       "      <td>0.033013</td>\n",
       "      <td>0.002763</td>\n",
       "      <td>-0.002763</td>\n",
       "      <td>0.010287</td>\n",
       "      <td>-0.000597</td>\n",
       "      <td>-0.016583</td>\n",
       "      <td>-0.006998</td>\n",
       "      <td>0.028648</td>\n",
       "      <td>...</td>\n",
       "      <td>-0.044671</td>\n",
       "      <td>-0.026287</td>\n",
       "      <td>-0.167220</td>\n",
       "      <td>-0.150969</td>\n",
       "      <td>-0.167296</td>\n",
       "      <td>1.000000</td>\n",
       "      <td>-0.164679</td>\n",
       "      <td>-0.158445</td>\n",
       "      <td>-0.161313</td>\n",
       "      <td>-0.042765</td>\n",
       "    </tr>\n",
       "    <tr>\n",
       "      <th>pickup_week_day_Thursday</th>\n",
       "      <td>-0.001866</td>\n",
       "      <td>-0.009074</td>\n",
       "      <td>-0.009279</td>\n",
       "      <td>-0.001160</td>\n",
       "      <td>0.001160</td>\n",
       "      <td>-0.010357</td>\n",
       "      <td>-0.004397</td>\n",
       "      <td>0.020832</td>\n",
       "      <td>-0.017772</td>\n",
       "      <td>-0.017721</td>\n",
       "      <td>...</td>\n",
       "      <td>0.017416</td>\n",
       "      <td>0.008146</td>\n",
       "      <td>-0.177598</td>\n",
       "      <td>-0.160339</td>\n",
       "      <td>-0.177680</td>\n",
       "      <td>-0.164679</td>\n",
       "      <td>1.000000</td>\n",
       "      <td>-0.168278</td>\n",
       "      <td>-0.171325</td>\n",
       "      <td>0.034508</td>\n",
       "    </tr>\n",
       "    <tr>\n",
       "      <th>pickup_week_day_Tuesday</th>\n",
       "      <td>0.002119</td>\n",
       "      <td>-0.009162</td>\n",
       "      <td>-0.008553</td>\n",
       "      <td>-0.000376</td>\n",
       "      <td>0.000376</td>\n",
       "      <td>-0.011119</td>\n",
       "      <td>-0.010703</td>\n",
       "      <td>0.019298</td>\n",
       "      <td>-0.013332</td>\n",
       "      <td>0.025548</td>\n",
       "      <td>...</td>\n",
       "      <td>0.021117</td>\n",
       "      <td>0.013797</td>\n",
       "      <td>-0.170875</td>\n",
       "      <td>-0.154269</td>\n",
       "      <td>-0.170953</td>\n",
       "      <td>-0.158445</td>\n",
       "      <td>-0.168278</td>\n",
       "      <td>1.000000</td>\n",
       "      <td>-0.164839</td>\n",
       "      <td>0.012247</td>\n",
       "    </tr>\n",
       "    <tr>\n",
       "      <th>pickup_week_day_Wednesday</th>\n",
       "      <td>-0.001698</td>\n",
       "      <td>-0.010086</td>\n",
       "      <td>-0.012774</td>\n",
       "      <td>-0.000839</td>\n",
       "      <td>0.000839</td>\n",
       "      <td>-0.009107</td>\n",
       "      <td>-0.008775</td>\n",
       "      <td>0.021148</td>\n",
       "      <td>-0.016079</td>\n",
       "      <td>-0.016918</td>\n",
       "      <td>...</td>\n",
       "      <td>0.021581</td>\n",
       "      <td>0.013040</td>\n",
       "      <td>-0.173969</td>\n",
       "      <td>-0.157062</td>\n",
       "      <td>-0.174048</td>\n",
       "      <td>-0.161313</td>\n",
       "      <td>-0.171325</td>\n",
       "      <td>-0.164839</td>\n",
       "      <td>1.000000</td>\n",
       "      <td>0.024365</td>\n",
       "    </tr>\n",
       "    <tr>\n",
       "      <th>trip_duration</th>\n",
       "      <td>0.003241</td>\n",
       "      <td>0.011499</td>\n",
       "      <td>0.613865</td>\n",
       "      <td>-0.021150</td>\n",
       "      <td>0.021150</td>\n",
       "      <td>-0.028690</td>\n",
       "      <td>-0.024756</td>\n",
       "      <td>-0.009892</td>\n",
       "      <td>0.010684</td>\n",
       "      <td>0.024732</td>\n",
       "      <td>...</td>\n",
       "      <td>-0.003515</td>\n",
       "      <td>0.007517</td>\n",
       "      <td>0.014870</td>\n",
       "      <td>-0.021027</td>\n",
       "      <td>-0.024490</td>\n",
       "      <td>-0.042765</td>\n",
       "      <td>0.034508</td>\n",
       "      <td>0.012247</td>\n",
       "      <td>0.024365</td>\n",
       "      <td>1.000000</td>\n",
       "    </tr>\n",
       "  </tbody>\n",
       "</table>\n",
       "<p>43 rows × 43 columns</p>\n",
       "</div>"
      ],
      "text/plain": [
       "                           vendor_id  passenger_count      dist  \\\n",
       "vendor_id                   1.000000         0.287903  0.005024   \n",
       "passenger_count             0.287903         1.000000  0.005902   \n",
       "dist                        0.005024         0.005902  1.000000   \n",
       "store_and_fwd_flag_N        0.077972         0.021507 -0.023925   \n",
       "store_and_fwd_flag_Y       -0.077972        -0.021507  0.023925   \n",
       "pickup_month_1              0.003800         0.002979  0.000159   \n",
       "pickup_month_2              0.002471        -0.000846 -0.003027   \n",
       "pickup_month_3              0.001273        -0.000769  0.002434   \n",
       "pickup_month_4             -0.002201         0.001244 -0.002336   \n",
       "pickup_month_5             -0.001790        -0.001056  0.003136   \n",
       "pickup_month_6             -0.003515        -0.001517 -0.000428   \n",
       "pickup_hour_0               0.001825         0.004122  0.028304   \n",
       "pickup_hour_1              -0.002010         0.005010  0.021524   \n",
       "pickup_hour_10              0.004258        -0.001644 -0.014447   \n",
       "pickup_hour_11              0.003936        -0.000094 -0.014099   \n",
       "pickup_hour_12              0.001090         0.000934 -0.013605   \n",
       "pickup_hour_13             -0.003137         0.001368 -0.008260   \n",
       "pickup_hour_14             -0.003931         0.003076 -0.012362   \n",
       "pickup_hour_15             -0.005405         0.001531 -0.017387   \n",
       "pickup_hour_16             -0.001668         0.001269 -0.017559   \n",
       "pickup_hour_17              0.002366         0.000600 -0.023947   \n",
       "pickup_hour_18              0.005168         0.000194 -0.027577   \n",
       "pickup_hour_19              0.003420         0.001023 -0.015579   \n",
       "pickup_hour_2              -0.006485         0.004089  0.013732   \n",
       "pickup_hour_20              0.003291         0.002380  0.005409   \n",
       "pickup_hour_21              0.002846         0.004632  0.013665   \n",
       "pickup_hour_22              0.001940         0.006037  0.018716   \n",
       "pickup_hour_23              0.001813         0.006037  0.031216   \n",
       "pickup_hour_3              -0.007741         0.003864  0.021541   \n",
       "pickup_hour_4              -0.005238         0.003682  0.047276   \n",
       "pickup_hour_5              -0.007397        -0.006521  0.067671   \n",
       "pickup_hour_6              -0.007209        -0.015508  0.033550   \n",
       "pickup_hour_7              -0.001228        -0.013156 -0.002272   \n",
       "pickup_hour_8               0.000362        -0.010434 -0.021132   \n",
       "pickup_hour_9               0.002393        -0.006963 -0.019851   \n",
       "pickup_week_day_Friday     -0.001254        -0.000652 -0.009388   \n",
       "pickup_week_day_Monday     -0.000871        -0.009904  0.017119   \n",
       "pickup_week_day_Saturday    0.000845         0.021726 -0.007927   \n",
       "pickup_week_day_Sunday      0.002829         0.016622  0.033013   \n",
       "pickup_week_day_Thursday   -0.001866        -0.009074 -0.009279   \n",
       "pickup_week_day_Tuesday     0.002119        -0.009162 -0.008553   \n",
       "pickup_week_day_Wednesday  -0.001698        -0.010086 -0.012774   \n",
       "trip_duration               0.003241         0.011499  0.613865   \n",
       "\n",
       "                           store_and_fwd_flag_N  store_and_fwd_flag_Y  \\\n",
       "vendor_id                              0.077972             -0.077972   \n",
       "passenger_count                        0.021507             -0.021507   \n",
       "dist                                  -0.023925              0.023925   \n",
       "store_and_fwd_flag_N                   1.000000             -1.000000   \n",
       "store_and_fwd_flag_Y                  -1.000000              1.000000   \n",
       "pickup_month_1                        -0.001757              0.001757   \n",
       "pickup_month_2                         0.000215             -0.000215   \n",
       "pickup_month_3                         0.001956             -0.001956   \n",
       "pickup_month_4                        -0.000473              0.000473   \n",
       "pickup_month_5                         0.000981             -0.000981   \n",
       "pickup_month_6                        -0.001019              0.001019   \n",
       "pickup_hour_0                          0.001670             -0.001670   \n",
       "pickup_hour_1                          0.001479             -0.001479   \n",
       "pickup_hour_10                         0.000674             -0.000674   \n",
       "pickup_hour_11                         0.000075             -0.000075   \n",
       "pickup_hour_12                        -0.001874              0.001874   \n",
       "pickup_hour_13                        -0.001503              0.001503   \n",
       "pickup_hour_14                        -0.002633              0.002633   \n",
       "pickup_hour_15                        -0.002950              0.002950   \n",
       "pickup_hour_16                        -0.002835              0.002835   \n",
       "pickup_hour_17                        -0.003412              0.003412   \n",
       "pickup_hour_18                        -0.000002              0.000002   \n",
       "pickup_hour_19                        -0.001252              0.001252   \n",
       "pickup_hour_2                          0.000904             -0.000904   \n",
       "pickup_hour_20                         0.001771             -0.001771   \n",
       "pickup_hour_21                         0.003439             -0.003439   \n",
       "pickup_hour_22                         0.000241             -0.000241   \n",
       "pickup_hour_23                         0.000246             -0.000246   \n",
       "pickup_hour_3                          0.000428             -0.000428   \n",
       "pickup_hour_4                          0.000184             -0.000184   \n",
       "pickup_hour_5                          0.001245             -0.001245   \n",
       "pickup_hour_6                          0.001858             -0.001858   \n",
       "pickup_hour_7                          0.003377             -0.003377   \n",
       "pickup_hour_8                          0.000952             -0.000952   \n",
       "pickup_hour_9                          0.000377             -0.000377   \n",
       "pickup_week_day_Friday                -0.000629              0.000629   \n",
       "pickup_week_day_Monday                -0.002419              0.002419   \n",
       "pickup_week_day_Saturday               0.002584             -0.002584   \n",
       "pickup_week_day_Sunday                 0.002763             -0.002763   \n",
       "pickup_week_day_Thursday              -0.001160              0.001160   \n",
       "pickup_week_day_Tuesday               -0.000376              0.000376   \n",
       "pickup_week_day_Wednesday             -0.000839              0.000839   \n",
       "trip_duration                         -0.021150              0.021150   \n",
       "\n",
       "                           pickup_month_1  pickup_month_2  pickup_month_3  \\\n",
       "vendor_id                        0.003800        0.002471        0.001273   \n",
       "passenger_count                  0.002979       -0.000846       -0.000769   \n",
       "dist                             0.000159       -0.003027        0.002434   \n",
       "store_and_fwd_flag_N            -0.001757        0.000215        0.001956   \n",
       "store_and_fwd_flag_Y             0.001757       -0.000215       -0.001956   \n",
       "pickup_month_1                   1.000000       -0.192499       -0.200637   \n",
       "pickup_month_2                  -0.192499        1.000000       -0.205141   \n",
       "pickup_month_3                  -0.200637       -0.205141        1.000000   \n",
       "pickup_month_4                  -0.198067       -0.202514       -0.211075   \n",
       "pickup_month_5                  -0.195860       -0.200257       -0.208722   \n",
       "pickup_month_6                  -0.188843       -0.193082       -0.201244   \n",
       "pickup_hour_0                   -0.001456       -0.002845       -0.003830   \n",
       "pickup_hour_1                    0.003403       -0.004608       -0.004769   \n",
       "pickup_hour_10                  -0.002435       -0.000243       -0.000337   \n",
       "pickup_hour_11                  -0.000862       -0.001074       -0.001471   \n",
       "pickup_hour_12                   0.000111        0.001773       -0.000925   \n",
       "pickup_hour_13                   0.000304        0.002256       -0.000136   \n",
       "pickup_hour_14                   0.002269        0.001347        0.000015   \n",
       "pickup_hour_15                   0.005810        0.002608       -0.001170   \n",
       "pickup_hour_16                   0.005326        0.002271        0.001640   \n",
       "pickup_hour_17                   0.004253        0.003633        0.001863   \n",
       "pickup_hour_18                   0.001371        0.005280        0.003659   \n",
       "pickup_hour_19                  -0.000438        0.001230        0.003218   \n",
       "pickup_hour_2                    0.006305       -0.002080       -0.007326   \n",
       "pickup_hour_20                  -0.000080       -0.000330        0.002543   \n",
       "pickup_hour_21                  -0.003908       -0.001379        0.001754   \n",
       "pickup_hour_22                  -0.004929        0.000321       -0.000996   \n",
       "pickup_hour_23                  -0.006589       -0.004059       -0.000954   \n",
       "pickup_hour_3                    0.003792       -0.003739       -0.002345   \n",
       "pickup_hour_4                    0.002276       -0.002833       -0.000083   \n",
       "pickup_hour_5                   -0.000860       -0.002110       -0.000109   \n",
       "pickup_hour_6                   -0.001785       -0.002768        0.001003   \n",
       "pickup_hour_7                   -0.001662       -0.002660        0.001949   \n",
       "pickup_hour_8                   -0.001949        0.001338        0.002403   \n",
       "pickup_hour_9                   -0.003000        0.000394       -0.001661   \n",
       "pickup_week_day_Friday           0.033805       -0.005913       -0.017842   \n",
       "pickup_week_day_Monday          -0.014882        0.031019       -0.016114   \n",
       "pickup_week_day_Saturday         0.000103        0.000869       -0.011275   \n",
       "pickup_week_day_Sunday           0.010287       -0.000597       -0.016583   \n",
       "pickup_week_day_Thursday        -0.010357       -0.004397        0.020832   \n",
       "pickup_week_day_Tuesday         -0.011119       -0.010703        0.019298   \n",
       "pickup_week_day_Wednesday       -0.009107       -0.008775        0.021148   \n",
       "trip_duration                   -0.028690       -0.024756       -0.009892   \n",
       "\n",
       "                           pickup_month_4  pickup_month_5      ...        \\\n",
       "vendor_id                       -0.002201       -0.001790      ...         \n",
       "passenger_count                  0.001244       -0.001056      ...         \n",
       "dist                            -0.002336        0.003136      ...         \n",
       "store_and_fwd_flag_N            -0.000473        0.000981      ...         \n",
       "store_and_fwd_flag_Y             0.000473       -0.000981      ...         \n",
       "pickup_month_1                  -0.198067       -0.195860      ...         \n",
       "pickup_month_2                  -0.202514       -0.200257      ...         \n",
       "pickup_month_3                  -0.211075       -0.208722      ...         \n",
       "pickup_month_4                   1.000000       -0.206050      ...         \n",
       "pickup_month_5                  -0.206050        1.000000      ...         \n",
       "pickup_month_6                  -0.198667       -0.196453      ...         \n",
       "pickup_hour_0                    0.000504        0.001231      ...         \n",
       "pickup_hour_1                    0.001744        0.001372      ...         \n",
       "pickup_hour_10                   0.001364        0.000705      ...         \n",
       "pickup_hour_11                  -0.000969        0.002110      ...         \n",
       "pickup_hour_12                  -0.002065        0.000091      ...         \n",
       "pickup_hour_13                  -0.002464        0.001005      ...         \n",
       "pickup_hour_14                  -0.001009        0.001471      ...         \n",
       "pickup_hour_15                  -0.000751        0.000081      ...         \n",
       "pickup_hour_16                  -0.002028       -0.001793      ...         \n",
       "pickup_hour_17                  -0.001831       -0.001227      ...         \n",
       "pickup_hour_18                  -0.001574       -0.003807      ...         \n",
       "pickup_hour_19                   0.000206       -0.001985      ...         \n",
       "pickup_hour_2                    0.001895        0.002260      ...         \n",
       "pickup_hour_20                   0.003757       -0.001192      ...         \n",
       "pickup_hour_21                   0.001541       -0.000664      ...         \n",
       "pickup_hour_22                   0.001775       -0.000442      ...         \n",
       "pickup_hour_23                   0.003577        0.001174      ...         \n",
       "pickup_hour_3                    0.000705        0.001536      ...         \n",
       "pickup_hour_4                   -0.003247        0.003008      ...         \n",
       "pickup_hour_5                   -0.001865        0.002322      ...         \n",
       "pickup_hour_6                   -0.001515        0.000675      ...         \n",
       "pickup_hour_7                    0.000176        0.000443      ...         \n",
       "pickup_hour_8                   -0.001276       -0.002666      ...         \n",
       "pickup_hour_9                    0.001260        0.000143      ...         \n",
       "pickup_week_day_Friday           0.026210       -0.021248      ...         \n",
       "pickup_week_day_Monday          -0.013234        0.020116      ...         \n",
       "pickup_week_day_Saturday         0.038798       -0.015145      ...         \n",
       "pickup_week_day_Sunday          -0.006998        0.028648      ...         \n",
       "pickup_week_day_Thursday        -0.017772       -0.017721      ...         \n",
       "pickup_week_day_Tuesday         -0.013332        0.025548      ...         \n",
       "pickup_week_day_Wednesday       -0.016079       -0.016918      ...         \n",
       "trip_duration                    0.010684        0.024732      ...         \n",
       "\n",
       "                           pickup_hour_8  pickup_hour_9  \\\n",
       "vendor_id                       0.000362       0.002393   \n",
       "passenger_count                -0.010434      -0.006963   \n",
       "dist                           -0.021132      -0.019851   \n",
       "store_and_fwd_flag_N            0.000952       0.000377   \n",
       "store_and_fwd_flag_Y           -0.000952      -0.000377   \n",
       "pickup_month_1                 -0.001949      -0.003000   \n",
       "pickup_month_2                  0.001338       0.000394   \n",
       "pickup_month_3                  0.002403      -0.001661   \n",
       "pickup_month_4                 -0.001276       0.001260   \n",
       "pickup_month_5                 -0.002666       0.000143   \n",
       "pickup_month_6                  0.002136       0.002876   \n",
       "pickup_hour_0                  -0.042980      -0.043335   \n",
       "pickup_hour_1                  -0.036358      -0.036659   \n",
       "pickup_hour_10                 -0.047765      -0.048159   \n",
       "pickup_hour_11                 -0.048877      -0.049281   \n",
       "pickup_hour_12                 -0.050046      -0.050459   \n",
       "pickup_hour_13                 -0.049829      -0.050241   \n",
       "pickup_hour_14                 -0.050353      -0.050769   \n",
       "pickup_hour_15                 -0.049216      -0.049623   \n",
       "pickup_hour_16                 -0.046272      -0.046654   \n",
       "pickup_hour_17                 -0.051028      -0.051449   \n",
       "pickup_hour_18                 -0.056410      -0.056876   \n",
       "pickup_hour_19                 -0.056775      -0.057243   \n",
       "pickup_hour_2                  -0.030704      -0.030958   \n",
       "pickup_hour_20                 -0.054631      -0.055082   \n",
       "pickup_hour_21                 -0.054878      -0.055331   \n",
       "pickup_hour_22                 -0.053428      -0.053869   \n",
       "pickup_hour_23                 -0.049609      -0.050019   \n",
       "pickup_hour_3                  -0.026581      -0.026800   \n",
       "pickup_hour_4                  -0.022921      -0.023110   \n",
       "pickup_hour_5                  -0.022292      -0.022476   \n",
       "pickup_hour_6                  -0.033411      -0.033686   \n",
       "pickup_hour_7                  -0.043677      -0.044037   \n",
       "pickup_hour_8                   1.000000      -0.048614   \n",
       "pickup_hour_9                  -0.048614       1.000000   \n",
       "pickup_week_day_Friday          0.011876       0.001659   \n",
       "pickup_week_day_Monday          0.015703       0.012216   \n",
       "pickup_week_day_Saturday       -0.042723      -0.022147   \n",
       "pickup_week_day_Sunday         -0.044671      -0.026287   \n",
       "pickup_week_day_Thursday        0.017416       0.008146   \n",
       "pickup_week_day_Tuesday         0.021117       0.013797   \n",
       "pickup_week_day_Wednesday       0.021581       0.013040   \n",
       "trip_duration                  -0.003515       0.007517   \n",
       "\n",
       "                           pickup_week_day_Friday  pickup_week_day_Monday  \\\n",
       "vendor_id                               -0.001254               -0.000871   \n",
       "passenger_count                         -0.000652               -0.009904   \n",
       "dist                                    -0.009388                0.017119   \n",
       "store_and_fwd_flag_N                    -0.000629               -0.002419   \n",
       "store_and_fwd_flag_Y                     0.000629                0.002419   \n",
       "pickup_month_1                           0.033805               -0.014882   \n",
       "pickup_month_2                          -0.005913                0.031019   \n",
       "pickup_month_3                          -0.017842               -0.016114   \n",
       "pickup_month_4                           0.026210               -0.013234   \n",
       "pickup_month_5                          -0.021248                0.020116   \n",
       "pickup_month_6                          -0.014452               -0.006748   \n",
       "pickup_hour_0                            0.006286               -0.027296   \n",
       "pickup_hour_1                           -0.000733               -0.031413   \n",
       "pickup_hour_10                          -0.004200                0.002468   \n",
       "pickup_hour_11                          -0.007508               -0.000116   \n",
       "pickup_hour_12                          -0.006795               -0.000048   \n",
       "pickup_hour_13                          -0.007588               -0.000442   \n",
       "pickup_hour_14                          -0.004149                0.004120   \n",
       "pickup_hour_15                          -0.008730                0.008472   \n",
       "pickup_hour_16                          -0.010701                0.008961   \n",
       "pickup_hour_17                          -0.006673                0.009518   \n",
       "pickup_hour_18                          -0.003899                0.011565   \n",
       "pickup_hour_19                           0.002525                0.005791   \n",
       "pickup_hour_2                           -0.005534               -0.029188   \n",
       "pickup_hour_20                          -0.000904                0.005334   \n",
       "pickup_hour_21                          -0.001366                0.003015   \n",
       "pickup_hour_22                           0.008664               -0.006441   \n",
       "pickup_hour_23                           0.023359               -0.019668   \n",
       "pickup_hour_3                           -0.005106               -0.025142   \n",
       "pickup_hour_4                           -0.001720               -0.013585   \n",
       "pickup_hour_5                            0.003958                0.003794   \n",
       "pickup_hour_6                            0.006705                0.013724   \n",
       "pickup_hour_7                            0.010804                0.015091   \n",
       "pickup_hour_8                            0.011876                0.015703   \n",
       "pickup_hour_9                            0.001659                0.012216   \n",
       "pickup_week_day_Friday                   1.000000               -0.162813   \n",
       "pickup_week_day_Monday                  -0.162813                1.000000   \n",
       "pickup_week_day_Saturday                -0.180421               -0.162888   \n",
       "pickup_week_day_Sunday                  -0.167220               -0.150969   \n",
       "pickup_week_day_Thursday                -0.177598               -0.160339   \n",
       "pickup_week_day_Tuesday                 -0.170875               -0.154269   \n",
       "pickup_week_day_Wednesday               -0.173969               -0.157062   \n",
       "trip_duration                            0.014870               -0.021027   \n",
       "\n",
       "                           pickup_week_day_Saturday  pickup_week_day_Sunday  \\\n",
       "vendor_id                                  0.000845                0.002829   \n",
       "passenger_count                            0.021726                0.016622   \n",
       "dist                                      -0.007927                0.033013   \n",
       "store_and_fwd_flag_N                       0.002584                0.002763   \n",
       "store_and_fwd_flag_Y                      -0.002584               -0.002763   \n",
       "pickup_month_1                             0.000103                0.010287   \n",
       "pickup_month_2                             0.000869               -0.000597   \n",
       "pickup_month_3                            -0.011275               -0.016583   \n",
       "pickup_month_4                             0.038798               -0.006998   \n",
       "pickup_month_5                            -0.015145                0.028648   \n",
       "pickup_month_6                            -0.013778               -0.014531   \n",
       "pickup_hour_0                              0.035894                0.056625   \n",
       "pickup_hour_1                              0.049640                0.071804   \n",
       "pickup_hour_10                            -0.005728               -0.000619   \n",
       "pickup_hour_11                            -0.000713                0.008791   \n",
       "pickup_hour_12                             0.003563                0.009591   \n",
       "pickup_hour_13                             0.005249                0.010004   \n",
       "pickup_hour_14                            -0.001980                0.005980   \n",
       "pickup_hour_15                             0.001568                0.006096   \n",
       "pickup_hour_16                             0.004970                0.013630   \n",
       "pickup_hour_17                            -0.001640                0.004648   \n",
       "pickup_hour_18                            -0.006978               -0.009038   \n",
       "pickup_hour_19                            -0.006077               -0.018185   \n",
       "pickup_hour_2                              0.055723                0.072190   \n",
       "pickup_hour_20                            -0.013035               -0.019232   \n",
       "pickup_hour_21                            -0.012331               -0.022928   \n",
       "pickup_hour_22                             0.001464               -0.026906   \n",
       "pickup_hour_23                             0.023346               -0.028362   \n",
       "pickup_hour_3                              0.046528                0.070015   \n",
       "pickup_hour_4                              0.026378                0.045964   \n",
       "pickup_hour_5                             -0.005977               -0.000204   \n",
       "pickup_hour_6                             -0.031849               -0.030681   \n",
       "pickup_hour_7                             -0.047440               -0.048856   \n",
       "pickup_hour_8                             -0.042723               -0.044671   \n",
       "pickup_hour_9                             -0.022147               -0.026287   \n",
       "pickup_week_day_Friday                    -0.180421               -0.167220   \n",
       "pickup_week_day_Monday                    -0.162888               -0.150969   \n",
       "pickup_week_day_Saturday                   1.000000               -0.167296   \n",
       "pickup_week_day_Sunday                    -0.167296                1.000000   \n",
       "pickup_week_day_Thursday                  -0.177680               -0.164679   \n",
       "pickup_week_day_Tuesday                   -0.170953               -0.158445   \n",
       "pickup_week_day_Wednesday                 -0.174048               -0.161313   \n",
       "trip_duration                             -0.024490               -0.042765   \n",
       "\n",
       "                           pickup_week_day_Thursday  pickup_week_day_Tuesday  \\\n",
       "vendor_id                                 -0.001866                 0.002119   \n",
       "passenger_count                           -0.009074                -0.009162   \n",
       "dist                                      -0.009279                -0.008553   \n",
       "store_and_fwd_flag_N                      -0.001160                -0.000376   \n",
       "store_and_fwd_flag_Y                       0.001160                 0.000376   \n",
       "pickup_month_1                            -0.010357                -0.011119   \n",
       "pickup_month_2                            -0.004397                -0.010703   \n",
       "pickup_month_3                             0.020832                 0.019298   \n",
       "pickup_month_4                            -0.017772                -0.013332   \n",
       "pickup_month_5                            -0.017721                 0.025548   \n",
       "pickup_month_6                             0.029610                -0.010569   \n",
       "pickup_hour_0                             -0.016996                -0.031141   \n",
       "pickup_hour_1                             -0.025903                -0.034600   \n",
       "pickup_hour_10                             0.001134                 0.003829   \n",
       "pickup_hour_11                            -0.002676                 0.002272   \n",
       "pickup_hour_12                            -0.003176                -0.002404   \n",
       "pickup_hour_13                            -0.004495                 0.000027   \n",
       "pickup_hour_14                            -0.003187                 0.001287   \n",
       "pickup_hour_15                            -0.003240                 0.000993   \n",
       "pickup_hour_16                            -0.009700                 0.000433   \n",
       "pickup_hour_17                            -0.007438                 0.003523   \n",
       "pickup_hour_18                            -0.000173                 0.008262   \n",
       "pickup_hour_19                             0.004697                 0.004679   \n",
       "pickup_hour_2                             -0.028138                -0.035061   \n",
       "pickup_hour_20                             0.009471                 0.008627   \n",
       "pickup_hour_21                             0.013380                 0.009200   \n",
       "pickup_hour_22                             0.011471                 0.003202   \n",
       "pickup_hour_23                             0.011362                -0.009962   \n",
       "pickup_hour_3                             -0.025712                -0.031746   \n",
       "pickup_hour_4                             -0.017325                -0.020207   \n",
       "pickup_hour_5                             -0.000073                 0.000021   \n",
       "pickup_hour_6                              0.013513                 0.015124   \n",
       "pickup_hour_7                              0.021725                 0.023619   \n",
       "pickup_hour_8                              0.017416                 0.021117   \n",
       "pickup_hour_9                              0.008146                 0.013797   \n",
       "pickup_week_day_Friday                    -0.177598                -0.170875   \n",
       "pickup_week_day_Monday                    -0.160339                -0.154269   \n",
       "pickup_week_day_Saturday                  -0.177680                -0.170953   \n",
       "pickup_week_day_Sunday                    -0.164679                -0.158445   \n",
       "pickup_week_day_Thursday                   1.000000                -0.168278   \n",
       "pickup_week_day_Tuesday                   -0.168278                 1.000000   \n",
       "pickup_week_day_Wednesday                 -0.171325                -0.164839   \n",
       "trip_duration                              0.034508                 0.012247   \n",
       "\n",
       "                           pickup_week_day_Wednesday  trip_duration  \n",
       "vendor_id                                  -0.001698       0.003241  \n",
       "passenger_count                            -0.010086       0.011499  \n",
       "dist                                       -0.012774       0.613865  \n",
       "store_and_fwd_flag_N                       -0.000839      -0.021150  \n",
       "store_and_fwd_flag_Y                        0.000839       0.021150  \n",
       "pickup_month_1                             -0.009107      -0.028690  \n",
       "pickup_month_2                             -0.008775      -0.024756  \n",
       "pickup_month_3                              0.021148      -0.009892  \n",
       "pickup_month_4                             -0.016079       0.010684  \n",
       "pickup_month_5                             -0.016918       0.024732  \n",
       "pickup_month_6                              0.029898       0.027632  \n",
       "pickup_hour_0                              -0.024305      -0.006063  \n",
       "pickup_hour_1                              -0.029583      -0.018631  \n",
       "pickup_hour_10                              0.003503       0.010007  \n",
       "pickup_hour_11                              0.000473       0.017816  \n",
       "pickup_hour_12                             -0.000365       0.020492  \n",
       "pickup_hour_13                             -0.002369       0.021672  \n",
       "pickup_hour_14                             -0.001486       0.026020  \n",
       "pickup_hour_15                             -0.004345       0.023006  \n",
       "pickup_hour_16                             -0.006493       0.013114  \n",
       "pickup_hour_17                             -0.000991       0.015572  \n",
       "pickup_hour_18                              0.000940       0.008048  \n",
       "pickup_hour_19                              0.006415      -0.010493  \n",
       "pickup_hour_2                              -0.030672      -0.022838  \n",
       "pickup_hour_20                              0.009781      -0.017502  \n",
       "pickup_hour_21                              0.010802      -0.011413  \n",
       "pickup_hour_22                              0.007095      -0.000342  \n",
       "pickup_hour_23                             -0.003301       0.004335  \n",
       "pickup_hour_3                              -0.029154      -0.019911  \n",
       "pickup_hour_4                              -0.019496      -0.009169  \n",
       "pickup_hour_5                              -0.001291      -0.014742  \n",
       "pickup_hour_6                               0.013895      -0.047871  \n",
       "pickup_hour_7                               0.025328      -0.035255  \n",
       "pickup_hour_8                               0.021581      -0.003515  \n",
       "pickup_hour_9                               0.013040       0.007517  \n",
       "pickup_week_day_Friday                     -0.173969       0.014870  \n",
       "pickup_week_day_Monday                     -0.157062      -0.021027  \n",
       "pickup_week_day_Saturday                   -0.174048      -0.024490  \n",
       "pickup_week_day_Sunday                     -0.161313      -0.042765  \n",
       "pickup_week_day_Thursday                   -0.171325       0.034508  \n",
       "pickup_week_day_Tuesday                    -0.164839       0.012247  \n",
       "pickup_week_day_Wednesday                   1.000000       0.024365  \n",
       "trip_duration                               0.024365       1.000000  \n",
       "\n",
       "[43 rows x 43 columns]"
      ]
     },
     "execution_count": 84,
     "metadata": {},
     "output_type": "execute_result"
    }
   ],
   "source": [
    "full.corr()"
   ]
  },
  {
   "cell_type": "code",
   "execution_count": 85,
   "metadata": {
    "collapsed": true
   },
   "outputs": [],
   "source": [
    "# from sklearn.neighbors import KNeighborsRegressor\n",
    "# neigh = KNeighborsRegressor(n_neighbors=2)\n",
    "# neigh.fit(X_train, y_train) \n",
    "# pred = neigh.predict(X_test).astype(int)"
   ]
  },
  {
   "cell_type": "code",
   "execution_count": 86,
   "metadata": {
    "collapsed": true
   },
   "outputs": [],
   "source": [
    "# score = performance_metric(y_test, regr.predict(X_test))\n",
    "# print score"
   ]
  },
  {
   "cell_type": "code",
   "execution_count": 87,
   "metadata": {
    "collapsed": true
   },
   "outputs": [],
   "source": [
    "\n",
    "# result_df = pd.DataFrame({\"trip_duration\":pred}, index = df_test['id'])\n",
    "# result_df.to_csv(\"result4.csv\")"
   ]
  },
  {
   "cell_type": "markdown",
   "metadata": {},
   "source": [
    "# nearest centroid"
   ]
  },
  {
   "cell_type": "code",
   "execution_count": 88,
   "metadata": {
    "collapsed": false
   },
   "outputs": [],
   "source": [
    "# from sklearn.neighbors.nearest_centroid import NearestCentroid"
   ]
  },
  {
   "cell_type": "code",
   "execution_count": 89,
   "metadata": {
    "collapsed": false
   },
   "outputs": [
    {
     "ename": "MemoryError",
     "evalue": "",
     "output_type": "error",
     "traceback": [
      "\u001b[1;31m---------------------------------------------------------------------------\u001b[0m",
      "\u001b[1;31mMemoryError\u001b[0m                               Traceback (most recent call last)",
      "\u001b[1;32m<ipython-input-89-fd3e50742205>\u001b[0m in \u001b[0;36m<module>\u001b[1;34m()\u001b[0m\n\u001b[0;32m      1\u001b[0m \u001b[0mcentroid\u001b[0m \u001b[1;33m=\u001b[0m \u001b[0mNearestCentroid\u001b[0m\u001b[1;33m(\u001b[0m\u001b[1;33m)\u001b[0m\u001b[1;33m\u001b[0m\u001b[0m\n\u001b[0;32m      2\u001b[0m \u001b[0mcentroid\u001b[0m\u001b[1;33m.\u001b[0m\u001b[0mfit\u001b[0m\u001b[1;33m(\u001b[0m\u001b[0mX_train\u001b[0m\u001b[1;33m,\u001b[0m \u001b[0my_train\u001b[0m\u001b[1;33m)\u001b[0m\u001b[1;33m\u001b[0m\u001b[0m\n\u001b[1;32m----> 3\u001b[1;33m \u001b[0mpred\u001b[0m \u001b[1;33m=\u001b[0m \u001b[0mcentroid\u001b[0m\u001b[1;33m.\u001b[0m\u001b[0mpredict\u001b[0m\u001b[1;33m(\u001b[0m\u001b[0mdf_test_dum\u001b[0m\u001b[1;33m)\u001b[0m\u001b[1;33m.\u001b[0m\u001b[0mastype\u001b[0m\u001b[1;33m(\u001b[0m\u001b[0mint\u001b[0m\u001b[1;33m)\u001b[0m\u001b[1;33m\u001b[0m\u001b[0m\n\u001b[0m",
      "\u001b[1;32m/home/yanyan/anaconda/lib/python2.7/site-packages/sklearn/neighbors/nearest_centroid.pyc\u001b[0m in \u001b[0;36mpredict\u001b[1;34m(self, X)\u001b[0m\n\u001b[0;32m    189\u001b[0m         \u001b[0mX\u001b[0m \u001b[1;33m=\u001b[0m \u001b[0mcheck_array\u001b[0m\u001b[1;33m(\u001b[0m\u001b[0mX\u001b[0m\u001b[1;33m,\u001b[0m \u001b[0maccept_sparse\u001b[0m\u001b[1;33m=\u001b[0m\u001b[1;34m'csr'\u001b[0m\u001b[1;33m)\u001b[0m\u001b[1;33m\u001b[0m\u001b[0m\n\u001b[0;32m    190\u001b[0m         return self.classes_[pairwise_distances(\n\u001b[1;32m--> 191\u001b[1;33m             X, self.centroids_, metric=self.metric).argmin(axis=1)]\n\u001b[0m",
      "\u001b[1;32m/home/yanyan/anaconda/lib/python2.7/site-packages/sklearn/metrics/pairwise.pyc\u001b[0m in \u001b[0;36mpairwise_distances\u001b[1;34m(X, Y, metric, n_jobs, **kwds)\u001b[0m\n\u001b[0;32m   1238\u001b[0m         \u001b[0mfunc\u001b[0m \u001b[1;33m=\u001b[0m \u001b[0mpartial\u001b[0m\u001b[1;33m(\u001b[0m\u001b[0mdistance\u001b[0m\u001b[1;33m.\u001b[0m\u001b[0mcdist\u001b[0m\u001b[1;33m,\u001b[0m \u001b[0mmetric\u001b[0m\u001b[1;33m=\u001b[0m\u001b[0mmetric\u001b[0m\u001b[1;33m,\u001b[0m \u001b[1;33m**\u001b[0m\u001b[0mkwds\u001b[0m\u001b[1;33m)\u001b[0m\u001b[1;33m\u001b[0m\u001b[0m\n\u001b[0;32m   1239\u001b[0m \u001b[1;33m\u001b[0m\u001b[0m\n\u001b[1;32m-> 1240\u001b[1;33m     \u001b[1;32mreturn\u001b[0m \u001b[0m_parallel_pairwise\u001b[0m\u001b[1;33m(\u001b[0m\u001b[0mX\u001b[0m\u001b[1;33m,\u001b[0m \u001b[0mY\u001b[0m\u001b[1;33m,\u001b[0m \u001b[0mfunc\u001b[0m\u001b[1;33m,\u001b[0m \u001b[0mn_jobs\u001b[0m\u001b[1;33m,\u001b[0m \u001b[1;33m**\u001b[0m\u001b[0mkwds\u001b[0m\u001b[1;33m)\u001b[0m\u001b[1;33m\u001b[0m\u001b[0m\n\u001b[0m\u001b[0;32m   1241\u001b[0m \u001b[1;33m\u001b[0m\u001b[0m\n\u001b[0;32m   1242\u001b[0m \u001b[1;33m\u001b[0m\u001b[0m\n",
      "\u001b[1;32m/home/yanyan/anaconda/lib/python2.7/site-packages/sklearn/metrics/pairwise.pyc\u001b[0m in \u001b[0;36m_parallel_pairwise\u001b[1;34m(X, Y, func, n_jobs, **kwds)\u001b[0m\n\u001b[0;32m   1081\u001b[0m     \u001b[1;32mif\u001b[0m \u001b[0mn_jobs\u001b[0m \u001b[1;33m==\u001b[0m \u001b[1;36m1\u001b[0m\u001b[1;33m:\u001b[0m\u001b[1;33m\u001b[0m\u001b[0m\n\u001b[0;32m   1082\u001b[0m         \u001b[1;31m# Special case to avoid picklability checks in delayed\u001b[0m\u001b[1;33m\u001b[0m\u001b[1;33m\u001b[0m\u001b[0m\n\u001b[1;32m-> 1083\u001b[1;33m         \u001b[1;32mreturn\u001b[0m \u001b[0mfunc\u001b[0m\u001b[1;33m(\u001b[0m\u001b[0mX\u001b[0m\u001b[1;33m,\u001b[0m \u001b[0mY\u001b[0m\u001b[1;33m,\u001b[0m \u001b[1;33m**\u001b[0m\u001b[0mkwds\u001b[0m\u001b[1;33m)\u001b[0m\u001b[1;33m\u001b[0m\u001b[0m\n\u001b[0m\u001b[0;32m   1084\u001b[0m \u001b[1;33m\u001b[0m\u001b[0m\n\u001b[0;32m   1085\u001b[0m     \u001b[1;31m# TODO: in some cases, backend='threading' may be appropriate\u001b[0m\u001b[1;33m\u001b[0m\u001b[1;33m\u001b[0m\u001b[0m\n",
      "\u001b[1;32m/home/yanyan/anaconda/lib/python2.7/site-packages/sklearn/metrics/pairwise.pyc\u001b[0m in \u001b[0;36meuclidean_distances\u001b[1;34m(X, Y, Y_norm_squared, squared, X_norm_squared)\u001b[0m\n\u001b[0;32m    243\u001b[0m         \u001b[0mYY\u001b[0m \u001b[1;33m=\u001b[0m \u001b[0mrow_norms\u001b[0m\u001b[1;33m(\u001b[0m\u001b[0mY\u001b[0m\u001b[1;33m,\u001b[0m \u001b[0msquared\u001b[0m\u001b[1;33m=\u001b[0m\u001b[0mTrue\u001b[0m\u001b[1;33m)\u001b[0m\u001b[1;33m[\u001b[0m\u001b[0mnp\u001b[0m\u001b[1;33m.\u001b[0m\u001b[0mnewaxis\u001b[0m\u001b[1;33m,\u001b[0m \u001b[1;33m:\u001b[0m\u001b[1;33m]\u001b[0m\u001b[1;33m\u001b[0m\u001b[0m\n\u001b[0;32m    244\u001b[0m \u001b[1;33m\u001b[0m\u001b[0m\n\u001b[1;32m--> 245\u001b[1;33m     \u001b[0mdistances\u001b[0m \u001b[1;33m=\u001b[0m \u001b[0msafe_sparse_dot\u001b[0m\u001b[1;33m(\u001b[0m\u001b[0mX\u001b[0m\u001b[1;33m,\u001b[0m \u001b[0mY\u001b[0m\u001b[1;33m.\u001b[0m\u001b[0mT\u001b[0m\u001b[1;33m,\u001b[0m \u001b[0mdense_output\u001b[0m\u001b[1;33m=\u001b[0m\u001b[0mTrue\u001b[0m\u001b[1;33m)\u001b[0m\u001b[1;33m\u001b[0m\u001b[0m\n\u001b[0m\u001b[0;32m    246\u001b[0m     \u001b[0mdistances\u001b[0m \u001b[1;33m*=\u001b[0m \u001b[1;33m-\u001b[0m\u001b[1;36m2\u001b[0m\u001b[1;33m\u001b[0m\u001b[0m\n\u001b[0;32m    247\u001b[0m     \u001b[0mdistances\u001b[0m \u001b[1;33m+=\u001b[0m \u001b[0mXX\u001b[0m\u001b[1;33m\u001b[0m\u001b[0m\n",
      "\u001b[1;32m/home/yanyan/anaconda/lib/python2.7/site-packages/sklearn/utils/extmath.pyc\u001b[0m in \u001b[0;36msafe_sparse_dot\u001b[1;34m(a, b, dense_output)\u001b[0m\n\u001b[0;32m    187\u001b[0m         \u001b[1;32mreturn\u001b[0m \u001b[0mret\u001b[0m\u001b[1;33m\u001b[0m\u001b[0m\n\u001b[0;32m    188\u001b[0m     \u001b[1;32melse\u001b[0m\u001b[1;33m:\u001b[0m\u001b[1;33m\u001b[0m\u001b[0m\n\u001b[1;32m--> 189\u001b[1;33m         \u001b[1;32mreturn\u001b[0m \u001b[0mfast_dot\u001b[0m\u001b[1;33m(\u001b[0m\u001b[0ma\u001b[0m\u001b[1;33m,\u001b[0m \u001b[0mb\u001b[0m\u001b[1;33m)\u001b[0m\u001b[1;33m\u001b[0m\u001b[0m\n\u001b[0m\u001b[0;32m    190\u001b[0m \u001b[1;33m\u001b[0m\u001b[0m\n\u001b[0;32m    191\u001b[0m \u001b[1;33m\u001b[0m\u001b[0m\n",
      "\u001b[1;31mMemoryError\u001b[0m: "
     ]
    }
   ],
   "source": [
    "# centroid = NearestCentroid()\n",
    "# centroid.fit(X_train, y_train) \n",
    "# pred = centroid.predict(df_test_dum).astype(int)"
   ]
  },
  {
   "cell_type": "code",
   "execution_count": null,
   "metadata": {
    "collapsed": true
   },
   "outputs": [],
   "source": [
    "score = performance_metric(y_test, regr.predict(X_test))\n",
    "print score"
   ]
  },
  {
   "cell_type": "code",
   "execution_count": null,
   "metadata": {
    "collapsed": true
   },
   "outputs": [],
   "source": [
    "result_df = pd.DataFrame({\"trip_duration\":pred}, index = df_test['id'])\n",
    "result_df.to_csv(\"result5.csv\")"
   ]
  },
  {
   "cell_type": "markdown",
   "metadata": {},
   "source": [
    "#lesso "
   ]
  },
  {
   "cell_type": "code",
   "execution_count": 91,
   "metadata": {
    "collapsed": true
   },
   "outputs": [],
   "source": [
    "from sklearn import linear_model"
   ]
  },
  {
   "cell_type": "code",
   "execution_count": 92,
   "metadata": {
    "collapsed": true
   },
   "outputs": [],
   "source": [
    "clf = linear_model.Lasso(alpha=0.1)"
   ]
  },
  {
   "cell_type": "code",
   "execution_count": 94,
   "metadata": {
    "collapsed": false
   },
   "outputs": [
    {
     "name": "stdout",
     "output_type": "stream",
     "text": [
      "[ -2.57693495e+00   3.68404729e+00   6.97500562e+04  -2.42640995e+01\n",
      "   2.68010558e-13  -4.88272924e+01  -4.05304892e+01  -2.97385795e+01\n",
      "   1.48212892e-02   1.58324840e+01   1.75119148e+01  -2.60072875e+01\n",
      "  -5.61976572e+01   6.36326305e+01   8.24094369e+01   8.73002057e+01\n",
      "   8.34003387e+01   9.75941806e+01   1.00438667e+02   8.30171738e+01\n",
      "   8.95674144e+01   6.99195624e+01   1.50707945e+01  -6.63741279e+01\n",
      "  -2.35419771e+01  -2.22190397e+01  -6.61188916e+00  -1.53554964e+01\n",
      "  -8.78441578e+01  -1.36123909e+02  -2.51017238e+02  -2.16930282e+02\n",
      "  -7.76317947e+01   3.11506567e+01   5.97067944e+01   9.94103362e+00\n",
      "  -6.50062159e+01  -4.16904871e+01  -1.00161984e+02   3.06358509e+01\n",
      "   0.00000000e+00   1.95553224e+01]\n"
     ]
    }
   ],
   "source": [
    "clf.fit(X_train, y_train) \n",
    "\n",
    "print(clf.coef_)\n"
   ]
  },
  {
   "cell_type": "code",
   "execution_count": 96,
   "metadata": {
    "collapsed": false
   },
   "outputs": [
    {
     "name": "stdout",
     "output_type": "stream",
     "text": [
      "0.338899198341\n"
     ]
    }
   ],
   "source": [
    "pred = clf.predict(df_test_dum).astype(int)\n",
    "score = performance_metric(y_test, regr.predict(X_test))\n",
    "print score"
   ]
  },
  {
   "cell_type": "code",
   "execution_count": null,
   "metadata": {
    "collapsed": true
   },
   "outputs": [],
   "source": [
    "result_df = pd.DataFrame({\"trip_duration\":pred}, index = df_test['id'])\n",
    "result_df.to_csv(\"result5.csv\")"
   ]
  },
  {
   "cell_type": "markdown",
   "metadata": {},
   "source": [
    "#GradientBoostingRegressor\n"
   ]
  },
  {
   "cell_type": "code",
   "execution_count": 105,
   "metadata": {
    "collapsed": true
   },
   "outputs": [],
   "source": [
    "from sklearn.ensemble import GradientBoostingRegressor"
   ]
  },
  {
   "cell_type": "code",
   "execution_count": 106,
   "metadata": {
    "collapsed": false
   },
   "outputs": [
    {
     "data": {
      "text/plain": [
       "GradientBoostingRegressor(alpha=0.95, criterion='friedman_mse', init=None,\n",
       "             learning_rate=0.1, loss='quantile', max_depth=3,\n",
       "             max_features=None, max_leaf_nodes=None,\n",
       "             min_impurity_split=1e-07, min_samples_leaf=9,\n",
       "             min_samples_split=9, min_weight_fraction_leaf=0.0,\n",
       "             n_estimators=250, presort='auto', random_state=None,\n",
       "             subsample=1.0, verbose=0, warm_start=False)"
      ]
     },
     "execution_count": 106,
     "metadata": {},
     "output_type": "execute_result"
    }
   ],
   "source": [
    "alpha = 0.95\n",
    "clf = GradientBoostingRegressor(loss='quantile', alpha=alpha,\n",
    "                                n_estimators=250, max_depth=3,\n",
    "                                learning_rate=.1, min_samples_leaf=9,\n",
    "                                min_samples_split=9)\n",
    "clf.fit(X_train, y_train) "
   ]
  },
  {
   "cell_type": "code",
   "execution_count": 107,
   "metadata": {
    "collapsed": false
   },
   "outputs": [
    {
     "name": "stdout",
     "output_type": "stream",
     "text": [
      "0.443821285565\n"
     ]
    }
   ],
   "source": [
    "pred = clf.predict(df_test_dum).astype(int)\n",
    "score = performance_metric(y_test, regr.predict(X_test))\n",
    "print score"
   ]
  }
 ],
 "metadata": {
  "kernelspec": {
   "display_name": "Python 2",
   "language": "python",
   "name": "python2"
  },
  "language_info": {
   "codemirror_mode": {
    "name": "ipython",
    "version": 2
   },
   "file_extension": ".py",
   "mimetype": "text/x-python",
   "name": "python",
   "nbconvert_exporter": "python",
   "pygments_lexer": "ipython2",
   "version": "2.7.13"
  }
 },
 "nbformat": 4,
 "nbformat_minor": 0
}
